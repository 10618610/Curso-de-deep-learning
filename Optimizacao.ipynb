{
 "cells": [
  {
   "cell_type": "markdown",
   "id": "51b72f81",
   "metadata": {},
   "source": [
    "#### Alternativas ao GD\n",
    "\n",
    "![gradientnomomentuim](http://www.eleven-lab.co.jp/blog/wp-content/uploads/2019/08/nomomentum1d.gif)\n",
    "\n",
    "![gradientmomentuim](http://www.eleven-lab.co.jp/blog/wp-content/uploads/2019/08/momentum1d.gif)\n",
    "\n",
    "![gradientall](https://miro.medium.com/max/620/0*wWp-AHgQr-agFkwX.gif)\n"
   ]
  },
  {
   "cell_type": "code",
   "execution_count": null,
   "id": "b9bce676",
   "metadata": {},
   "outputs": [],
   "source": []
  }
 ],
 "metadata": {
  "kernelspec": {
   "display_name": "Python 3 (ipykernel)",
   "language": "python",
   "name": "python3"
  },
  "language_info": {
   "codemirror_mode": {
    "name": "ipython",
    "version": 3
   },
   "file_extension": ".py",
   "mimetype": "text/x-python",
   "name": "python",
   "nbconvert_exporter": "python",
   "pygments_lexer": "ipython3",
   "version": "3.11.4"
  }
 },
 "nbformat": 4,
 "nbformat_minor": 5
}
