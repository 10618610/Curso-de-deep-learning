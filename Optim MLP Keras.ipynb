{
 "cells": [
  {
   "cell_type": "markdown",
   "metadata": {
    "colab_type": "text",
    "id": "DjlnjPnjWYFw"
   },
   "source": [
    "## Imports"
   ]
  },
  {
   "cell_type": "code",
   "execution_count": 2,
   "metadata": {
    "colab": {},
    "colab_type": "code",
    "id": "yt0-hrch6rZw"
   },
   "outputs": [],
   "source": [
    "import numpy as np\n",
    "import datetime\n",
    "import tensorflow as tf\n",
    "from tensorflow.keras.datasets import fashion_mnist"
   ]
  },
  {
   "cell_type": "markdown",
   "metadata": {
    "colab_type": "text",
    "id": "K2OiUS-kWkJU"
   },
   "source": [
    "## Preprocessing\n",
    "\n",
    "<img src='minifashion.png'>"
   ]
  },
  {
   "cell_type": "markdown",
   "metadata": {
    "colab_type": "text",
    "id": "DdfoFiEEXYj1"
   },
   "source": [
    "### Load dataset"
   ]
  },
  {
   "cell_type": "code",
   "execution_count": 3,
   "metadata": {
    "colab": {},
    "colab_type": "code",
    "id": "-lCgz6UC8pKT"
   },
   "outputs": [],
   "source": [
    "(X_train, y_train), (X_test, y_test) = fashion_mnist.load_data()"
   ]
  },
  {
   "cell_type": "markdown",
   "metadata": {
    "colab_type": "text",
    "id": "AYxeEHzDXdSs"
   },
   "source": [
    "### Data normalization"
   ]
  },
  {
   "cell_type": "code",
   "execution_count": 4,
   "metadata": {
    "colab": {},
    "colab_type": "code",
    "id": "zvWzsB3G9IU8"
   },
   "outputs": [],
   "source": [
    "X_train = X_train / 255.0\n",
    "X_test = X_test / 255.0"
   ]
  },
  {
   "cell_type": "markdown",
   "metadata": {
    "colab_type": "text",
    "id": "uBacLmGIX0Es"
   },
   "source": [
    "### Reshaping"
   ]
  },
  {
   "cell_type": "code",
   "execution_count": 5,
   "metadata": {
    "colab": {
     "base_uri": "https://localhost:8080/",
     "height": 34
    },
    "colab_type": "code",
    "executionInfo": {
     "elapsed": 1362,
     "status": "ok",
     "timestamp": 1591637001525,
     "user": {
      "displayName": "Dalcimar Casanova",
      "photoUrl": "https://lh3.googleusercontent.com/a-/AOh14GgZzFT0FCo6nTJjXLoCVlWF617XKFK9oco_RLrc-A=s64",
      "userId": "01490701818826847808"
     },
     "user_tz": 180
    },
    "id": "2Tao7pom-grn",
    "outputId": "33a240b0-d768-46d2-8d13-e402687699ec"
   },
   "outputs": [
    {
     "data": {
      "text/plain": [
       "(60000, 784)"
      ]
     },
     "execution_count": 5,
     "metadata": {},
     "output_type": "execute_result"
    }
   ],
   "source": [
    "X_train = X_train.reshape(-1, 28*28)\n",
    "X_train.shape"
   ]
  },
  {
   "cell_type": "code",
   "execution_count": 6,
   "metadata": {
    "colab": {
     "base_uri": "https://localhost:8080/",
     "height": 34
    },
    "colab_type": "code",
    "executionInfo": {
     "elapsed": 1356,
     "status": "ok",
     "timestamp": 1591637001526,
     "user": {
      "displayName": "Dalcimar Casanova",
      "photoUrl": "https://lh3.googleusercontent.com/a-/AOh14GgZzFT0FCo6nTJjXLoCVlWF617XKFK9oco_RLrc-A=s64",
      "userId": "01490701818826847808"
     },
     "user_tz": 180
    },
    "id": "Y_duQGtbCTTL",
    "outputId": "e56147ae-56ed-415d-f66d-741c0bb82c2d"
   },
   "outputs": [
    {
     "data": {
      "text/plain": [
       "(10000, 784)"
      ]
     },
     "execution_count": 6,
     "metadata": {},
     "output_type": "execute_result"
    }
   ],
   "source": [
    "X_test = X_test.reshape(-1, 28*28)\n",
    "X_test.shape"
   ]
  },
  {
   "cell_type": "markdown",
   "metadata": {
    "colab_type": "text",
    "id": "x5aDsaYSYmXD"
   },
   "source": [
    "## Learning"
   ]
  },
  {
   "cell_type": "markdown",
   "metadata": {
    "colab_type": "text",
    "id": "l30aZ6-GYtUP"
   },
   "source": [
    "### Building MLP\n",
    "\n"
   ]
  },
  {
   "cell_type": "code",
   "execution_count": 18,
   "metadata": {
    "colab": {
     "base_uri": "https://localhost:8080/",
     "height": 286
    },
    "colab_type": "code",
    "executionInfo": {
     "elapsed": 1351,
     "status": "ok",
     "timestamp": 1591637001527,
     "user": {
      "displayName": "Dalcimar Casanova",
      "photoUrl": "https://lh3.googleusercontent.com/a-/AOh14GgZzFT0FCo6nTJjXLoCVlWF617XKFK9oco_RLrc-A=s64",
      "userId": "01490701818826847808"
     },
     "user_tz": 180
    },
    "id": "xmfogzmn9kqv",
    "outputId": "bc941434-7b08-4130-e763-102070d70190"
   },
   "outputs": [
    {
     "name": "stdout",
     "output_type": "stream",
     "text": [
      "Model: \"sequential_4\"\n",
      "_________________________________________________________________\n",
      "Layer (type)                 Output Shape              Param #   \n",
      "=================================================================\n",
      "dense_9 (Dense)              (None, 128)               100480    \n",
      "_________________________________________________________________\n",
      "dropout_5 (Dropout)          (None, 128)               0         \n",
      "_________________________________________________________________\n",
      "batch_normalization_5 (Batch (None, 128)               512       \n",
      "_________________________________________________________________\n",
      "dense_10 (Dense)             (None, 200)               25800     \n",
      "_________________________________________________________________\n",
      "dropout_6 (Dropout)          (None, 200)               0         \n",
      "_________________________________________________________________\n",
      "batch_normalization_6 (Batch (None, 200)               800       \n",
      "_________________________________________________________________\n",
      "dense_11 (Dense)             (None, 100)               20100     \n",
      "_________________________________________________________________\n",
      "dropout_7 (Dropout)          (None, 100)               0         \n",
      "_________________________________________________________________\n",
      "batch_normalization_7 (Batch (None, 100)               400       \n",
      "_________________________________________________________________\n",
      "dense_12 (Dense)             (None, 10)                1010      \n",
      "=================================================================\n",
      "Total params: 149,102\n",
      "Trainable params: 148,246\n",
      "Non-trainable params: 856\n",
      "_________________________________________________________________\n"
     ]
    }
   ],
   "source": [
    "model = tf.keras.models.Sequential()\n",
    "model.add(tf.keras.Input(shape=784, ))\n",
    "model.add(tf.keras.layers.Dense(units=128, activation='relu'))\n",
    "model.add(tf.keras.layers.Dropout(0.2))\n",
    "model.add(tf.keras.layers.BatchNormalization())\n",
    "model.add(tf.keras.layers.Dense(units=200, activation='relu'))\n",
    "model.add(tf.keras.layers.Dropout(0.5))\n",
    "model.add(tf.keras.layers.BatchNormalization())\n",
    "model.add(tf.keras.layers.Dense(units=100, activation='relu'))\n",
    "model.add(tf.keras.layers.Dropout(0.2))\n",
    "model.add(tf.keras.layers.BatchNormalization())\n",
    "model.add(tf.keras.layers.Dense(units=10, activation='softmax'))\n",
    "\n",
    "opt = tf.keras.optimizers.Adam(learning_rate=0.001,beta_1 = 0.9,beta_2 = 0.9999)\n",
    "model.compile(optimizer=opt, loss='sparse_categorical_crossentropy', metrics=['sparse_categorical_accuracy'])\n",
    "\n",
    "model.summary()"
   ]
  },
  {
   "cell_type": "markdown",
   "metadata": {
    "colab_type": "text",
    "id": "9kxIIFU1cany"
   },
   "source": [
    "### Train"
   ]
  },
  {
   "cell_type": "code",
   "execution_count": 19,
   "metadata": {
    "colab": {
     "base_uri": "https://localhost:8080/",
     "height": 185
    },
    "colab_type": "code",
    "executionInfo": {
     "elapsed": 11304,
     "status": "ok",
     "timestamp": 1591637011486,
     "user": {
      "displayName": "Dalcimar Casanova",
      "photoUrl": "https://lh3.googleusercontent.com/a-/AOh14GgZzFT0FCo6nTJjXLoCVlWF617XKFK9oco_RLrc-A=s64",
      "userId": "01490701818826847808"
     },
     "user_tz": 180
    },
    "id": "s-_oLiE0_3A2",
    "outputId": "7cb71720-efb6-4a6f-bc72-d32d46589c39"
   },
   "outputs": [
    {
     "name": "stdout",
     "output_type": "stream",
     "text": [
      "Train on 54000 samples, validate on 6000 samples\n",
      "Epoch 1/100\n",
      "54000/54000 [==============================] - 5s 97us/sample - loss: 0.7159 - sparse_categorical_accuracy: 0.7498 - val_loss: 0.4353 - val_sparse_categorical_accuracy: 0.8392\n",
      "Epoch 2/100\n",
      "54000/54000 [==============================] - 3s 47us/sample - loss: 0.5023 - sparse_categorical_accuracy: 0.8209 - val_loss: 0.4081 - val_sparse_categorical_accuracy: 0.8458\n",
      "Epoch 3/100\n",
      "54000/54000 [==============================] - 3s 46us/sample - loss: 0.4638 - sparse_categorical_accuracy: 0.8355 - val_loss: 0.4152 - val_sparse_categorical_accuracy: 0.8430\n",
      "Epoch 4/100\n",
      "54000/54000 [==============================] - 3s 47us/sample - loss: 0.4383 - sparse_categorical_accuracy: 0.8431 - val_loss: 0.3809 - val_sparse_categorical_accuracy: 0.8542\n",
      "Epoch 5/100\n",
      "54000/54000 [==============================] - 3s 48us/sample - loss: 0.4271 - sparse_categorical_accuracy: 0.8470 - val_loss: 0.3682 - val_sparse_categorical_accuracy: 0.8618\n",
      "Epoch 6/100\n",
      "54000/54000 [==============================] - 3s 47us/sample - loss: 0.4137 - sparse_categorical_accuracy: 0.8515 - val_loss: 0.3737 - val_sparse_categorical_accuracy: 0.8567\n",
      "Epoch 7/100\n",
      "54000/54000 [==============================] - 3s 49us/sample - loss: 0.4023 - sparse_categorical_accuracy: 0.8571 - val_loss: 0.3511 - val_sparse_categorical_accuracy: 0.8673\n",
      "Epoch 8/100\n",
      "54000/54000 [==============================] - 3s 47us/sample - loss: 0.3870 - sparse_categorical_accuracy: 0.8594 - val_loss: 0.3750 - val_sparse_categorical_accuracy: 0.8588\n",
      "Epoch 9/100\n",
      "54000/54000 [==============================] - 3s 47us/sample - loss: 0.3880 - sparse_categorical_accuracy: 0.8587 - val_loss: 0.3555 - val_sparse_categorical_accuracy: 0.8713\n",
      "Epoch 10/100\n",
      "54000/54000 [==============================] - 3s 47us/sample - loss: 0.3870 - sparse_categorical_accuracy: 0.8594 - val_loss: 0.3449 - val_sparse_categorical_accuracy: 0.8740\n",
      "Epoch 11/100\n",
      "54000/54000 [==============================] - 3s 48us/sample - loss: 0.3800 - sparse_categorical_accuracy: 0.8627 - val_loss: 0.3621 - val_sparse_categorical_accuracy: 0.8642\n",
      "Epoch 12/100\n",
      "54000/54000 [==============================] - 3s 48us/sample - loss: 0.3670 - sparse_categorical_accuracy: 0.8682 - val_loss: 0.3489 - val_sparse_categorical_accuracy: 0.8725\n",
      "Epoch 13/100\n",
      "54000/54000 [==============================] - 3s 54us/sample - loss: 0.3616 - sparse_categorical_accuracy: 0.8699 - val_loss: 0.3444 - val_sparse_categorical_accuracy: 0.8720\n",
      "Epoch 14/100\n",
      "54000/54000 [==============================] - 3s 48us/sample - loss: 0.3584 - sparse_categorical_accuracy: 0.8706 - val_loss: 0.3388 - val_sparse_categorical_accuracy: 0.8728\n",
      "Epoch 15/100\n",
      "54000/54000 [==============================] - 3s 49us/sample - loss: 0.3527 - sparse_categorical_accuracy: 0.8732 - val_loss: 0.3302 - val_sparse_categorical_accuracy: 0.8802\n",
      "Epoch 16/100\n",
      "54000/54000 [==============================] - 3s 49us/sample - loss: 0.3533 - sparse_categorical_accuracy: 0.8707 - val_loss: 0.3331 - val_sparse_categorical_accuracy: 0.8752\n",
      "Epoch 17/100\n",
      "54000/54000 [==============================] - 3s 51us/sample - loss: 0.3496 - sparse_categorical_accuracy: 0.8739 - val_loss: 0.3444 - val_sparse_categorical_accuracy: 0.8730\n",
      "Epoch 18/100\n",
      "54000/54000 [==============================] - 3s 49us/sample - loss: 0.3430 - sparse_categorical_accuracy: 0.8754 - val_loss: 0.3225 - val_sparse_categorical_accuracy: 0.8773\n",
      "Epoch 19/100\n",
      "54000/54000 [==============================] - 3s 49us/sample - loss: 0.3399 - sparse_categorical_accuracy: 0.8762 - val_loss: 0.3218 - val_sparse_categorical_accuracy: 0.8810\n",
      "Epoch 20/100\n",
      "54000/54000 [==============================] - 3s 49us/sample - loss: 0.3319 - sparse_categorical_accuracy: 0.8794 - val_loss: 0.3282 - val_sparse_categorical_accuracy: 0.8825\n",
      "Epoch 21/100\n",
      "54000/54000 [==============================] - 3s 49us/sample - loss: 0.3284 - sparse_categorical_accuracy: 0.8810 - val_loss: 0.3244 - val_sparse_categorical_accuracy: 0.8815\n",
      "Epoch 22/100\n",
      "54000/54000 [==============================] - 3s 53us/sample - loss: 0.3360 - sparse_categorical_accuracy: 0.8784 - val_loss: 0.3279 - val_sparse_categorical_accuracy: 0.8857\n",
      "Epoch 23/100\n",
      "54000/54000 [==============================] - 3s 48us/sample - loss: 0.3342 - sparse_categorical_accuracy: 0.8776 - val_loss: 0.3340 - val_sparse_categorical_accuracy: 0.8785\n",
      "Epoch 24/100\n",
      "54000/54000 [==============================] - 3s 48us/sample - loss: 0.3264 - sparse_categorical_accuracy: 0.8806 - val_loss: 0.3369 - val_sparse_categorical_accuracy: 0.8760\n",
      "Epoch 25/100\n",
      "54000/54000 [==============================] - 3s 48us/sample - loss: 0.3218 - sparse_categorical_accuracy: 0.8829 - val_loss: 0.3367 - val_sparse_categorical_accuracy: 0.8787\n",
      "Epoch 26/100\n",
      "54000/54000 [==============================] - 3s 49us/sample - loss: 0.3226 - sparse_categorical_accuracy: 0.8821 - val_loss: 0.3320 - val_sparse_categorical_accuracy: 0.8785\n",
      "Epoch 27/100\n",
      "54000/54000 [==============================] - 2s 46us/sample - loss: 0.3166 - sparse_categorical_accuracy: 0.8852 - val_loss: 0.3280 - val_sparse_categorical_accuracy: 0.8815\n",
      "Epoch 28/100\n",
      "54000/54000 [==============================] - 3s 51us/sample - loss: 0.3153 - sparse_categorical_accuracy: 0.8844 - val_loss: 0.3446 - val_sparse_categorical_accuracy: 0.8755\n",
      "Epoch 29/100\n",
      "54000/54000 [==============================] - 3s 50us/sample - loss: 0.3149 - sparse_categorical_accuracy: 0.8852 - val_loss: 0.3415 - val_sparse_categorical_accuracy: 0.8752\n",
      "Epoch 30/100\n",
      "54000/54000 [==============================] - 3s 49us/sample - loss: 0.3123 - sparse_categorical_accuracy: 0.8867 - val_loss: 0.3250 - val_sparse_categorical_accuracy: 0.8803\n",
      "Epoch 31/100\n",
      "54000/54000 [==============================] - 3s 49us/sample - loss: 0.3093 - sparse_categorical_accuracy: 0.8883 - val_loss: 0.3275 - val_sparse_categorical_accuracy: 0.8808\n",
      "Epoch 32/100\n",
      "54000/54000 [==============================] - 3s 49us/sample - loss: 0.3097 - sparse_categorical_accuracy: 0.8879 - val_loss: 0.3284 - val_sparse_categorical_accuracy: 0.8778\n",
      "Epoch 33/100\n",
      "54000/54000 [==============================] - 3s 49us/sample - loss: 0.3029 - sparse_categorical_accuracy: 0.8895 - val_loss: 0.3324 - val_sparse_categorical_accuracy: 0.8785\n",
      "Epoch 34/100\n",
      "54000/54000 [==============================] - 3s 49us/sample - loss: 0.3023 - sparse_categorical_accuracy: 0.8906 - val_loss: 0.3615 - val_sparse_categorical_accuracy: 0.8672\n",
      "Epoch 35/100\n",
      "54000/54000 [==============================] - 3s 49us/sample - loss: 0.3005 - sparse_categorical_accuracy: 0.8890 - val_loss: 0.3192 - val_sparse_categorical_accuracy: 0.8807\n",
      "Epoch 36/100\n",
      "54000/54000 [==============================] - 3s 47us/sample - loss: 0.3009 - sparse_categorical_accuracy: 0.8911 - val_loss: 0.3282 - val_sparse_categorical_accuracy: 0.8837\n",
      "Epoch 37/100\n",
      "54000/54000 [==============================] - 3s 48us/sample - loss: 0.2991 - sparse_categorical_accuracy: 0.8908 - val_loss: 0.3259 - val_sparse_categorical_accuracy: 0.8840\n",
      "Epoch 38/100\n",
      "54000/54000 [==============================] - 3s 46us/sample - loss: 0.3022 - sparse_categorical_accuracy: 0.8906 - val_loss: 0.3239 - val_sparse_categorical_accuracy: 0.8835\n",
      "Epoch 39/100\n",
      "54000/54000 [==============================] - 3s 46us/sample - loss: 0.3011 - sparse_categorical_accuracy: 0.8915 - val_loss: 0.3243 - val_sparse_categorical_accuracy: 0.8837\n",
      "Epoch 40/100\n",
      "54000/54000 [==============================] - 3s 47us/sample - loss: 0.2962 - sparse_categorical_accuracy: 0.8920 - val_loss: 0.3306 - val_sparse_categorical_accuracy: 0.8845\n",
      "Epoch 41/100\n",
      "54000/54000 [==============================] - 3s 47us/sample - loss: 0.2902 - sparse_categorical_accuracy: 0.8928 - val_loss: 0.3546 - val_sparse_categorical_accuracy: 0.8790\n",
      "Epoch 42/100\n",
      "54000/54000 [==============================] - 3s 59us/sample - loss: 0.2914 - sparse_categorical_accuracy: 0.8936 - val_loss: 0.3222 - val_sparse_categorical_accuracy: 0.8842\n",
      "Epoch 43/100\n",
      "54000/54000 [==============================] - 3s 63us/sample - loss: 0.2895 - sparse_categorical_accuracy: 0.8947 - val_loss: 0.3514 - val_sparse_categorical_accuracy: 0.8735\n",
      "Epoch 44/100\n",
      "54000/54000 [==============================] - 3s 50us/sample - loss: 0.2925 - sparse_categorical_accuracy: 0.8936 - val_loss: 0.3324 - val_sparse_categorical_accuracy: 0.8840\n",
      "Epoch 45/100\n",
      "54000/54000 [==============================] - 3s 48us/sample - loss: 0.2924 - sparse_categorical_accuracy: 0.8927 - val_loss: 0.3281 - val_sparse_categorical_accuracy: 0.8792\n",
      "Epoch 46/100\n",
      "54000/54000 [==============================] - 3s 51us/sample - loss: 0.2918 - sparse_categorical_accuracy: 0.8936 - val_loss: 0.3195 - val_sparse_categorical_accuracy: 0.8848\n",
      "Epoch 47/100\n",
      "54000/54000 [==============================] - 3s 51us/sample - loss: 0.2884 - sparse_categorical_accuracy: 0.8947 - val_loss: 0.3175 - val_sparse_categorical_accuracy: 0.8842\n",
      "Epoch 48/100\n",
      "54000/54000 [==============================] - 3s 58us/sample - loss: 0.2848 - sparse_categorical_accuracy: 0.8957 - val_loss: 0.3196 - val_sparse_categorical_accuracy: 0.8868\n",
      "Epoch 49/100\n",
      "54000/54000 [==============================] - 3s 50us/sample - loss: 0.2863 - sparse_categorical_accuracy: 0.8964 - val_loss: 0.3224 - val_sparse_categorical_accuracy: 0.8850\n",
      "Epoch 50/100\n",
      "54000/54000 [==============================] - 3s 51us/sample - loss: 0.2849 - sparse_categorical_accuracy: 0.8961 - val_loss: 0.3588 - val_sparse_categorical_accuracy: 0.8767\n",
      "Epoch 51/100\n",
      "54000/54000 [==============================] - 3s 53us/sample - loss: 0.2843 - sparse_categorical_accuracy: 0.8962 - val_loss: 0.3287 - val_sparse_categorical_accuracy: 0.8837\n",
      "Epoch 52/100\n",
      "54000/54000 [==============================] - 3s 50us/sample - loss: 0.2927 - sparse_categorical_accuracy: 0.8925 - val_loss: 0.3232 - val_sparse_categorical_accuracy: 0.8845\n",
      "Epoch 53/100\n",
      "54000/54000 [==============================] - 3s 57us/sample - loss: 0.2815 - sparse_categorical_accuracy: 0.8981 - val_loss: 0.3301 - val_sparse_categorical_accuracy: 0.8823\n",
      "Epoch 54/100\n",
      "54000/54000 [==============================] - 3s 49us/sample - loss: 0.2777 - sparse_categorical_accuracy: 0.8984 - val_loss: 0.3299 - val_sparse_categorical_accuracy: 0.8798\n",
      "Epoch 55/100\n",
      "54000/54000 [==============================] - 3s 47us/sample - loss: 0.2804 - sparse_categorical_accuracy: 0.8965 - val_loss: 0.3266 - val_sparse_categorical_accuracy: 0.8843\n",
      "Epoch 56/100\n",
      "54000/54000 [==============================] - 3s 49us/sample - loss: 0.2804 - sparse_categorical_accuracy: 0.8996 - val_loss: 0.3447 - val_sparse_categorical_accuracy: 0.8747\n",
      "Epoch 57/100\n",
      "54000/54000 [==============================] - 3s 49us/sample - loss: 0.2719 - sparse_categorical_accuracy: 0.9014 - val_loss: 0.3252 - val_sparse_categorical_accuracy: 0.8848\n",
      "Epoch 58/100\n",
      "54000/54000 [==============================] - 3s 50us/sample - loss: 0.2724 - sparse_categorical_accuracy: 0.8996 - val_loss: 0.3321 - val_sparse_categorical_accuracy: 0.8868\n",
      "Epoch 59/100\n",
      "54000/54000 [==============================] - 3s 53us/sample - loss: 0.2763 - sparse_categorical_accuracy: 0.9002 - val_loss: 0.3331 - val_sparse_categorical_accuracy: 0.8857\n",
      "Epoch 60/100\n",
      "54000/54000 [==============================] - 3s 54us/sample - loss: 0.2696 - sparse_categorical_accuracy: 0.9026 - val_loss: 0.3165 - val_sparse_categorical_accuracy: 0.8880\n",
      "Epoch 61/100\n",
      "54000/54000 [==============================] - 3s 55us/sample - loss: 0.2747 - sparse_categorical_accuracy: 0.9002 - val_loss: 0.3467 - val_sparse_categorical_accuracy: 0.8810\n",
      "Epoch 62/100\n",
      "54000/54000 [==============================] - 3s 51us/sample - loss: 0.2723 - sparse_categorical_accuracy: 0.8996 - val_loss: 0.3251 - val_sparse_categorical_accuracy: 0.8867\n",
      "Epoch 63/100\n",
      "54000/54000 [==============================] - 3s 51us/sample - loss: 0.2751 - sparse_categorical_accuracy: 0.8987 - val_loss: 0.3301 - val_sparse_categorical_accuracy: 0.8832\n",
      "Epoch 64/100\n",
      "54000/54000 [==============================] - 3s 51us/sample - loss: 0.2706 - sparse_categorical_accuracy: 0.9016 - val_loss: 0.3239 - val_sparse_categorical_accuracy: 0.8878\n",
      "Epoch 65/100\n",
      "54000/54000 [==============================] - 3s 51us/sample - loss: 0.2705 - sparse_categorical_accuracy: 0.9008 - val_loss: 0.3328 - val_sparse_categorical_accuracy: 0.8828\n",
      "Epoch 66/100\n",
      "54000/54000 [==============================] - 3s 52us/sample - loss: 0.2721 - sparse_categorical_accuracy: 0.9017 - val_loss: 0.3151 - val_sparse_categorical_accuracy: 0.8857\n",
      "Epoch 67/100\n",
      "54000/54000 [==============================] - 3s 52us/sample - loss: 0.2696 - sparse_categorical_accuracy: 0.9022 - val_loss: 0.3293 - val_sparse_categorical_accuracy: 0.8852\n",
      "Epoch 68/100\n",
      "54000/54000 [==============================] - 3s 51us/sample - loss: 0.2679 - sparse_categorical_accuracy: 0.9025 - val_loss: 0.3297 - val_sparse_categorical_accuracy: 0.8847\n",
      "Epoch 69/100\n",
      "54000/54000 [==============================] - 3s 51us/sample - loss: 0.2673 - sparse_categorical_accuracy: 0.9023 - val_loss: 0.3321 - val_sparse_categorical_accuracy: 0.8835\n",
      "Epoch 70/100\n",
      "54000/54000 [==============================] - 3s 51us/sample - loss: 0.2634 - sparse_categorical_accuracy: 0.9052 - val_loss: 0.3311 - val_sparse_categorical_accuracy: 0.8817\n",
      "Epoch 71/100\n",
      "54000/54000 [==============================] - 3s 51us/sample - loss: 0.2705 - sparse_categorical_accuracy: 0.9014 - val_loss: 0.3346 - val_sparse_categorical_accuracy: 0.8820\n",
      "Epoch 72/100\n",
      "54000/54000 [==============================] - 3s 52us/sample - loss: 0.2650 - sparse_categorical_accuracy: 0.9032 - val_loss: 0.3282 - val_sparse_categorical_accuracy: 0.8868\n",
      "Epoch 73/100\n",
      "54000/54000 [==============================] - 3s 52us/sample - loss: 0.2629 - sparse_categorical_accuracy: 0.9042 - val_loss: 0.3336 - val_sparse_categorical_accuracy: 0.8835\n",
      "Epoch 74/100\n",
      "54000/54000 [==============================] - 3s 56us/sample - loss: 0.2635 - sparse_categorical_accuracy: 0.9030 - val_loss: 0.3326 - val_sparse_categorical_accuracy: 0.8833\n",
      "Epoch 75/100\n",
      "54000/54000 [==============================] - 3s 52us/sample - loss: 0.2624 - sparse_categorical_accuracy: 0.9035 - val_loss: 0.3338 - val_sparse_categorical_accuracy: 0.8805\n",
      "Epoch 76/100\n",
      "54000/54000 [==============================] - 3s 52us/sample - loss: 0.2609 - sparse_categorical_accuracy: 0.9060 - val_loss: 0.3429 - val_sparse_categorical_accuracy: 0.8818\n",
      "Epoch 77/100\n",
      "54000/54000 [==============================] - 3s 53us/sample - loss: 0.2589 - sparse_categorical_accuracy: 0.9060 - val_loss: 0.3293 - val_sparse_categorical_accuracy: 0.8832\n",
      "Epoch 78/100\n",
      "54000/54000 [==============================] - 3s 51us/sample - loss: 0.2592 - sparse_categorical_accuracy: 0.9057 - val_loss: 0.3233 - val_sparse_categorical_accuracy: 0.8867\n",
      "Epoch 79/100\n",
      "54000/54000 [==============================] - 3s 50us/sample - loss: 0.2593 - sparse_categorical_accuracy: 0.9062 - val_loss: 0.3306 - val_sparse_categorical_accuracy: 0.8850\n",
      "Epoch 80/100\n",
      "54000/54000 [==============================] - 3s 51us/sample - loss: 0.2576 - sparse_categorical_accuracy: 0.9069 - val_loss: 0.3318 - val_sparse_categorical_accuracy: 0.8858\n",
      "Epoch 81/100\n",
      "54000/54000 [==============================] - 3s 51us/sample - loss: 0.2587 - sparse_categorical_accuracy: 0.9053 - val_loss: 0.3293 - val_sparse_categorical_accuracy: 0.8832\n",
      "Epoch 82/100\n",
      "54000/54000 [==============================] - 3s 51us/sample - loss: 0.2529 - sparse_categorical_accuracy: 0.9079 - val_loss: 0.3303 - val_sparse_categorical_accuracy: 0.8838\n",
      "Epoch 83/100\n",
      "54000/54000 [==============================] - 3s 51us/sample - loss: 0.2533 - sparse_categorical_accuracy: 0.9081 - val_loss: 0.3222 - val_sparse_categorical_accuracy: 0.8858\n",
      "Epoch 84/100\n",
      "54000/54000 [==============================] - 3s 51us/sample - loss: 0.2493 - sparse_categorical_accuracy: 0.9092 - val_loss: 0.3287 - val_sparse_categorical_accuracy: 0.8850\n",
      "Epoch 85/100\n",
      "54000/54000 [==============================] - 3s 51us/sample - loss: 0.2518 - sparse_categorical_accuracy: 0.9072 - val_loss: 0.3282 - val_sparse_categorical_accuracy: 0.8865\n",
      "Epoch 86/100\n",
      "54000/54000 [==============================] - 3s 52us/sample - loss: 0.2473 - sparse_categorical_accuracy: 0.9112 - val_loss: 0.3321 - val_sparse_categorical_accuracy: 0.8875\n",
      "Epoch 87/100\n"
     ]
    },
    {
     "name": "stdout",
     "output_type": "stream",
     "text": [
      "54000/54000 [==============================] - 3s 48us/sample - loss: 0.2483 - sparse_categorical_accuracy: 0.9098 - val_loss: 0.3252 - val_sparse_categorical_accuracy: 0.8903\n",
      "Epoch 88/100\n",
      "54000/54000 [==============================] - 3s 49us/sample - loss: 0.2492 - sparse_categorical_accuracy: 0.9086 - val_loss: 0.3290 - val_sparse_categorical_accuracy: 0.8908\n",
      "Epoch 89/100\n",
      "54000/54000 [==============================] - 3s 50us/sample - loss: 0.2499 - sparse_categorical_accuracy: 0.9086 - val_loss: 0.3376 - val_sparse_categorical_accuracy: 0.8825\n",
      "Epoch 90/100\n",
      "54000/54000 [==============================] - 3s 50us/sample - loss: 0.2523 - sparse_categorical_accuracy: 0.9069 - val_loss: 0.3240 - val_sparse_categorical_accuracy: 0.8883\n",
      "Epoch 91/100\n",
      "54000/54000 [==============================] - 3s 51us/sample - loss: 0.2472 - sparse_categorical_accuracy: 0.9106 - val_loss: 0.3322 - val_sparse_categorical_accuracy: 0.8892\n",
      "Epoch 92/100\n",
      "54000/54000 [==============================] - 3s 50us/sample - loss: 0.2455 - sparse_categorical_accuracy: 0.9104 - val_loss: 0.3338 - val_sparse_categorical_accuracy: 0.8847\n",
      "Epoch 93/100\n",
      "54000/54000 [==============================] - 3s 53us/sample - loss: 0.2483 - sparse_categorical_accuracy: 0.9094 - val_loss: 0.3369 - val_sparse_categorical_accuracy: 0.8882\n",
      "Epoch 94/100\n",
      "54000/54000 [==============================] - 3s 50us/sample - loss: 0.2507 - sparse_categorical_accuracy: 0.9092 - val_loss: 0.3338 - val_sparse_categorical_accuracy: 0.8857\n",
      "Epoch 95/100\n",
      "54000/54000 [==============================] - 3s 50us/sample - loss: 0.2450 - sparse_categorical_accuracy: 0.9100 - val_loss: 0.3399 - val_sparse_categorical_accuracy: 0.8868\n",
      "Epoch 96/100\n",
      "54000/54000 [==============================] - 3s 50us/sample - loss: 0.2480 - sparse_categorical_accuracy: 0.9094 - val_loss: 0.3362 - val_sparse_categorical_accuracy: 0.8838\n",
      "Epoch 97/100\n",
      "54000/54000 [==============================] - 3s 50us/sample - loss: 0.2497 - sparse_categorical_accuracy: 0.9082 - val_loss: 0.3195 - val_sparse_categorical_accuracy: 0.8907\n",
      "Epoch 98/100\n",
      "54000/54000 [==============================] - 3s 50us/sample - loss: 0.2439 - sparse_categorical_accuracy: 0.9104 - val_loss: 0.3308 - val_sparse_categorical_accuracy: 0.8905\n",
      "Epoch 99/100\n",
      "54000/54000 [==============================] - 3s 50us/sample - loss: 0.2459 - sparse_categorical_accuracy: 0.9107 - val_loss: 0.3351 - val_sparse_categorical_accuracy: 0.8850\n",
      "Epoch 100/100\n",
      "54000/54000 [==============================] - 3s 50us/sample - loss: 0.2437 - sparse_categorical_accuracy: 0.9107 - val_loss: 0.3509 - val_sparse_categorical_accuracy: 0.8832\n"
     ]
    }
   ],
   "source": [
    "history = model.fit(X_train, y_train, batch_size=100, validation_split=0.1, epochs=100)"
   ]
  },
  {
   "cell_type": "markdown",
   "metadata": {
    "colab_type": "text",
    "id": "mj23nxmtcrhd"
   },
   "source": [
    "### Evaluation"
   ]
  },
  {
   "cell_type": "code",
   "execution_count": 20,
   "metadata": {
    "colab": {
     "base_uri": "https://localhost:8080/",
     "height": 50
    },
    "colab_type": "code",
    "executionInfo": {
     "elapsed": 13190,
     "status": "ok",
     "timestamp": 1591637013377,
     "user": {
      "displayName": "Dalcimar Casanova",
      "photoUrl": "https://lh3.googleusercontent.com/a-/AOh14GgZzFT0FCo6nTJjXLoCVlWF617XKFK9oco_RLrc-A=s64",
      "userId": "01490701818826847808"
     },
     "user_tz": 180
    },
    "id": "-nQCioOmAL7i",
    "outputId": "c8cb31f3-acf1-4b47-8982-7f63d23d12b9"
   },
   "outputs": [
    {
     "name": "stdout",
     "output_type": "stream",
     "text": [
      "60000/60000 [==============================] - 1s 21us/sample - loss: 0.2115 - sparse_categorical_accuracy: 0.9237\n",
      "10000/10000 [==============================] - 0s 22us/sample - loss: 0.3699 - sparse_categorical_accuracy: 0.8742\n"
     ]
    }
   ],
   "source": [
    "test_loss, test_accuracy = model.evaluate(X_train, y_train, batch_size=100)\n",
    "test_loss, test_accuracy = model.evaluate(X_test, y_test, batch_size=100)"
   ]
  },
  {
   "cell_type": "code",
   "execution_count": 21,
   "metadata": {
    "colab": {
     "base_uri": "https://localhost:8080/",
     "height": 295
    },
    "colab_type": "code",
    "executionInfo": {
     "elapsed": 13185,
     "status": "ok",
     "timestamp": 1591637013377,
     "user": {
      "displayName": "Dalcimar Casanova",
      "photoUrl": "https://lh3.googleusercontent.com/a-/AOh14GgZzFT0FCo6nTJjXLoCVlWF617XKFK9oco_RLrc-A=s64",
      "userId": "01490701818826847808"
     },
     "user_tz": 180
    },
    "id": "embmboKlEHpn",
    "outputId": "902ccb62-f89c-4d1f-ab56-0dcd3aed9b9e"
   },
   "outputs": [
    {
     "data": {
      "image/png": "[encoded data removed]",
      "text/plain": [
       "<Figure size 432x288 with 1 Axes>"
      ]
     },
     "metadata": {
      "needs_background": "light"
     },
     "output_type": "display_data"
    }
   ],
   "source": [
    "%matplotlib inline\n",
    "import matplotlib.pyplot as plt\n",
    "\n",
    "plt.plot(history.history['sparse_categorical_accuracy'])\n",
    "plt.plot(history.history['val_sparse_categorical_accuracy'])\n",
    "plt.title('model accuracy')\n",
    "plt.ylabel('accuracy')\n",
    "plt.xlabel('epoch')\n",
    "plt.legend(['train', 'test'], loc='upper left')\n",
    "plt.show()"
   ]
  },
  {
   "cell_type": "code",
   "execution_count": null,
   "metadata": {},
   "outputs": [],
   "source": []
  }
 ],
 "metadata": {
  "accelerator": "GPU",
  "colab": {
   "collapsed_sections": [],
   "name": "Optim MLP Keras.ipynb",
   "provenance": [
    {
     "file_id": "1knvLkiSMK-QM2qNSnKPEuvR5HQA4oXCU",
     "timestamp": 1569961368051
    },
    {
     "file_id": "17jqM6EqCaDENJTcUvAuo6DOf3IKYC571",
     "timestamp": 1568417207830
    },
    {
     "file_id": "1tj02zPuUkkbLob1oo63f9TliYj5DQHA3",
     "timestamp": 1558700825389
    }
   ]
  },
  "kernelspec": {
   "display_name": "Python 3 (ipykernel)",
   "language": "python",
   "name": "python3"
  },
  "language_info": {
   "codemirror_mode": {
    "name": "ipython",
    "version": 3
   },
   "file_extension": ".py",
   "mimetype": "text/x-python",
   "name": "python",
   "nbconvert_exporter": "python",
   "pygments_lexer": "ipython3",
   "version": "3.11.4"
  }
 },
 "nbformat": 4,
 "nbformat_minor": 1
}
