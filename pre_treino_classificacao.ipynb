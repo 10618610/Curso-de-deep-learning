{
 "cells": [
  {
   "cell_type": "code",
   "execution_count": 3,
   "metadata": {},
   "outputs": [
    {
     "data": {
      "image/png": "[encoded data removed]",
      "text/plain": [
       "<Figure size 432x288 with 1 Axes>"
      ]
     },
     "metadata": {
      "needs_background": "light"
     },
     "output_type": "display_data"
    }
   ],
   "source": [
    "# scatter plot of blobs dataset\n",
    "from sklearn.datasets import make_blobs\n",
    "from matplotlib import pyplot\n",
    "from numpy import where\n",
    "# generate 2d classification dataset\n",
    "X, y = make_blobs(n_samples=1000, centers=4, n_features=2, cluster_std=2, random_state=2)\n",
    "# scatter plot for each class value\n",
    "for class_value in range(4):\n",
    "\t# select indices of points with the class label\n",
    "\trow_ix = where(y == class_value)\n",
    "\t# scatter plot for points with a different color\n",
    "\tpyplot.scatter(X[row_ix, 0], X[row_ix, 1])\n",
    "# show plot\n",
    "#pyplot.show()"
   ]
  },
  {
   "cell_type": "code",
   "execution_count": 4,
   "metadata": {},
   "outputs": [],
   "source": [
    "# unsupervised greedy layer-wise pretraining for blobs classification problem\n",
    "from sklearn.datasets import make_blobs\n",
    "from keras.layers import Dense\n",
    "from keras.models import Sequential\n",
    "from keras.optimizers import SGD\n",
    "from keras.utils import to_categorical\n",
    "from matplotlib import pyplot"
   ]
  },
  {
   "cell_type": "code",
   "execution_count": 5,
   "metadata": {},
   "outputs": [],
   "source": [
    "# prepare the dataset\n",
    "def prepare_data():\n",
    "\t# generate 2d classification dataset\n",
    "\tX, y = make_blobs(n_samples=1000, centers=3, n_features=2, cluster_std=2, random_state=2)\n",
    "\t# one hot encode output variable\n",
    "\ty = to_categorical(y)\n",
    "\t# split into train and test\n",
    "\tn_train = 500\n",
    "\ttrainX, testX = X[:n_train, :], X[n_train:, :]\n",
    "\ttrainy, testy = y[:n_train], y[n_train:]\n",
    "\treturn trainX, testX, trainy, testy"
   ]
  },
  {
   "cell_type": "code",
   "execution_count": 6,
   "metadata": {},
   "outputs": [],
   "source": [
    "# prepare data\n",
    "trainX, testX, trainy, testy = prepare_data()"
   ]
  },
  {
   "cell_type": "code",
   "execution_count": 7,
   "metadata": {},
   "outputs": [
    {
     "data": {
      "text/plain": [
       "(500, 3)"
      ]
     },
     "execution_count": 7,
     "metadata": {},
     "output_type": "execute_result"
    }
   ],
   "source": [
    "trainy.shape"
   ]
  },
  {
   "cell_type": "code",
   "execution_count": 14,
   "metadata": {},
   "outputs": [],
   "source": [
    "# define model\n",
    "model = Sequential()\n",
    "#camada densa com 10 neuronios, entrada duas dimensoes\n",
    "#kernel_initializer=> forma de iniciar os pesos, tambem podemos iniciar as bias\n",
    "model.add(Dense(10, input_dim=2, activation='relu', kernel_initializer='he_uniform'))\n",
    "#saida 3 neuronios para cada classe e funcao softmax para a classificacao\n",
    "model.add(Dense(3, activation='softmax'))"
   ]
  },
  {
   "cell_type": "code",
   "execution_count": 12,
   "metadata": {},
   "outputs": [],
   "source": [
    "# compile model\n",
    "#gradiente estacastico descendente com momento 0.9\n",
    "opt = SGD(lr=0.01, momentum=0.9)#optimizador\n",
    "model.compile(loss='categorical_crossentropy', optimizer=opt, metrics=['accuracy'])\n",
    "#modelo otimizado com crossentropy"
   ]
  },
  {
   "cell_type": "code",
   "execution_count": 19,
   "metadata": {},
   "outputs": [
    {
     "name": "stdout",
     "output_type": "stream",
     "text": [
      "Epoch 1/100\n",
      "500/500 [==============================] - 0s 52us/step - loss: 0.3844 - accuracy: 0.8360\n",
      "Epoch 2/100\n",
      "500/500 [==============================] - 0s 38us/step - loss: 0.3879 - accuracy: 0.8300\n",
      "Epoch 3/100\n",
      "500/500 [==============================] - 0s 47us/step - loss: 0.3960 - accuracy: 0.8280\n",
      "Epoch 4/100\n",
      "500/500 [==============================] - 0s 53us/step - loss: 0.3926 - accuracy: 0.8240\n",
      "Epoch 5/100\n",
      "500/500 [==============================] - 0s 37us/step - loss: 0.3929 - accuracy: 0.8240\n",
      "Epoch 6/100\n",
      "500/500 [==============================] - 0s 44us/step - loss: 0.3820 - accuracy: 0.8340\n",
      "Epoch 7/100\n",
      "500/500 [==============================] - 0s 39us/step - loss: 0.3832 - accuracy: 0.8300\n",
      "Epoch 8/100\n",
      "500/500 [==============================] - 0s 41us/step - loss: 0.3912 - accuracy: 0.8260\n",
      "Epoch 9/100\n",
      "500/500 [==============================] - 0s 43us/step - loss: 0.3916 - accuracy: 0.8280\n",
      "Epoch 10/100\n",
      "500/500 [==============================] - 0s 31us/step - loss: 0.3867 - accuracy: 0.8300\n",
      "Epoch 11/100\n",
      "500/500 [==============================] - 0s 53us/step - loss: 0.3838 - accuracy: 0.8320\n",
      "Epoch 12/100\n",
      "500/500 [==============================] - 0s 28us/step - loss: 0.3864 - accuracy: 0.8260\n",
      "Epoch 13/100\n",
      "500/500 [==============================] - 0s 53us/step - loss: 0.3894 - accuracy: 0.8240\n",
      "Epoch 14/100\n",
      "500/500 [==============================] - 0s 45us/step - loss: 0.3885 - accuracy: 0.8300\n",
      "Epoch 15/100\n",
      "500/500 [==============================] - 0s 37us/step - loss: 0.3867 - accuracy: 0.8220\n",
      "Epoch 16/100\n",
      "500/500 [==============================] - 0s 43us/step - loss: 0.3863 - accuracy: 0.8380\n",
      "Epoch 17/100\n",
      "500/500 [==============================] - 0s 49us/step - loss: 0.3868 - accuracy: 0.8240\n",
      "Epoch 18/100\n",
      "500/500 [==============================] - 0s 56us/step - loss: 0.3843 - accuracy: 0.8360\n",
      "Epoch 19/100\n",
      "500/500 [==============================] - 0s 41us/step - loss: 0.3836 - accuracy: 0.8160\n",
      "Epoch 20/100\n",
      "500/500 [==============================] - 0s 42us/step - loss: 0.3895 - accuracy: 0.8360\n",
      "Epoch 21/100\n",
      "500/500 [==============================] - 0s 38us/step - loss: 0.3916 - accuracy: 0.8200\n",
      "Epoch 22/100\n",
      "500/500 [==============================] - 0s 39us/step - loss: 0.3852 - accuracy: 0.8300\n",
      "Epoch 23/100\n",
      "500/500 [==============================] - 0s 67us/step - loss: 0.3870 - accuracy: 0.8240\n",
      "Epoch 24/100\n",
      "500/500 [==============================] - 0s 42us/step - loss: 0.3881 - accuracy: 0.8360\n",
      "Epoch 25/100\n",
      "500/500 [==============================] - 0s 44us/step - loss: 0.3862 - accuracy: 0.8260\n",
      "Epoch 26/100\n",
      "500/500 [==============================] - 0s 44us/step - loss: 0.3882 - accuracy: 0.8280\n",
      "Epoch 27/100\n",
      "500/500 [==============================] - 0s 48us/step - loss: 0.3872 - accuracy: 0.8440\n",
      "Epoch 28/100\n",
      "500/500 [==============================] - 0s 57us/step - loss: 0.4008 - accuracy: 0.8220\n",
      "Epoch 29/100\n",
      "500/500 [==============================] - 0s 45us/step - loss: 0.3863 - accuracy: 0.8300\n",
      "Epoch 30/100\n",
      "500/500 [==============================] - 0s 51us/step - loss: 0.3857 - accuracy: 0.8320\n",
      "Epoch 31/100\n",
      "500/500 [==============================] - 0s 45us/step - loss: 0.3876 - accuracy: 0.8320\n",
      "Epoch 32/100\n",
      "500/500 [==============================] - 0s 40us/step - loss: 0.3939 - accuracy: 0.8220\n",
      "Epoch 33/100\n",
      "500/500 [==============================] - 0s 51us/step - loss: 0.4063 - accuracy: 0.8240\n",
      "Epoch 34/100\n",
      "500/500 [==============================] - 0s 45us/step - loss: 0.3959 - accuracy: 0.8320\n",
      "Epoch 35/100\n",
      "500/500 [==============================] - 0s 45us/step - loss: 0.3851 - accuracy: 0.8260\n",
      "Epoch 36/100\n",
      "500/500 [==============================] - 0s 48us/step - loss: 0.3933 - accuracy: 0.8340\n",
      "Epoch 37/100\n",
      "500/500 [==============================] - 0s 57us/step - loss: 0.3888 - accuracy: 0.8160\n",
      "Epoch 38/100\n",
      "500/500 [==============================] - 0s 41us/step - loss: 0.3925 - accuracy: 0.8180\n",
      "Epoch 39/100\n",
      "500/500 [==============================] - 0s 59us/step - loss: 0.4011 - accuracy: 0.8260\n",
      "Epoch 40/100\n",
      "500/500 [==============================] - 0s 55us/step - loss: 0.3905 - accuracy: 0.8240\n",
      "Epoch 41/100\n",
      "500/500 [==============================] - 0s 38us/step - loss: 0.3915 - accuracy: 0.8300\n",
      "Epoch 42/100\n",
      "500/500 [==============================] - 0s 50us/step - loss: 0.3819 - accuracy: 0.8360\n",
      "Epoch 43/100\n",
      "500/500 [==============================] - 0s 41us/step - loss: 0.3866 - accuracy: 0.8260\n",
      "Epoch 44/100\n",
      "500/500 [==============================] - 0s 44us/step - loss: 0.3876 - accuracy: 0.8180\n",
      "Epoch 45/100\n",
      "500/500 [==============================] - 0s 38us/step - loss: 0.3852 - accuracy: 0.8280\n",
      "Epoch 46/100\n",
      "500/500 [==============================] - 0s 44us/step - loss: 0.3887 - accuracy: 0.8360\n",
      "Epoch 47/100\n",
      "500/500 [==============================] - 0s 60us/step - loss: 0.3836 - accuracy: 0.8320\n",
      "Epoch 48/100\n",
      "500/500 [==============================] - 0s 43us/step - loss: 0.3892 - accuracy: 0.8280\n",
      "Epoch 49/100\n",
      "500/500 [==============================] - 0s 36us/step - loss: 0.3875 - accuracy: 0.8260\n",
      "Epoch 50/100\n",
      "500/500 [==============================] - 0s 50us/step - loss: 0.3862 - accuracy: 0.8260\n",
      "Epoch 51/100\n",
      "500/500 [==============================] - 0s 48us/step - loss: 0.3936 - accuracy: 0.8160\n",
      "Epoch 52/100\n",
      "500/500 [==============================] - 0s 44us/step - loss: 0.3827 - accuracy: 0.8340\n",
      "Epoch 53/100\n",
      "500/500 [==============================] - 0s 41us/step - loss: 0.3830 - accuracy: 0.8300\n",
      "Epoch 54/100\n",
      "500/500 [==============================] - 0s 38us/step - loss: 0.4057 - accuracy: 0.8140\n",
      "Epoch 55/100\n",
      "500/500 [==============================] - 0s 51us/step - loss: 0.3851 - accuracy: 0.8280\n",
      "Epoch 56/100\n",
      "500/500 [==============================] - 0s 61us/step - loss: 0.3907 - accuracy: 0.8260\n",
      "Epoch 57/100\n",
      "500/500 [==============================] - ETA: 0s - loss: 0.3174 - accuracy: 0.87 - 0s 51us/step - loss: 0.4011 - accuracy: 0.8200\n",
      "Epoch 58/100\n",
      "500/500 [==============================] - 0s 50us/step - loss: 0.4030 - accuracy: 0.8260\n",
      "Epoch 59/100\n",
      "500/500 [==============================] - 0s 46us/step - loss: 0.3877 - accuracy: 0.8160\n",
      "Epoch 60/100\n",
      "500/500 [==============================] - 0s 46us/step - loss: 0.3842 - accuracy: 0.8260\n",
      "Epoch 61/100\n",
      "500/500 [==============================] - 0s 45us/step - loss: 0.3841 - accuracy: 0.8340\n",
      "Epoch 62/100\n",
      "500/500 [==============================] - 0s 51us/step - loss: 0.3883 - accuracy: 0.8220\n",
      "Epoch 63/100\n",
      "500/500 [==============================] - 0s 62us/step - loss: 0.3873 - accuracy: 0.8280\n",
      "Epoch 64/100\n",
      "500/500 [==============================] - 0s 45us/step - loss: 0.4013 - accuracy: 0.8260\n",
      "Epoch 65/100\n",
      "500/500 [==============================] - 0s 43us/step - loss: 0.3898 - accuracy: 0.8320\n",
      "Epoch 66/100\n",
      "500/500 [==============================] - 0s 51us/step - loss: 0.3875 - accuracy: 0.8200\n",
      "Epoch 67/100\n",
      "500/500 [==============================] - 0s 51us/step - loss: 0.3862 - accuracy: 0.8320\n",
      "Epoch 68/100\n",
      "500/500 [==============================] - 0s 46us/step - loss: 0.3875 - accuracy: 0.8320\n",
      "Epoch 69/100\n",
      "500/500 [==============================] - 0s 45us/step - loss: 0.3926 - accuracy: 0.8280\n",
      "Epoch 70/100\n",
      "500/500 [==============================] - 0s 51us/step - loss: 0.3851 - accuracy: 0.8180\n",
      "Epoch 71/100\n",
      "500/500 [==============================] - 0s 41us/step - loss: 0.3963 - accuracy: 0.8340\n",
      "Epoch 72/100\n",
      "500/500 [==============================] - 0s 53us/step - loss: 0.3918 - accuracy: 0.8300\n",
      "Epoch 73/100\n",
      "500/500 [==============================] - 0s 35us/step - loss: 0.3903 - accuracy: 0.8240\n",
      "Epoch 74/100\n",
      "500/500 [==============================] - 0s 44us/step - loss: 0.3857 - accuracy: 0.8320\n",
      "Epoch 75/100\n",
      "500/500 [==============================] - 0s 59us/step - loss: 0.3904 - accuracy: 0.8240\n",
      "Epoch 76/100\n",
      "500/500 [==============================] - 0s 37us/step - loss: 0.3834 - accuracy: 0.8300\n",
      "Epoch 77/100\n",
      "500/500 [==============================] - 0s 36us/step - loss: 0.3876 - accuracy: 0.8400\n",
      "Epoch 78/100\n",
      "500/500 [==============================] - 0s 43us/step - loss: 0.3895 - accuracy: 0.8280\n",
      "Epoch 79/100\n",
      "500/500 [==============================] - 0s 45us/step - loss: 0.4068 - accuracy: 0.8320\n",
      "Epoch 80/100\n",
      "500/500 [==============================] - 0s 46us/step - loss: 0.3966 - accuracy: 0.8300\n",
      "Epoch 81/100\n",
      "500/500 [==============================] - 0s 51us/step - loss: 0.4004 - accuracy: 0.8180\n",
      "Epoch 82/100\n",
      "500/500 [==============================] - 0s 40us/step - loss: 0.4042 - accuracy: 0.8220\n",
      "Epoch 83/100\n",
      "500/500 [==============================] - 0s 38us/step - loss: 0.4105 - accuracy: 0.8140\n",
      "Epoch 84/100\n",
      "500/500 [==============================] - 0s 43us/step - loss: 0.3850 - accuracy: 0.8300\n",
      "Epoch 85/100\n",
      "500/500 [==============================] - 0s 36us/step - loss: 0.3873 - accuracy: 0.8280\n",
      "Epoch 86/100\n",
      "500/500 [==============================] - 0s 38us/step - loss: 0.3839 - accuracy: 0.8360\n",
      "Epoch 87/100\n",
      "500/500 [==============================] - 0s 37us/step - loss: 0.4056 - accuracy: 0.8340\n",
      "Epoch 88/100\n",
      "500/500 [==============================] - 0s 43us/step - loss: 0.3984 - accuracy: 0.8160\n",
      "Epoch 89/100\n",
      "500/500 [==============================] - 0s 41us/step - loss: 0.3874 - accuracy: 0.8340\n",
      "Epoch 90/100\n",
      "500/500 [==============================] - 0s 56us/step - loss: 0.3936 - accuracy: 0.8300\n",
      "Epoch 91/100\n",
      "500/500 [==============================] - 0s 45us/step - loss: 0.3931 - accuracy: 0.8220\n",
      "Epoch 92/100\n",
      "500/500 [==============================] - 0s 47us/step - loss: 0.3819 - accuracy: 0.8240\n",
      "Epoch 93/100\n",
      "500/500 [==============================] - 0s 54us/step - loss: 0.3924 - accuracy: 0.8340\n",
      "Epoch 94/100\n",
      "500/500 [==============================] - 0s 66us/step - loss: 0.3860 - accuracy: 0.8160\n",
      "Epoch 95/100\n",
      "500/500 [==============================] - 0s 54us/step - loss: 0.3890 - accuracy: 0.8420\n",
      "Epoch 96/100\n",
      "500/500 [==============================] - 0s 54us/step - loss: 0.3841 - accuracy: 0.8280\n",
      "Epoch 97/100\n",
      "500/500 [==============================] - 0s 63us/step - loss: 0.3867 - accuracy: 0.8160\n",
      "Epoch 98/100\n",
      "500/500 [==============================] - 0s 40us/step - loss: 0.3895 - accuracy: 0.8320\n",
      "Epoch 99/100\n",
      "500/500 [==============================] - 0s 41us/step - loss: 0.3941 - accuracy: 0.8320\n",
      "Epoch 100/100\n",
      "500/500 [==============================] - 0s 38us/step - loss: 0.3946 - accuracy: 0.8180\n"
     ]
    },
    {
     "data": {
      "text/plain": [
       "<keras.callbacks.callbacks.History at 0x7f8477213fd0>"
      ]
     },
     "execution_count": 19,
     "metadata": {},
     "output_type": "execute_result"
    }
   ],
   "source": [
    "# fit model\n",
    "model.fit(trainX, trainy, epochs=100, verbose=1)\n",
    "#defaut = batch de 32"
   ]
  },
  {
   "cell_type": "code",
   "execution_count": 15,
   "metadata": {},
   "outputs": [],
   "source": [
    "# define and fit the base model\n",
    "def get_base_model(trainX, trainy):\n",
    "\t# define model\n",
    "\tmodel = Sequential()\n",
    "\tmodel.add(Dense(10, input_dim=2, activation='relu', kernel_initializer='he_uniform'))\n",
    "\tmodel.add(Dense(3, activation='softmax'))\n",
    "\t# compile model\n",
    "\topt = SGD(lr=0.01, momentum=0.9)\n",
    "\tmodel.compile(loss='categorical_crossentropy', optimizer=opt, metrics=['accuracy'])\n",
    "\t# fit model\n",
    "\tmodel.fit(trainX, trainy, epochs=100, verbose=0)\n",
    "\treturn model"
   ]
  },
  {
   "cell_type": "code",
   "execution_count": 22,
   "metadata": {},
   "outputs": [],
   "source": [
    "# get the base model\n",
    "model = get_base_model(trainX, trainy)\n"
   ]
  },
  {
   "cell_type": "code",
   "execution_count": 36,
   "metadata": {},
   "outputs": [],
   "source": [
    "# evaluate a fit model\n",
    "#verbose mostra o progesso do treino 0 nao mostra nada, 1 e 2 mostra a barra\n",
    "def evaluate_model(model, trainX, testX, trainy, testy):\n",
    "\t_,train_acc = model.evaluate(trainX, trainy, verbose=0)\n",
    "\t_,test_acc = model.evaluate(testX, testy, verbose=0)\n",
    "\treturn train_acc, test_acc"
   ]
  },
  {
   "cell_type": "code",
   "execution_count": 37,
   "metadata": {},
   "outputs": [
    {
     "data": {
      "text/plain": [
       "(0.8339999914169312, 0.8299999833106995)"
      ]
     },
     "execution_count": 37,
     "metadata": {},
     "output_type": "execute_result"
    }
   ],
   "source": [
    "evaluate_model(model,trainX,testX,trainy,testy)"
   ]
  },
  {
   "cell_type": "code",
   "execution_count": 38,
   "metadata": {},
   "outputs": [
    {
     "name": "stdout",
     "output_type": "stream",
     "text": [
      "> layers=2, train=0.834, test=0.830\n"
     ]
    }
   ],
   "source": [
    "# evaluate the base model\n",
    "scores = dict()\n",
    "train_acc, test_acc = evaluate_model(model, trainX, testX, trainy, testy)\n",
    "print('> layers=%d, train=%.3f, test=%.3f' % (len(model.layers), train_acc, test_acc))"
   ]
  },
  {
   "cell_type": "markdown",
   "metadata": {},
   "source": [
    "\"\"\" É necessária uma função que pode adicionar uma nova camada oculta e retreinar o modelo, mas apenas atualizar os pesos na camada recém-adicionada e na camada de saída.\n",
    "\n",
    "Isso requer primeiro o armazenamento da camada de saída atual, incluindo sua configuração e o conjunto atual de pesos.\"\"\""
   ]
  },
  {
   "cell_type": "code",
   "execution_count": 44,
   "metadata": {},
   "outputs": [],
   "source": [
    "# remember the current output layer\n",
    "output_layer = model.layers[-1]\n",
    "#armazenando a camada de saida"
   ]
  },
  {
   "cell_type": "markdown",
   "metadata": {},
   "source": [
    "Em seguida, removendo a camada de saída da pilha de camadas no modelo."
   ]
  },
  {
   "cell_type": "code",
   "execution_count": 45,
   "metadata": {},
   "outputs": [],
   "source": [
    "# remove the output layer\n",
    "model.pop()\n"
   ]
  },
  {
   "cell_type": "markdown",
   "metadata": {},
   "source": [
    "estou tirando a camada de saida, pois eu quero que ela seja treinada junto com a camda adicionada, faco isso, pois a proxima funcao vai deixar todas as camadas nao treinaveis"
   ]
  },
  {
   "cell_type": "markdown",
   "metadata": {},
   "source": [
    "Todas as camadas restantes no modelo podem ser marcadas como não treináveis, o que significa que seus pesos não podem ser atualizados quando a função fit () for chamada novamente."
   ]
  },
  {
   "cell_type": "code",
   "execution_count": 47,
   "metadata": {},
   "outputs": [],
   "source": [
    "# mark all remaining layers as non-trainable\n",
    "for layer in model.layers:\n",
    "\tlayer.trainable = False"
   ]
  },
  {
   "cell_type": "markdown",
   "metadata": {},
   "source": [
    "Podemos então adicionar uma nova camada oculta, neste caso com a mesma configuração da primeira camada oculta adicionada no modelo base."
   ]
  },
  {
   "cell_type": "code",
   "execution_count": 49,
   "metadata": {},
   "outputs": [],
   "source": [
    "# add a new hidden layer\n",
    "model.add(Dense(10, activation='relu', kernel_initializer='he_uniform'))"
   ]
  },
  {
   "cell_type": "markdown",
   "metadata": {},
   "source": [
    "Finalmente, a camada de saída pode ser adicionada de volta e o modelo pode ser reajustado no conjunto de dados de treinamento"
   ]
  },
  {
   "cell_type": "code",
   "execution_count": 50,
   "metadata": {},
   "outputs": [
    {
     "data": {
      "text/plain": [
       "<keras.callbacks.callbacks.History at 0x7f8477036c90>"
      ]
     },
     "execution_count": 50,
     "metadata": {},
     "output_type": "execute_result"
    }
   ],
   "source": [
    "# re-add the output layer\n",
    "model.add(output_layer)\n",
    "# fit model\n",
    "model.fit(trainX, trainy, epochs=100, verbose=0)"
   ]
  },
  {
   "cell_type": "markdown",
   "metadata": {},
   "source": [
    "Podemos amarrar todos esses elementos em uma função chamada add_layer () que leva o modelo e o conjunto de dados de treinamento como argumentos."
   ]
  },
  {
   "cell_type": "markdown",
   "metadata": {},
   "source": [
    "como a camada verdadeira nao esta treinavel, eu adiciona uma nova camada para pre treinar a rede, ela eh igual."
   ]
  },
  {
   "cell_type": "code",
   "execution_count": 51,
   "metadata": {},
   "outputs": [],
   "source": [
    "# add one new layer and re-train only the new layer\n",
    "def add_layer(model, trainX, trainy):\n",
    "\t# remember the current output layer\n",
    "\toutput_layer = model.layers[-1]#armazeno a ultima camada em output_layer\n",
    "\t# remove the output layer(removo ela da rede)\n",
    "\tmodel.pop()\n",
    "\t# mark all remaining layers as non-trainable(mantenho todas as camadas com os pesos\n",
    "    #sem atualizacao)\n",
    "\tfor layer in model.layers:\n",
    "\t\tlayer.trainable = False\n",
    "\t# add a new hidden layer(essa camada vai ser treinada com a saida, as outras\n",
    "    #sao mantidas com os pesos sem atualizar)\n",
    "\tmodel.add(Dense(10, activation='relu', kernel_initializer='he_uniform'))\n",
    "\t# re-add the output layer\n",
    "\tmodel.add(output_layer)#(adiciona a nova camada)\n",
    "\t# fit model\n",
    "\tmodel.fit(trainX, trainy, epochs=100, verbose=0)"
   ]
  },
  {
   "cell_type": "markdown",
   "metadata": {},
   "source": [
    "Esta função pode então ser chamada repetidamente com base no número de camadas que desejamos adicionar ao modelo.\n",
    "\n",
    "Nesse caso, adicionaremos 10 camadas, uma de cada vez, e avaliaremos o desempenho do modelo após cada camada adicional ser adicionada para ter uma ideia de como ela está afetando o desempenho.\n",
    "\n",
    "As pontuações de precisão de treinamento e teste são armazenadas no dicionário em relação ao número de camadas do modelo."
   ]
  },
  {
   "cell_type": "code",
   "execution_count": 52,
   "metadata": {},
   "outputs": [
    {
     "name": "stdout",
     "output_type": "stream",
     "text": [
      "> layers=4, train=0.848, test=0.818\n",
      "> layers=5, train=0.854, test=0.828\n",
      "> layers=6, train=0.858, test=0.822\n",
      "> layers=7, train=0.848, test=0.822\n",
      "> layers=8, train=0.852, test=0.826\n",
      "> layers=9, train=0.848, test=0.824\n",
      "> layers=10, train=0.846, test=0.824\n",
      "> layers=11, train=0.852, test=0.824\n",
      "> layers=12, train=0.848, test=0.826\n",
      "> layers=13, train=0.854, test=0.824\n"
     ]
    }
   ],
   "source": [
    "# add layers and evaluate the updated model\n",
    "n_layers = 20\n",
    "for i in range(n_layers):\n",
    "\t# add layer\n",
    "\tadd_layer(model, trainX, trainy)\n",
    "\t# evaluate model\n",
    "\ttrain_acc, test_acc = evaluate_model(model, trainX, testX, trainy, testy)\n",
    "\tprint('> layers=%d, train=%.3f, test=%.3f' % (len(model.layers), train_acc, test_acc))\n",
    "\t# store scores for plotting\n",
    "\tscores[len(model.layers)] = (train_acc, test_acc)\n"
   ]
  },
  {
   "cell_type": "markdown",
   "metadata": {},
   "source": [
    "No final da execução, um gráfico de linha é criado mostrando o número de camadas no modelo (eixo x) em comparação com a precisão do modelo numérico no trem e nos conjuntos de dados de teste.\n",
    "\n",
    "Esperaríamos a adição de camadas para melhorar o desempenho do modelo no conjunto de dados de treinamento e talvez até mesmo no conjunto de dados de teste."
   ]
  },
  {
   "cell_type": "code",
   "execution_count": 53,
   "metadata": {},
   "outputs": [
    {
     "data": {
      "image/png": "[encoded data removed]",
      "text/plain": [
       "<Figure size 432x288 with 1 Axes>"
      ]
     },
     "metadata": {
      "needs_background": "light"
     },
     "output_type": "display_data"
    }
   ],
   "source": [
    "# plot number of added layers vs accuracy\n",
    "pyplot.plot(list(scores.keys()), [scores[k][0] for k in scores.keys()], label='train', marker='.')\n",
    "pyplot.plot(list(scores.keys()), [scores[k][1] for k in scores.keys()], label='test', marker='.')\n",
    "pyplot.legend()\n",
    "pyplot.show()"
   ]
  },
  {
   "cell_type": "code",
   "execution_count": 55,
   "metadata": {},
   "outputs": [
    {
     "name": "stdout",
     "output_type": "stream",
     "text": [
      "> layers=2, train=0.828, test=0.818\n",
      "> layers=3, train=0.848, test=0.822\n",
      "> layers=4, train=0.832, test=0.818\n",
      "> layers=5, train=0.832, test=0.818\n",
      "> layers=6, train=0.838, test=0.818\n",
      "> layers=7, train=0.838, test=0.818\n",
      "> layers=8, train=0.842, test=0.818\n",
      "> layers=9, train=0.840, test=0.818\n",
      "> layers=10, train=0.838, test=0.816\n",
      "> layers=11, train=0.840, test=0.820\n",
      "> layers=12, train=0.834, test=0.820\n",
      "> layers=13, train=0.838, test=0.820\n",
      "> layers=14, train=0.838, test=0.816\n",
      "> layers=15, train=0.840, test=0.816\n",
      "> layers=16, train=0.836, test=0.816\n",
      "> layers=17, train=0.830, test=0.820\n",
      "> layers=18, train=0.838, test=0.814\n",
      "> layers=19, train=0.828, test=0.814\n",
      "> layers=20, train=0.840, test=0.814\n",
      "> layers=21, train=0.832, test=0.814\n",
      "> layers=22, train=0.836, test=0.816\n"
     ]
    },
    {
     "data": {
      "image/png": "[encoded data removed]",
      "text/plain": [
       "<Figure size 432x288 with 1 Axes>"
      ]
     },
     "metadata": {
      "needs_background": "light"
     },
     "output_type": "display_data"
    }
   ],
   "source": [
    "# supervised greedy layer-wise pretraining for blobs classification problem\n",
    "from sklearn.datasets import make_blobs\n",
    "from keras.layers import Dense\n",
    "from keras.models import Sequential\n",
    "from keras.optimizers import SGD\n",
    "from keras.utils import to_categorical\n",
    "from matplotlib import pyplot\n",
    "\n",
    "# prepare the dataset\n",
    "def prepare_data():\n",
    "\t# generate 2d classification dataset\n",
    "\tX, y = make_blobs(n_samples=1000, centers=3, n_features=2, cluster_std=2, random_state=2)\n",
    "\t# one hot encode output variable\n",
    "\ty = to_categorical(y)\n",
    "\t# split into train and test\n",
    "\tn_train = 500\n",
    "\ttrainX, testX = X[:n_train, :], X[n_train:, :]\n",
    "\ttrainy, testy = y[:n_train], y[n_train:]\n",
    "\treturn trainX, testX, trainy, testy\n",
    "\n",
    "# define and fit the base model\n",
    "def get_base_model(trainX, trainy):\n",
    "\t# define model\n",
    "\tmodel = Sequential()\n",
    "\tmodel.add(Dense(10, input_dim=2, activation='relu', kernel_initializer='he_uniform'))\n",
    "\tmodel.add(Dense(3, activation='softmax'))\n",
    "\t# compile model\n",
    "\topt = SGD(lr=0.01, momentum=0.9)\n",
    "\tmodel.compile(loss='categorical_crossentropy', optimizer=opt, metrics=['accuracy'])\n",
    "\t# fit model\n",
    "\tmodel.fit(trainX, trainy, epochs=100, verbose=0)\n",
    "\treturn model\n",
    "\n",
    "# evaluate a fit model\n",
    "def evaluate_model(model, trainX, testX, trainy, testy):\n",
    "\t_, train_acc = model.evaluate(trainX, trainy, verbose=0)\n",
    "\t_, test_acc = model.evaluate(testX, testy, verbose=0)\n",
    "\treturn train_acc, test_acc\n",
    "\n",
    "# add one new layer and re-train only the new layer\n",
    "def add_layer(model, trainX, trainy):\n",
    "\t# remember the current output layer\n",
    "\toutput_layer = model.layers[-1]\n",
    "\t# remove the output layer\n",
    "\tmodel.pop()\n",
    "\t# mark all remaining layers as non-trainable\n",
    "\tfor layer in model.layers:\n",
    "\t\tlayer.trainable = False\n",
    "\t# add a new hidden layer\n",
    "\tmodel.add(Dense(10, activation='relu', kernel_initializer='he_uniform'))\n",
    "\t# re-add the output layer\n",
    "\tmodel.add(output_layer)\n",
    "\t# fit model\n",
    "\tmodel.fit(trainX, trainy, epochs=100, verbose=0)\n",
    "\n",
    "# prepare data\n",
    "trainX, testX, trainy, testy = prepare_data()\n",
    "# get the base model\n",
    "model = get_base_model(trainX, trainy)\n",
    "# evaluate the base model\n",
    "scores = dict()\n",
    "train_acc, test_acc = evaluate_model(model, trainX, testX, trainy, testy)\n",
    "print('> layers=%d, train=%.3f, test=%.3f' % (len(model.layers), train_acc, test_acc))\n",
    "scores[len(model.layers)] = (train_acc, test_acc)\n",
    "# add layers and evaluate the updated model\n",
    "n_layers = 20\n",
    "for i in range(n_layers):\n",
    "\t# add layer\n",
    "\tadd_layer(model, trainX, trainy)\n",
    "\t# evaluate model\n",
    "\ttrain_acc, test_acc = evaluate_model(model, trainX, testX, trainy, testy)\n",
    "\tprint('> layers=%d, train=%.3f, test=%.3f' % (len(model.layers), train_acc, test_acc))\n",
    "\t# store scores for plotting\n",
    "\tscores[len(model.layers)] = (train_acc, test_acc)\n",
    "# plot number of added layers vs accuracy\n",
    "pyplot.plot(list(scores.keys()), [scores[k][0] for k in scores.keys()], label='train', marker='.')\n",
    "pyplot.plot(list(scores.keys()), [scores[k][1] for k in scores.keys()], label='test', marker='.')\n",
    "pyplot.legend()\n",
    "pyplot.show()"
   ]
  },
  {
   "cell_type": "markdown",
   "metadata": {},
   "source": [
    "Nesse caso, podemos ver que o modelo de linha de base se sai razoavelmente bem com esse problema. Conforme as camadas são aumentadas, podemos ver aproximadamente um aumento na precisão do modelo no conjunto de dados de treinamento, provavelmente porque ele está começando a super ajustar os dados. Vemos uma queda brusca na precisão da classificação no conjunto de dados de teste, provavelmente devido ao sobreajuste."
   ]
  },
  {
   "cell_type": "code",
   "execution_count": 62,
   "metadata": {},
   "outputs": [
    {
     "data": {
      "text/plain": [
       "0.828000009059906"
      ]
     },
     "execution_count": 62,
     "metadata": {},
     "output_type": "execute_result"
    }
   ],
   "source": []
  },
  {
   "cell_type": "code",
   "execution_count": 59,
   "metadata": {},
   "outputs": [
    {
     "data": {
      "text/plain": [
       "{2: (0.828000009059906, 0.8180000185966492),\n",
       " 3: (0.8479999899864197, 0.8220000267028809),\n",
       " 4: (0.8320000171661377, 0.8180000185966492),\n",
       " 5: (0.8320000171661377, 0.8180000185966492),\n",
       " 6: (0.8379999995231628, 0.8180000185966492),\n",
       " 7: (0.8379999995231628, 0.8180000185966492),\n",
       " 8: (0.8420000076293945, 0.8180000185966492),\n",
       " 9: (0.8399999737739563, 0.8180000185966492),\n",
       " 10: (0.8379999995231628, 0.8159999847412109),\n",
       " 11: (0.8399999737739563, 0.8199999928474426),\n",
       " 12: (0.8339999914169312, 0.8199999928474426),\n",
       " 13: (0.8379999995231628, 0.8199999928474426),\n",
       " 14: (0.8379999995231628, 0.8159999847412109),\n",
       " 15: (0.8399999737739563, 0.8159999847412109),\n",
       " 16: (0.8360000252723694, 0.8159999847412109),\n",
       " 17: (0.8299999833106995, 0.8199999928474426),\n",
       " 18: (0.8379999995231628, 0.8140000104904175),\n",
       " 19: (0.828000009059906, 0.8140000104904175),\n",
       " 20: (0.8399999737739563, 0.8140000104904175),\n",
       " 21: (0.8320000171661377, 0.8140000104904175),\n",
       " 22: (0.8360000252723694, 0.8159999847412109)}"
      ]
     },
     "execution_count": 59,
     "metadata": {},
     "output_type": "execute_result"
    }
   ],
   "source": [
    "scores"
   ]
  },
  {
   "cell_type": "code",
   "execution_count": null,
   "metadata": {},
   "outputs": [],
   "source": []
  }
 ],
 "metadata": {
  "kernelspec": {
   "display_name": "Python 3 (ipykernel)",
   "language": "python",
   "name": "python3"
  },
  "language_info": {
   "codemirror_mode": {
    "name": "ipython",
    "version": 3
   },
   "file_extension": ".py",
   "mimetype": "text/x-python",
   "name": "python",
   "nbconvert_exporter": "python",
   "pygments_lexer": "ipython3",
   "version": "3.10.6"
  }
 },
 "nbformat": 4,
 "nbformat_minor": 2
}
