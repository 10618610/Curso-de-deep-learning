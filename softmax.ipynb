{
 "cells": [
  {
   "cell_type": "markdown",
   "metadata": {
    "colab_type": "text",
    "id": "DjlnjPnjWYFw"
   },
   "source": [
    "## Imports"
   ]
  },
  {
   "cell_type": "code",
   "execution_count": 10,
   "metadata": {
    "colab": {},
    "colab_type": "code",
    "id": "yt0-hrch6rZw"
   },
   "outputs": [],
   "source": [
    "import numpy as np\n",
    "import tensorflow as tf\n",
    "import matplotlib.pylab as plt"
   ]
  },
  {
   "cell_type": "code",
   "execution_count": 2,
   "metadata": {
    "colab": {
     "base_uri": "https://localhost:8080/",
     "height": 34
    },
    "colab_type": "code",
    "executionInfo": {
     "elapsed": 827,
     "status": "ok",
     "timestamp": 1590774662039,
     "user": {
      "displayName": "Dalcimar Casanova",
      "photoUrl": "https://lh3.googleusercontent.com/a-/AOh14GgZzFT0FCo6nTJjXLoCVlWF617XKFK9oco_RLrc-A=s64",
      "userId": "01490701818826847808"
     },
     "user_tz": 180
    },
    "id": "_vv9AXUnZW78",
    "outputId": "d1186360-72df-419f-bc0f-74910ae08143"
   },
   "outputs": [
    {
     "data": {
      "text/plain": [
       "'2.10.0'"
      ]
     },
     "execution_count": 2,
     "metadata": {},
     "output_type": "execute_result"
    }
   ],
   "source": [
    "tf.__version__"
   ]
  },
  {
   "cell_type": "markdown",
   "metadata": {
    "colab_type": "text",
    "id": "K2OiUS-kWkJU"
   },
   "source": [
    "## Preprocessing\n",
    "\n"
   ]
  },
  {
   "cell_type": "markdown",
   "metadata": {
    "colab_type": "text",
    "id": "DdfoFiEEXYj1"
   },
   "source": [
    "### Load dataset"
   ]
  },
  {
   "cell_type": "code",
   "execution_count": null,
   "metadata": {},
   "outputs": [],
   "source": []
  },
  {
   "cell_type": "code",
   "execution_count": 6,
   "metadata": {
    "colab": {
     "base_uri": "https://localhost:8080/",
     "height": 101
    },
    "colab_type": "code",
    "executionInfo": {
     "elapsed": 631,
     "status": "ok",
     "timestamp": 1590774788625,
     "user": {
      "displayName": "Dalcimar Casanova",
      "photoUrl": "https://lh3.googleusercontent.com/a-/AOh14GgZzFT0FCo6nTJjXLoCVlWF617XKFK9oco_RLrc-A=s64",
      "userId": "01490701818826847808"
     },
     "user_tz": 180
    },
    "id": "-lCgz6UC8pKT",
    "outputId": "24a6079c-b64d-449d-b7c8-c3d2ab2c0432"
   },
   "outputs": [
    {
     "name": "stdout",
     "output_type": "stream",
     "text": [
      "(60000, 28, 28, 1)\n",
      "(60000,)\n",
      "(10000, 28, 28, 1)\n"
     ]
    },
    {
     "data": {
      "text/plain": [
       "(10000,)"
      ]
     },
     "execution_count": 6,
     "metadata": {},
     "output_type": "execute_result"
    }
   ],
   "source": [
    "from tensorflow.keras.datasets import mnist\n",
    "# load dataset\n",
    "(train_images, train_labels), (test_images, test_labels) = mnist.load_data()\n",
    "train = train_images.reshape((60000, 28, 28, 1))\n",
    "print(train.shape)\n",
    "y_train = train_labels\n",
    "print(y_train.shape)\n",
    "test = test_images.reshape((10000, 28, 28, 1))\n",
    "print(test.shape)\n",
    "y_test = test_labels\n",
    "y_test.shape\n"
   ]
  },
  {
   "cell_type": "code",
   "execution_count": 11,
   "metadata": {},
   "outputs": [
    {
     "data": {
      "image/png": "[encoded data removed]",
      "text/plain": [
       "<Figure size 1000x200 with 20 Axes>"
      ]
     },
     "metadata": {},
     "output_type": "display_data"
    }
   ],
   "source": [
    "fig, axs = plt.subplots(nrows=2, ncols=10, figsize=(10,2))\n",
    "for i in range(10):\n",
    "    axs[0,i].matshow(np.squeeze(train[i]), cmap=plt.cm.Greys)\n",
    "    #axs[1,i].matshow((np.squeeze(sample_edge_from_x[i])), cmap=plt.cm.Greys)\n",
    "    axs[0,i].axis('off')\n",
    "    axs[1,i].axis('off')"
   ]
  },
  {
   "cell_type": "markdown",
   "metadata": {
    "colab_type": "text",
    "id": "O-1fdQNDBVSD"
   },
   "source": [
    "One Hot encoding\n",
    "\n"
   ]
  },
  {
   "cell_type": "code",
   "execution_count": 8,
   "metadata": {
    "colab": {
     "base_uri": "https://localhost:8080/",
     "height": 67
    },
    "colab_type": "code",
    "executionInfo": {
     "elapsed": 625,
     "status": "ok",
     "timestamp": 1590774790006,
     "user": {
      "displayName": "Dalcimar Casanova",
      "photoUrl": "https://lh3.googleusercontent.com/a-/AOh14GgZzFT0FCo6nTJjXLoCVlWF617XKFK9oco_RLrc-A=s64",
      "userId": "01490701818826847808"
     },
     "user_tz": 180
    },
    "id": "CUHMTkc4FBT8",
    "outputId": "ae1f2a63-8fcc-4354-efc5-da9f254124f8"
   },
   "outputs": [
    {
     "data": {
      "text/plain": [
       "array([0., 0., 0., 0., 0., 1., 0., 0., 0., 0.], dtype=float32)"
      ]
     },
     "execution_count": 8,
     "metadata": {},
     "output_type": "execute_result"
    }
   ],
   "source": [
    "from keras.utils import to_categorical\n",
    "\n",
    "y = to_categorical(y_train)\n",
    "y[0]"
   ]
  },
  {
   "cell_type": "markdown",
   "metadata": {
    "colab_type": "text",
    "id": "nbnRFshgv75_"
   },
   "source": [
    "### Cross validation"
   ]
  },
  {
   "cell_type": "code",
   "execution_count": 13,
   "metadata": {
    "colab": {
     "base_uri": "https://localhost:8080/",
     "height": 84
    },
    "colab_type": "code",
    "executionInfo": {
     "elapsed": 623,
     "status": "ok",
     "timestamp": 1590774842455,
     "user": {
      "displayName": "Dalcimar Casanova",
      "photoUrl": "https://lh3.googleusercontent.com/a-/AOh14GgZzFT0FCo6nTJjXLoCVlWF617XKFK9oco_RLrc-A=s64",
      "userId": "01490701818826847808"
     },
     "user_tz": 180
    },
    "id": "5dVbBqkOv8Av",
    "outputId": "29e072aa-c085-47f0-a183-9448e564620d"
   },
   "outputs": [
    {
     "name": "stdout",
     "output_type": "stream",
     "text": [
      "X_train.shape (700, 28, 28, 1)\n",
      "y_train.shape (700,)\n",
      "X_test.shape (300, 28, 28, 1)\n",
      "y_test.shape (300,)\n"
     ]
    }
   ],
   "source": [
    "from sklearn.model_selection import train_test_split\n",
    "\n",
    "X_train, X_test, y_train, y_test = train_test_split(train[:1000], y_train[:1000], test_size=0.3, random_state=123)\n",
    "\n",
    "print('X_train.shape', X_train.shape)\n",
    "print('y_train.shape', y_train.shape)\n",
    "print('X_test.shape', X_test.shape)\n",
    "print('y_test.shape', y_test.shape)"
   ]
  },
  {
   "cell_type": "code",
   "execution_count": 28,
   "metadata": {},
   "outputs": [],
   "source": [
    "y = y_train.reshape(-1,1)"
   ]
  },
  {
   "cell_type": "code",
   "execution_count": 15,
   "metadata": {},
   "outputs": [],
   "source": [
    "X_train = X_train.reshape(-1,28*28)\n",
    "X_test = X_test.reshape(-1,28*28)"
   ]
  },
  {
   "cell_type": "code",
   "execution_count": 20,
   "metadata": {},
   "outputs": [
    {
     "data": {
      "text/plain": [
       "784"
      ]
     },
     "execution_count": 20,
     "metadata": {},
     "output_type": "execute_result"
    }
   ],
   "source": [
    "X_train.shape[1]"
   ]
  },
  {
   "cell_type": "markdown",
   "metadata": {
    "colab_type": "text",
    "id": "nfeeG0NruVjW"
   },
   "source": [
    "### Data normalization\n",
    "\n"
   ]
  },
  {
   "cell_type": "code",
   "execution_count": 18,
   "metadata": {
    "colab": {
     "base_uri": "https://localhost:8080/",
     "height": 50
    },
    "colab_type": "code",
    "executionInfo": {
     "elapsed": 583,
     "status": "ok",
     "timestamp": 1590774847872,
     "user": {
      "displayName": "Dalcimar Casanova",
      "photoUrl": "https://lh3.googleusercontent.com/a-/AOh14GgZzFT0FCo6nTJjXLoCVlWF617XKFK9oco_RLrc-A=s64",
      "userId": "01490701818826847808"
     },
     "user_tz": 180
    },
    "id": "2FIHA6FjuVqY",
    "outputId": "c503461f-b9c5-4e99-ca81-ff43a177be7c"
   },
   "outputs": [
    {
     "name": "stdout",
     "output_type": "stream",
     "text": [
      "X_train mean 2.2787084820294756e-18\n",
      "X_train standard deviation 0.8748177652797067\n"
     ]
    }
   ],
   "source": [
    "from sklearn.preprocessing import StandardScaler\n",
    "\n",
    "scaler = StandardScaler()\n",
    "scaler.fit(X_train)\n",
    "X_train = scaler.transform(X_train)\n",
    "X_test = scaler.transform(X_test)\n",
    "\n",
    "print('X_train mean', np.mean(X_train))\n",
    "print('X_train standard deviation', np.std(X_train))"
   ]
  },
  {
   "cell_type": "markdown",
   "metadata": {
    "colab_type": "text",
    "id": "uWoD2D49zN3p"
   },
   "source": [
    "## Learning\n",
    "\n",
    "### Creating the Logistic Regression"
   ]
  },
  {
   "cell_type": "code",
   "execution_count": 39,
   "metadata": {
    "colab": {
     "base_uri": "https://localhost:8080/",
     "height": 218
    },
    "colab_type": "code",
    "executionInfo": {
     "elapsed": 7875,
     "status": "ok",
     "timestamp": 1590774908983,
     "user": {
      "displayName": "Dalcimar Casanova",
      "photoUrl": "https://lh3.googleusercontent.com/a-/AOh14GgZzFT0FCo6nTJjXLoCVlWF617XKFK9oco_RLrc-A=s64",
      "userId": "01490701818826847808"
     },
     "user_tz": 180
    },
    "id": "Noa1UZKpCDfA",
    "outputId": "69f19faf-c77e-4a98-8652-eddb81c3a541"
   },
   "outputs": [
    {
     "name": "stdout",
     "output_type": "stream",
     "text": [
      "Model: \"sequential_8\"\n",
      "_________________________________________________________________\n",
      " Layer (type)                Output Shape              Param #   \n",
      "=================================================================\n",
      " dense_7 (Dense)             (None, 128)               100480    \n",
      "                                                                 \n",
      " dense_8 (Dense)             (None, 10)                1290      \n",
      "                                                                 \n",
      "=================================================================\n",
      "Total params: 101,770\n",
      "Trainable params: 101,770\n",
      "Non-trainable params: 0\n",
      "_________________________________________________________________\n"
     ]
    }
   ],
   "source": [
    "model = tf.keras.models.Sequential()\n",
    "model.add(tf.keras.layers.Dense(units=128, activation='relu', input_shape=(784, )))\n",
    "model.add(tf.keras.layers.Dense(units=10, activation='softmax'))\n",
    "\n",
    "\n",
    "model.compile(optimizer='adam', loss='sparse_categorical_crossentropy', metrics=['sparse_categorical_accuracy'])\n",
    "\n",
    "model.summary()"
   ]
  },
  {
   "cell_type": "markdown",
   "metadata": {
    "colab_type": "text",
    "id": "jAseRGaD0Bl9"
   },
   "source": [
    "### Train"
   ]
  },
  {
   "cell_type": "code",
   "execution_count": 42,
   "metadata": {
    "colab": {
     "base_uri": "https://localhost:8080/",
     "height": 370
    },
    "colab_type": "code",
    "executionInfo": {
     "elapsed": 4159,
     "status": "ok",
     "timestamp": 1590774931899,
     "user": {
      "displayName": "Dalcimar Casanova",
      "photoUrl": "https://lh3.googleusercontent.com/a-/AOh14GgZzFT0FCo6nTJjXLoCVlWF617XKFK9oco_RLrc-A=s64",
      "userId": "01490701818826847808"
     },
     "user_tz": 180
    },
    "id": "n8Xnwssj0BuL",
    "outputId": "4609056f-6afb-4edd-f46c-b85e52021755"
   },
   "outputs": [
    {
     "name": "stdout",
     "output_type": "stream",
     "text": [
      "Epoch 1/40\n",
      "22/22 [==============================] - 0s 6ms/step - loss: 0.0851 - sparse_categorical_accuracy: 0.9957\n",
      "Epoch 2/40\n",
      "22/22 [==============================] - 0s 6ms/step - loss: 0.0803 - sparse_categorical_accuracy: 0.9971\n",
      "Epoch 3/40\n",
      "22/22 [==============================] - 0s 5ms/step - loss: 0.0750 - sparse_categorical_accuracy: 0.9943\n",
      "Epoch 4/40\n",
      "22/22 [==============================] - 0s 5ms/step - loss: 0.0719 - sparse_categorical_accuracy: 0.9957\n",
      "Epoch 5/40\n",
      "22/22 [==============================] - 0s 4ms/step - loss: 0.0689 - sparse_categorical_accuracy: 0.9943\n",
      "Epoch 6/40\n",
      "22/22 [==============================] - 0s 5ms/step - loss: 0.0652 - sparse_categorical_accuracy: 0.9971\n",
      "Epoch 7/40\n",
      "22/22 [==============================] - 0s 5ms/step - loss: 0.0570 - sparse_categorical_accuracy: 0.9986\n",
      "Epoch 8/40\n",
      "22/22 [==============================] - 0s 4ms/step - loss: 0.0539 - sparse_categorical_accuracy: 1.0000\n",
      "Epoch 9/40\n",
      "22/22 [==============================] - 0s 4ms/step - loss: 0.0567 - sparse_categorical_accuracy: 0.9943\n",
      "Epoch 10/40\n",
      "22/22 [==============================] - 0s 5ms/step - loss: 0.0530 - sparse_categorical_accuracy: 0.9957\n",
      "Epoch 11/40\n",
      "22/22 [==============================] - 0s 5ms/step - loss: 0.0473 - sparse_categorical_accuracy: 0.9986\n",
      "Epoch 12/40\n",
      "22/22 [==============================] - 0s 4ms/step - loss: 0.0449 - sparse_categorical_accuracy: 1.0000\n",
      "Epoch 13/40\n",
      "22/22 [==============================] - 0s 6ms/step - loss: 0.0415 - sparse_categorical_accuracy: 1.0000\n",
      "Epoch 14/40\n",
      "22/22 [==============================] - 0s 4ms/step - loss: 0.0405 - sparse_categorical_accuracy: 0.9971\n",
      "Epoch 15/40\n",
      "22/22 [==============================] - 0s 5ms/step - loss: 0.0401 - sparse_categorical_accuracy: 1.0000\n",
      "Epoch 16/40\n",
      "22/22 [==============================] - 0s 6ms/step - loss: 0.0369 - sparse_categorical_accuracy: 0.9971\n",
      "Epoch 17/40\n",
      "22/22 [==============================] - 0s 5ms/step - loss: 0.0367 - sparse_categorical_accuracy: 0.9971\n",
      "Epoch 18/40\n",
      "22/22 [==============================] - 0s 6ms/step - loss: 0.0351 - sparse_categorical_accuracy: 1.0000\n",
      "Epoch 19/40\n",
      "22/22 [==============================] - 0s 7ms/step - loss: 0.0316 - sparse_categorical_accuracy: 1.0000\n",
      "Epoch 20/40\n",
      "22/22 [==============================] - 0s 6ms/step - loss: 0.0334 - sparse_categorical_accuracy: 0.9971\n",
      "Epoch 21/40\n",
      "22/22 [==============================] - 0s 6ms/step - loss: 0.0268 - sparse_categorical_accuracy: 1.0000\n",
      "Epoch 22/40\n",
      "22/22 [==============================] - 0s 4ms/step - loss: 0.0261 - sparse_categorical_accuracy: 1.0000\n",
      "Epoch 23/40\n",
      "22/22 [==============================] - 0s 3ms/step - loss: 0.0248 - sparse_categorical_accuracy: 1.0000\n",
      "Epoch 24/40\n",
      "22/22 [==============================] - 0s 3ms/step - loss: 0.0228 - sparse_categorical_accuracy: 1.0000\n",
      "Epoch 25/40\n",
      "22/22 [==============================] - 0s 4ms/step - loss: 0.0225 - sparse_categorical_accuracy: 1.0000\n",
      "Epoch 26/40\n",
      "22/22 [==============================] - 0s 3ms/step - loss: 0.0217 - sparse_categorical_accuracy: 1.0000\n",
      "Epoch 27/40\n",
      "22/22 [==============================] - 0s 4ms/step - loss: 0.0214 - sparse_categorical_accuracy: 0.9986\n",
      "Epoch 28/40\n",
      "22/22 [==============================] - 0s 3ms/step - loss: 0.0206 - sparse_categorical_accuracy: 1.0000\n",
      "Epoch 29/40\n",
      "22/22 [==============================] - 0s 3ms/step - loss: 0.0187 - sparse_categorical_accuracy: 1.0000\n",
      "Epoch 30/40\n",
      "22/22 [==============================] - 0s 4ms/step - loss: 0.0189 - sparse_categorical_accuracy: 1.0000\n",
      "Epoch 31/40\n",
      "22/22 [==============================] - 0s 5ms/step - loss: 0.0177 - sparse_categorical_accuracy: 1.0000\n",
      "Epoch 32/40\n",
      "22/22 [==============================] - 0s 4ms/step - loss: 0.0166 - sparse_categorical_accuracy: 1.0000\n",
      "Epoch 33/40\n",
      "22/22 [==============================] - 0s 4ms/step - loss: 0.0158 - sparse_categorical_accuracy: 1.0000\n",
      "Epoch 34/40\n",
      "22/22 [==============================] - 0s 4ms/step - loss: 0.0148 - sparse_categorical_accuracy: 1.0000\n",
      "Epoch 35/40\n",
      "22/22 [==============================] - 0s 3ms/step - loss: 0.0145 - sparse_categorical_accuracy: 1.0000\n",
      "Epoch 36/40\n",
      "22/22 [==============================] - 0s 3ms/step - loss: 0.0142 - sparse_categorical_accuracy: 1.0000\n",
      "Epoch 37/40\n",
      "22/22 [==============================] - 0s 3ms/step - loss: 0.0136 - sparse_categorical_accuracy: 1.0000\n",
      "Epoch 38/40\n",
      "22/22 [==============================] - 0s 4ms/step - loss: 0.0129 - sparse_categorical_accuracy: 1.0000\n",
      "Epoch 39/40\n",
      "22/22 [==============================] - 0s 3ms/step - loss: 0.0124 - sparse_categorical_accuracy: 1.0000\n",
      "Epoch 40/40\n",
      "22/22 [==============================] - 0s 5ms/step - loss: 0.0125 - sparse_categorical_accuracy: 1.0000\n"
     ]
    },
    {
     "data": {
      "text/plain": [
       "<keras.callbacks.History at 0x7fccc01b0e50>"
      ]
     },
     "execution_count": 42,
     "metadata": {},
     "output_type": "execute_result"
    }
   ],
   "source": [
    "model.fit(X_train, y_train, epochs=40)"
   ]
  },
  {
   "cell_type": "markdown",
   "metadata": {
    "colab_type": "text",
    "id": "T0Xs1oT36u9V"
   },
   "source": [
    "## Evaluation"
   ]
  },
  {
   "cell_type": "code",
   "execution_count": 43,
   "metadata": {
    "colab": {
     "base_uri": "https://localhost:8080/",
     "height": 34
    },
    "colab_type": "code",
    "executionInfo": {
     "elapsed": 627,
     "status": "ok",
     "timestamp": 1590774939582,
     "user": {
      "displayName": "Dalcimar Casanova",
      "photoUrl": "https://lh3.googleusercontent.com/a-/AOh14GgZzFT0FCo6nTJjXLoCVlWF617XKFK9oco_RLrc-A=s64",
      "userId": "01490701818826847808"
     },
     "user_tz": 180
    },
    "id": "-nQCioOmAL7i",
    "outputId": "65bfa66d-0ceb-4a91-bf14-45e1eaa41b8f"
   },
   "outputs": [
    {
     "name": "stdout",
     "output_type": "stream",
     "text": [
      "10/10 [==============================] - 0s 3ms/step - loss: 6.1244 - sparse_categorical_accuracy: 0.1000\n"
     ]
    }
   ],
   "source": [
    "test_loss, test_accuracy = model.evaluate(X_test, y_test)"
   ]
  },
  {
   "cell_type": "code",
   "execution_count": 47,
   "metadata": {
    "colab": {
     "base_uri": "https://localhost:8080/",
     "height": 1000
    },
    "colab_type": "code",
    "executionInfo": {
     "elapsed": 636,
     "status": "ok",
     "timestamp": 1590774949525,
     "user": {
      "displayName": "Dalcimar Casanova",
      "photoUrl": "https://lh3.googleusercontent.com/a-/AOh14GgZzFT0FCo6nTJjXLoCVlWF617XKFK9oco_RLrc-A=s64",
      "userId": "01490701818826847808"
     },
     "user_tz": 180
    },
    "id": "BsFr_QN4CIol",
    "outputId": "cf9395dd-882f-4137-b653-3bf631855993"
   },
   "outputs": [
    {
     "name": "stdout",
     "output_type": "stream",
     "text": [
      "10/10 [==============================] - 0s 4ms/step\n",
      "0.5564358\n",
      "0.5825877\n"
     ]
    }
   ],
   "source": [
    "y_test_pred = model.predict(X_test)\n",
    "print(y_test_pred[0].max())\n",
    "print(y_test_pred[1].max())"
   ]
  },
  {
   "cell_type": "code",
   "execution_count": 19,
   "metadata": {
    "colab": {
     "base_uri": "https://localhost:8080/",
     "height": 101
    },
    "colab_type": "code",
    "executionInfo": {
     "elapsed": 666,
     "status": "ok",
     "timestamp": 1590774967124,
     "user": {
      "displayName": "Dalcimar Casanova",
      "photoUrl": "https://lh3.googleusercontent.com/a-/AOh14GgZzFT0FCo6nTJjXLoCVlWF617XKFK9oco_RLrc-A=s64",
      "userId": "01490701818826847808"
     },
     "user_tz": 180
    },
    "id": "69_RLTdRSB7Q",
    "outputId": "87f46c70-1d94-4398-f92a-e0b0c5bef269"
   },
   "outputs": [
    {
     "name": "stdout",
     "output_type": "stream",
     "text": [
      "[[-0.21551709  0.04544187  0.19904298]\n",
      " [ 0.18186337 -0.16578679 -0.06487003]\n",
      " [-0.2763915   0.09150375  0.23186293]\n",
      " [-0.267023    0.06517315  0.245585  ]]\n",
      "[-0.08262867  0.02675044 -0.05810794]\n"
     ]
    }
   ],
   "source": [
    "print(model.get_weights()[0])\n",
    "print(model.get_weights()[1])"
   ]
  }
 ],
 "metadata": {
  "accelerator": "GPU",
  "colab": {
   "collapsed_sections": [],
   "name": "Multiclass Logistic Regression Keras.ipynb",
   "provenance": [
    {
     "file_id": "1eaOqLrk8rJPPJIF_OwavPxuHgSDlLzc-",
     "timestamp": 1590765360355
    },
    {
     "file_id": "1Ti57ZAmTelpWIXb_lI5lSSZYtt9G7Vy3",
     "timestamp": 1590598071925
    },
    {
     "file_id": "1Db34kehIC4Hg4nfobFibhk3EXEG30MsH",
     "timestamp": 1590592529757
    },
    {
     "file_id": "1knvLkiSMK-QM2qNSnKPEuvR5HQA4oXCU",
     "timestamp": 1569961368051
    },
    {
     "file_id": "17jqM6EqCaDENJTcUvAuo6DOf3IKYC571",
     "timestamp": 1568417207830
    },
    {
     "file_id": "1tj02zPuUkkbLob1oo63f9TliYj5DQHA3",
     "timestamp": 1558700825389
    }
   ]
  },
  "kernelspec": {
   "display_name": "Python 3 (ipykernel)",
   "language": "python",
   "name": "python3"
  },
  "language_info": {
   "codemirror_mode": {
    "name": "ipython",
    "version": 3
   },
   "file_extension": ".py",
   "mimetype": "text/x-python",
   "name": "python",
   "nbconvert_exporter": "python",
   "pygments_lexer": "ipython3",
   "version": "3.11.4"
  }
 },
 "nbformat": 4,
 "nbformat_minor": 4
}
