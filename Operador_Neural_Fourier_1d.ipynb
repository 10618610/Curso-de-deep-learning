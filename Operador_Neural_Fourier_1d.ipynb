{
 "cells": [
  {
   "cell_type": "code",
   "execution_count": 141,
   "id": "8470c6d5",
   "metadata": {},
   "outputs": [],
   "source": [
    "import torch.nn.functional as F\n",
    "from timeit import default_timer\n",
    "from utilities3 import *\n",
    "\n",
    "torch.manual_seed(0)\n",
    "np.random.seed(0)"
   ]
  },
  {
   "cell_type": "markdown",
   "id": "0a41ad41",
   "metadata": {},
   "source": [
    "# Somatoria de Einstein\n",
    "\n",
    "## $$ v_{i} \\cdot \\hat{e}_{i} = \\sum_{i=1}^{3}v_i \\hat{e}_i$$\n",
    "## $$ w_{j} \\cdot \\hat{e}_{j} =\\sum_{j=1}^{3}w_j \\hat{e}_i$$\n",
    "## $$\\hat{e}_{i}\\cdot\\hat{e}_{j} = \\delta_{i,j}$$\n",
    "### onde ($i = j = 1$ ) ou ($i\\neq j = 0$)\n",
    "\n",
    "## $$ \\overrightarrow{v}\\cdot\\overrightarrow{w} = (\\sum_{i=1}^{3}v_i \\hat{e}_i) \\cdot (\\sum_{j=1}^{3}w_j \\hat{e}_j)$$\n",
    "## $$=(v_i \\hat{e}_i)\\cdot w_j \\hat{e}_j) = v_iw_j\\delta_{i,j} = v_iw_i$$\n",
    "## $$=v_1w_1 + v_2w_2+v_3w_3$$"
   ]
  },
  {
   "cell_type": "code",
   "execution_count": 2,
   "id": "dda62ab7",
   "metadata": {},
   "outputs": [
    {
     "name": "stdout",
     "output_type": "stream",
     "text": [
      "tensor([ 1.5410, -0.2934, -2.1788])\n",
      "tensor([ 0.5684, -1.0845, -1.3986,  0.4033])\n"
     ]
    }
   ],
   "source": [
    "x = torch.randn(3)\n",
    "print(x)\n",
    "y = torch.randn(4)\n",
    "print(y)"
   ]
  },
  {
   "cell_type": "code",
   "execution_count": 3,
   "id": "8c434b4f",
   "metadata": {},
   "outputs": [
    {
     "data": {
      "text/plain": [
       "tensor([[ 0.8760, -1.6712, -2.1552,  0.6216],\n",
       "        [-0.1668,  0.3182,  0.4104, -0.1184],\n",
       "        [-1.2385,  2.3629,  3.0472, -0.8788]])"
      ]
     },
     "execution_count": 3,
     "metadata": {},
     "output_type": "execute_result"
    }
   ],
   "source": [
    "torch.einsum('i,j->ij', x, y)"
   ]
  },
  {
   "cell_type": "markdown",
   "id": "e461db56",
   "metadata": {},
   "source": [
    "## $$ i,j -> ij = \\sum_i^3( \\sum_j^4 x_iy_j)$$\n",
    " \n",
    "## $$  = \\begin{matrix}\n",
    "x_1y_1 & x_1y_2 & x_1y_3 & x_1y_4\\\\\n",
    "x_2y_1 & x_2y_2 & x_2y_3 & x_2y_4\\\\\n",
    "x_3y_1 & x_3y_2 & x_3y_3 & x_3y_4\n",
    "\\end{matrix}\n",
    " $$"
   ]
  },
  {
   "cell_type": "code",
   "execution_count": 4,
   "id": "e4c50318",
   "metadata": {},
   "outputs": [
    {
     "name": "stdout",
     "output_type": "stream",
     "text": [
      "tensor([[[-1.3527, -1.6959,  0.5667,  0.7935,  0.5988],\n",
      "         [-1.5551, -0.3414,  1.8530,  0.7502, -0.5855]],\n",
      "\n",
      "        [[-0.1734,  0.1835,  1.3894,  1.5863,  0.9383],\n",
      "         [ 0.4889, -0.6731,  0.8728,  1.0554,  0.1778]],\n",
      "\n",
      "        [[-0.2303, -0.3918, -1.5810,  1.7066, -0.4462],\n",
      "         [ 0.7440,  1.5210,  3.4105, -1.5312, -1.2341]]])\n",
      "tensor([[[ 5.0733e-01, -5.9103e-01, -5.6925e-01,  9.1997e-01],\n",
      "         [ 1.1108e+00,  1.2899e+00, -1.4782e+00,  2.5672e+00],\n",
      "         [ 4.4551e-01,  1.3253e+00, -1.6293e+00, -5.4974e-01],\n",
      "         [-4.7983e-01, -4.9968e-01, -1.0670e+00,  1.1149e+00],\n",
      "         [-1.0925e+00, -8.5194e-02, -9.3348e-02,  6.8705e-01]],\n",
      "\n",
      "        [[-8.3832e-01,  8.9182e-04,  8.4189e-01, -4.0003e-01],\n",
      "         [ 6.2114e-01,  6.3818e-01, -2.4600e-01,  2.3025e+00],\n",
      "         [-1.8817e+00, -4.9727e-02, -1.0450e+00, -9.5650e-01],\n",
      "         [-2.0252e-02, -4.3717e-01,  1.6459e+00, -1.3602e+00],\n",
      "         [ 3.4457e-01,  5.1987e-01, -2.6133e+00, -1.6965e+00]],\n",
      "\n",
      "        [[ 9.9403e-02,  4.4182e-01,  2.4693e-01,  7.6887e-02],\n",
      "         [-6.0367e-01, -1.2788e+00,  9.2950e-02, -6.6610e-01],\n",
      "         [ 6.0805e-01, -7.3002e-01, -8.8338e-01, -4.1891e-01],\n",
      "         [ 4.7656e-01, -1.0163e+00,  1.8037e-01,  1.0833e-01],\n",
      "         [-7.5482e-01,  2.4432e-01, -7.7326e-02,  1.1640e-01]]])\n"
     ]
    },
    {
     "data": {
      "text/plain": [
       "torch.Size([3, 2, 4])"
      ]
     },
     "execution_count": 4,
     "metadata": {},
     "output_type": "execute_result"
    }
   ],
   "source": [
    "As = torch.randn(3, 2, 5)\n",
    "print(As)\n",
    "Bs = torch.randn(3, 5, 4)\n",
    "print(Bs)\n",
    "torch.einsum('bij,bjk->bik', As, Bs).shape"
   ]
  },
  {
   "cell_type": "markdown",
   "id": "89d75a57",
   "metadata": {},
   "source": [
    "# Fim \n",
    "\n",
    "# Transformada de Fourier\n",
    "\n",
    "## Série de Fourier\n",
    "### Um sinal Periódico pode ser representado pela soma de seno e cosseno.\n",
    "### $$ T(t) = \\dfrac{a_0}{2} + \\sum_{n=1}^\\infty [ a_n\\cos(\\dfrac{n\\pi t)}{L} + b_n\\sin(\\dfrac{n\\pi t)}{L}] $$\n",
    "###$$ a_0 = \\dfrac{1}{L}\\int_c^{c+2L} f(t)dt$$\n",
    "###$$ a_n = \\dfrac{1}{L}\\int_c^{c+2L} f(t)\\cos(\\dfrac{n\\pi t}{L})dt$$\n",
    "### $$ b_n = \\dfrac{1}{L}\\int_c^{c+2L} f(t)\\sin(\\dfrac{n\\pi t}{L})dt$$\n",
    "\n",
    "## Transformada\n",
    "### Transformar uma função qualquer do seu domínio do tempo para o domínio das frequências.\n",
    "### $$\\mathcal{F}(\\omega) =\\mathcal{F}\\{f(t)\\} = \\int_{-\\infty}^{+\\infty}f(t)e^{-i\\omega t}dt  $$\n",
    "#### A transformada de Fourier nos fornece as frequencias e amplitudes que formam o sinal"
   ]
  },
  {
   "cell_type": "markdown",
   "id": "4c8ce6e9",
   "metadata": {},
   "source": [
    "<img src='TF.png'>\n",
    "<img src='TF3.png'>\n",
    "\n",
    "### Transformada Inversa \n",
    "### $$f(t) = \\int_{-\\infty}^{+\\infty}\\mathcal{F}(\\omega)e^{i\\omega t}d\\omega  $$\n",
    "### Transformar novamente  o domínio das frequências para o domínio do tempo.\n",
    "\n",
    "# -------------------------------------------------------------------------------------------------------"
   ]
  },
  {
   "cell_type": "markdown",
   "id": "aae0a244",
   "metadata": {},
   "source": [
    "# Operador Neural\n",
    "## Matematicamente operadores são usualmente referidos como mapeadores entre espaço de funções como integração, diferenciação, por exemplo. Diferente dos métodos clássicos de solucionadores de equações diferenciais como, por exemplo, elementos finitos, diferença finita que discretizam o domínio físico e tornam o problema no espaço euclidiano de dimensão finita, o operador neural é capaz de aprender diretamente o operador da equação diferencial e são invariantes a discretização do domínio, que em certo sentido, está mais próximo da solução real, ou seja, aprende a função continua ao invés de valores discretizados.\n",
    "\n",
    "### 1) => São independente das malhas de discretização, que produz um conjunto de parâmetros que podem ser usado em diferentes tipos de discretização.\n",
    "### 2) => Transfere soluções entre malhas diferentes.\n",
    "### 3) => São treinados diretamente nos dados.\n",
    "### 4) => Aprendem o mapeamento de funções, generalizando em diferentes discretizações. Com isso podem ser treinado com dados menos precisos e ele é capaz de aprender e gerar resultados precisos.\n",
    "\n",
    "\n",
    "\n",
    "### Considere o domínio $\\mathcal{D} \\in \\mathcal{R}^d$\n",
    "### Considere a equação diferencial:\n",
    "### $$\\mathcal{L}u = f $$\n",
    "#### onde $\\mathcal{L}$ é um operador que mapea $u$ para uma função $f$\n",
    "### Por exemplo:\n",
    "$$\n",
    "\\begin{align}\n",
    "    -\\nabla\\cdot(a(x)\\nabla u(x)) &= f(x)  &&  x \\in D \\\\\n",
    "    u(x) &= 0  && x \\in \\partial D,\n",
    "\\end{align}\n",
    "$$\n",
    "\n",
    "#### Para qualquer função $a(x)$, a equação tem um solução $u(x)$, mantendo $f(x)$ fixo.\n",
    "#### $\\mathcal{A}$ é o espaço de funções de $a(x)$ a ser mapeado no espaço de funções $\\mathcal{U}$\n",
    "### $\\mathcal{A} \\Rightarrow \\mathcal{G}^{\\dagger}\\Rightarrow \\mathcal{U}$\n",
    "\n",
    "### $a_j(x) =>$ Função no espaço  $\\mathcal{A}$\n",
    "\n",
    "### $u_j(x) =>$ Função no espaço  $\\mathcal{U}$\n",
    "### $\\{a_j,u_j\\}$ são os pares de entrada-saída.\n",
    "\n",
    "#### Queremos aprender o operador $\\mathcal{G}^{\\dagger}$ que faz esse mapeamento.\n",
    "\n",
    "### $$u_j = \\mathcal{G}^{\\dagger}(a_j)$$\n",
    "### $$ \\mathcal{G}_{\\theta} \\sim \\mathcal{G}^{\\dagger}$$\n",
    "#### Onde $\\mathcal{G}_{\\theta}$ é uma rede neural com parâmetro $\\theta$ ( aprendido).\n",
    "#### Queremos oncontrar $\\theta$ que minimise a função de custo.\n",
    "\n",
    "### $$ \n",
    "\\begin{align}\n",
    "\\min_{\\theta}\\mathcal{L}_{a\\sim u} [\\mathcal{G}(a,\\theta),\\mathcal{G}^{\\dagger}_a]\n",
    "\\end{align}\n",
    "$$\n",
    "#### $a(x)$ e $u(x)$ são funções. Para o processo de treinamento vamos trabalhar com $a(x),u(x)$ como sendo dados, ou seja essas funções são discretizadas em $a_j,u_j$. Essa discretização pode ser feita por qualquer método. Com isso podemos usar como dados de treinamento os pares $\\{a_j,u_j\\}_{j=1}^N$.\n",
    "#### $N$ é o número de pontos discretizados.\n",
    "\n",
    "### Resumindo: $a(x),u(x)$ vem discretizados ($P_N = (\\bf{x}_1, \\cdots \\bf{x}_N) \\quad \\in \\quad D$) e $\\{a_j,u_j\\}$ são observações.\n",
    "\n",
    "## Formulação Kernel\n",
    "\n",
    "### $$\n",
    "\\begin{align}\n",
    "    (\\zeta_a u)(x) &= f(x)  &&  x \\in D \\\\\n",
    "    u(x) &= 0  && x \\in \\partial D,\n",
    "\\end{align}\n",
    "$$\n",
    "#### sob condições gerais, podemos definir a função de Grenn $G$ como a única solução do problema.\n",
    "### $$\n",
    "\\begin{align}\n",
    "    \\zeta_a G(x) =\\delta_x\n",
    "\\end{align}\n",
    "$$\n",
    "#### $\\delta_x$ é a delta de Dirac, o que torna a equação homogênea, pois $\\delta_x = 0$ para $x\\neq y$.\n",
    "### $$\n",
    "\\begin{align}\n",
    "    u(x) =\\int_D G_a(x,y)f(y)dy\n",
    "\\end{align}\n",
    "$$ \n",
    "#### onde $G$ irá depender do coeficiente $a$.\n",
    "#### Como $x\\neq y$ é contínua, então $\\zeta_a$ é uniformemente contínua. Podemos modelar o kernel  atravéz de uma rede neural $\\mathcal{k}$, semelhante a função de Green. A rede $\\mathcal{k}$ recebe uma entrada $(x,y)$. Como $\\mathcal{k}$ depende de $a$, vamos deixar que  $\\mathcal{k}$ dependa da entrada ($a(x),u(x)$)\n",
    "\n",
    "### $$\n",
    "\\begin{align}\n",
    "    u(x) =\\int_D \\mathcal{k}(x,y,a(x),a(y))f(y)dy\n",
    "\\end{align}\n",
    "$$ \n",
    "\n",
    "#### Vamos discretizar $u(x)$ como sendo $u(x) \\sim u(x)_t$, onde $u$ é iterado no tempo $t(t=0,\\cdots,. T)$.\n",
    "### $$\n",
    "\\begin{align}\n",
    "    u_{t+1} =\\int_D \\mathcal{k}(x,y,a(x),a(y))u_tdy\n",
    "\\end{align}\n",
    "$$\n",
    "#### onde $u_0(x) = (x,a(x))$ e $u_T$ é a saída final. \n",
    "#### Para usar a vantagem das redes neurais, mapeamos a função $a(x0$ em uma dimensão de representação.\n",
    "### $$\n",
    "\\begin{align}\n",
    "    u(x) & \\in \\mathcal{R}^d\\\\\n",
    "    v(x) & \\in \\mathcal{R}^n \n",
    "\\end{align} \n",
    "$$\n",
    "### onde $n > d$\n",
    "### $$\n",
    "\\begin{align}\n",
    "    v_0(x)  &= NN_1(x,a(x))\\\\\n",
    "    v_t+1(x) &= \\sigma(Wv_t(x) + \\int_{B(x)} \\mathcal{k}_{\\theta}(x,y,a(x),a(y))v_t(y)dy & para \\quad t = 1,\\cdots,T \\\\\n",
    "    u(x) = NN_2(v_T(x))\n",
    "\\end{align} \n",
    "$$\n",
    "#### onde $NN_1$ e $NN_2$ são redes neurais feed-forward.\n",
    "\n",
    "#### \\sigma => Relu\n",
    "\n",
    "#### W => Trransformação Linear\n",
    "\n",
    "### $$\n",
    "\\begin{align}\n",
    "   \\int \\sim \\sum \n",
    "\\end{align} \n",
    "$$\n",
    "#### Usando Gráfos.\n",
    "\n",
    "### $$\n",
    "\\int_{B(x)}\\mathcal{k}_{\\theta}(x,y,a(x),a(y))v_t(y)dy \\approx \\dfrac{1}{|N|}\\sum_{y \\in N(x)}\\mathcal{k}_{\\theta}(x,y,a(x),a(y))v_t(y)\n",
    "$$\n",
    "#### onde $N(x)$ é o visinho de $x$ de acordo com o grafo. $\\mathcal{k}_{\\theta}$ é um operador convolucional.\n",
    "\n",
    "\n",
    "## Operador Neural de Fourier\n",
    "### Substitui o operador integral por um operador convolucional definido no espaço de Fourier\n",
    "### $$\n",
    "\\begin{align}\n",
    " (\\mathcal{F}f)_j(\\kappa) =  = \\int_{D}f_j(x)e^{-2i\\pi(x,\\kappa)}dx\\\\\n",
    " (\\mathcal{F}^{-1}f)_j(x) =  = \\int_{D}f_j(\\kappa)e^{-2i\\pi(x,\\kappa)}d\\kappa\\\\\n",
    " \\mathcal{k}(a,\\theta,v_t)(x) = \\mathcal{F}^{-1}(\\mathcal{F}(\\mathcal{k}_{\\theta})\\mathcal{F}(v_t))(x)\n",
    "\\end{align} \n",
    "$$ \n",
    "### Onde podemos parametrizar no espaço de Fourier\n",
    "### $$ \\mathcal{k}(a,\\theta,v_t)(x) = \\mathcal{F}^{-1}(R_{\\theta}(\\mathcal{F}(v_t))(x)$$\n",
    "### Onde $R_{\\theta}$ é a transformação de uma função periódica $\\mathcal{k}:D -> \\mathcal{R}^{v \\times v}$ parametrizada por $\\theta$ $\\in$ $\\Theta$.\n",
    "### $R_{\\theta}$ é parametrizado como um tensor complexo.\n",
    "### Não utilizamos todos os modos de Fourier, ou seja, truncamos a série de Fourier em um número máximo de modos ($\\kappa_j \\leq \\kappa_{\\max,j}$ para $(j=1,\\cdots,d)$. Note que assumimos que $\\mathcal{k}$ é periódico e admite uma expanção de series de Fourier como modos discretos $\\kappa \\in \\mathcal{Z}^{d}$. \n",
    "<img src='fig1.png'>\n",
    "\n"
   ]
  },
  {
   "cell_type": "markdown",
   "id": "69b57312",
   "metadata": {},
   "source": [
    "## Cama de Fourier\n",
    "### No mundo real as imagens tem muitas bordas e formas, então as redes convolucionais podem capturá-las bem com o kernel de convolução local. Por outro lado, as entradas e saídas de equações diferenciais parciais sáo funções contínuas. É mais eficiente representar elas no espaço de Fourier e fazer a convolução global. A dois motivos principais para isso:\n",
    "### 1) É rápido, porque a convolução é quase linear.\n",
    "### 2) É mais eficiente. A entrada e saída são funções contínuas, assim é mais eficiente representar no espaço de Fourier.\n",
    "### A convolução espacial é equivalente à multiplicação pontual no domínio de Fourier. Para implementar o operador de convolução global, primeiro fazemos uma transformada de Fourier, depois uma transformada linear e uma transformada inversa."
   ]
  },
  {
   "cell_type": "markdown",
   "id": "f8c7c413",
   "metadata": {},
   "source": [
    "\n",
    "## Spectral Convolutions\n",
    "\n",
    "\n",
    "### Dado o estado discretizado de entrada (com valor real) $a$ (com potencialmente mais de um canal) definido em uma malha equidistante; faça os seguintes passos:\n",
    "\n",
    "### 1. Transforme $a$ no espaço de Fourier (aqui usando a transformada de Fourier de valor real): $\\hat{a} = \\text{rfft}(a)$ (lote sobre a dimensão do canal)\n",
    "### 2. Execute uma multiplicação de matrizes em lote com um vetor de peso de valor complexo $W$ para os primeiros modos $K$: $\\hat{\\tilde{a}}_{0:K} = W\\hat{a}_{0: K}$\n",
    "### 3. Defina todos os modos restantes como zero $\\hat{\\tilde{a}}_{K:} = 0 + 0i$\n",
    "### 4. Transforme de volta para o espaço real $\\tilde{a} = \\text{irfft}(\\hat{\\tilde{a}})$\n",
    "### Os parâmetros que podem ser aprendidos para cada convolução espectral são a matriz de peso de valor complexo de forma `(canais_out, canais_in, modos)` (uma vez que tem valor complexo, na verdade possui `2 * canais_out * canais_in * modos` parâmetros reais)\n"
   ]
  },
  {
   "cell_type": "code",
   "execution_count": 5,
   "id": "675dc767",
   "metadata": {},
   "outputs": [],
   "source": [
    "class SpectralConv1d(nn.Module): \n",
    "    def __init__(self, in_channels, out_channels, modes1):\n",
    "        super(SpectralConv1d, self).__init__()\n",
    "\n",
    "        \"\"\"\n",
    "        1D Fourier layer. It does FFT, linear transform, and Inverse FFT.    \n",
    "        \"\"\"\n",
    "\n",
    "        self.in_channels = in_channels #(a(x),x) => concatenando no eixo z \n",
    "        self.out_channels = out_channels # canal do u(x)\n",
    "        self.modes1 = modes1  #Número de modos de Fourier a serem multiplicados, no máximo floor(N/2) + 1, vou usar metade\n",
    "\n",
    "\n",
    "        self.scale = (1 / (in_channels*out_channels)) #normalização\n",
    "        self.weights1 = nn.Parameter(self.scale * torch.rand(in_channels, out_channels, self.modes1, dtype=torch.cfloat))\n",
    "        # w(canal_in,canal_out, modos) Parameter cria um tensor dinamico.\n",
    "    # Complex multiplication\n",
    "    \n",
    "    def compl_mul1d(self, input, weights):\n",
    "        # (batch, in_channel, x ), (in_channel, out_channel, x) -> (batch, out_channel, x)\n",
    "        return torch.einsum(\"bix,iox->box\", input, weights)\n",
    "\n",
    "    def forward(self, x):\n",
    "        batchsize = x.shape[0]\n",
    "        #Compute Fourier coeffcients up to factor of e^(- something constant)\n",
    "        x_ft = torch.fft.rfft(x)\n",
    "\n",
    "        # Multiply relevant Fourier modes\n",
    "        out_ft = torch.zeros(batchsize, self.out_channels, x.size(-1)//2 + 1,  device=x.device, dtype=torch.cfloat)\n",
    "        out_ft[:, :, :self.modes1] = self.compl_mul1d(x_ft[:, :, :self.modes1], self.weights1)\n",
    "\n",
    "        #Return to physical space\n",
    "        x = torch.fft.irfft(out_ft, n=x.size(-1))\n",
    "        return x"
   ]
  },
  {
   "cell_type": "markdown",
   "id": "a8b10466",
   "metadata": {},
   "source": [
    "### Passo a passo do código acima"
   ]
  },
  {
   "cell_type": "code",
   "execution_count": 6,
   "id": "91be2940",
   "metadata": {},
   "outputs": [
    {
     "name": "stdout",
     "output_type": "stream",
     "text": [
      "torch.Size([2, 1, 16])\n"
     ]
    },
    {
     "data": {
      "text/plain": [
       "Parameter containing:\n",
       "tensor([[[0.3006+0.4090j, 0.4868+0.4088j, 0.4874+0.2319j, 0.0254+0.1315j,\n",
       "          0.4202+0.2484j, 0.1257+0.0584j, 0.0160+0.0390j, 0.1993+0.3871j,\n",
       "          0.3852+0.0089j, 0.4059+0.0544j, 0.1971+0.1486j, 0.2018+0.2009j,\n",
       "          0.0257+0.0341j, 0.2109+0.2532j, 0.1364+0.3442j, 0.0250+0.2331j]],\n",
       "\n",
       "        [[0.4699+0.1480j, 0.4758+0.3405j, 0.0244+0.4082j, 0.2212+0.1384j,\n",
       "          0.4499+0.0480j, 0.2768+0.1977j, 0.4285+0.3198j, 0.3701+0.3383j,\n",
       "          0.1899+0.1974j, 0.0440+0.3855j, 0.4485+0.4211j, 0.0737+0.2611j,\n",
       "          0.0738+0.1124j, 0.1043+0.3354j, 0.1010+0.2445j, 0.2605+0.4112j]]],\n",
       "       requires_grad=True)"
      ]
     },
     "execution_count": 6,
     "metadata": {},
     "output_type": "execute_result"
    }
   ],
   "source": [
    "scale = (1 / (2*1)) #normalização\n",
    "weights1 = nn.Parameter(scale * torch.rand(2, 1, 16, dtype=torch.cfloat))\n",
    "print(weights1.shape)\n",
    "weights1 # cria um matriz de peso complexa\n"
   ]
  },
  {
   "cell_type": "markdown",
   "id": "bd78666e",
   "metadata": {},
   "source": [
    "<img src='R.png'>"
   ]
  },
  {
   "cell_type": "code",
   "execution_count": 7,
   "id": "c0a97e5d",
   "metadata": {},
   "outputs": [],
   "source": [
    " batchsize = x.shape[0]\n",
    "def compl_mul1d( input, weights):\n",
    "        # (batch, in_channel, x ), (in_channel, out_channel, x) -> (batch, out_channel, x)\n",
    "        return torch.einsum(\"bix,iox->box\", input, weights)\n"
   ]
  },
  {
   "cell_type": "code",
   "execution_count": 8,
   "id": "2a1718bd",
   "metadata": {},
   "outputs": [
    {
     "name": "stdout",
     "output_type": "stream",
     "text": [
      "torch.Size([2])\n"
     ]
    },
    {
     "data": {
      "text/plain": [
       "tensor(-0.9312+0.j)"
      ]
     },
     "execution_count": 8,
     "metadata": {},
     "output_type": "execute_result"
    }
   ],
   "source": [
    "x_ft = torch.fft.rfft(x) #transformando meu a(x) modificado ( junto com a grade(figura)) com a transformada de fourier\n",
    "print(x_ft.shape)\n",
    "x_ft[0] # meu X no domínio das frequencias"
   ]
  },
  {
   "cell_type": "code",
   "execution_count": 9,
   "id": "91ff0a15",
   "metadata": {},
   "outputs": [
    {
     "name": "stdout",
     "output_type": "stream",
     "text": [
      "torch.Size([2])\n"
     ]
    },
    {
     "data": {
      "text/plain": [
       "torch.Size([2, 1, 16])"
      ]
     },
     "execution_count": 9,
     "metadata": {},
     "output_type": "execute_result"
    }
   ],
   "source": [
    "print(x_ft.shape)\n",
    "weights1.shape"
   ]
  },
  {
   "cell_type": "code",
   "execution_count": 10,
   "id": "50785882",
   "metadata": {},
   "outputs": [
    {
     "ename": "RuntimeError",
     "evalue": "permute(sparse_coo): number of dimensions in the tensor input does not match the length of the desired ordering of dimensions i.e. input.dim() = 1 is not equal to len(dims) = 3",
     "output_type": "error",
     "traceback": [
      "\u001b[0;31m---------------------------------------------------------------------------\u001b[0m",
      "\u001b[0;31mRuntimeError\u001b[0m                              Traceback (most recent call last)",
      "Cell \u001b[0;32mIn[10], line 1\u001b[0m\n\u001b[0;32m----> 1\u001b[0m x_ft \u001b[38;5;241m=\u001b[39m x_ft\u001b[38;5;241m.\u001b[39mpermute(\u001b[38;5;241m0\u001b[39m, \u001b[38;5;241m2\u001b[39m, \u001b[38;5;241m1\u001b[39m) \u001b[38;5;66;03m#preciso fazer a troca de indice para usar a soma de einsten\u001b[39;00m\n\u001b[1;32m      2\u001b[0m x_ft\u001b[38;5;241m.\u001b[39mshape\n",
      "\u001b[0;31mRuntimeError\u001b[0m: permute(sparse_coo): number of dimensions in the tensor input does not match the length of the desired ordering of dimensions i.e. input.dim() = 1 is not equal to len(dims) = 3"
     ]
    }
   ],
   "source": [
    "x_ft = x_ft.permute(0, 2, 1) #preciso fazer a troca de indice para usar a soma de einsten\n",
    "x_ft.shape\n"
   ]
  },
  {
   "cell_type": "code",
   "execution_count": null,
   "id": "b0b401ce",
   "metadata": {},
   "outputs": [],
   "source": [
    "out_ft = torch.zeros(batchsize, 1, x_ft.size(-1)//2 + 1,  device=x.device, dtype=torch.cfloat)\n",
    "out_ft"
   ]
  },
  {
   "cell_type": "code",
   "execution_count": null,
   "id": "3e5c93ca",
   "metadata": {},
   "outputs": [],
   "source": [
    "modes1 = 16 # vou truncar os modos da serie de fourier em 16\n",
    "aa = compl_mul1d(x_ft[:, :, :modes1], weights1)\n",
    "print(aa.shape)\n",
    "out_ft[:, :, :modes1] = compl_mul1d(x_ft[:, :, :modes1], weights1)"
   ]
  },
  {
   "cell_type": "code",
   "execution_count": null,
   "id": "550fb56e",
   "metadata": {},
   "outputs": [],
   "source": [
    "x = torch.fft.irfft(out_ft, n=x_ft.size(-1)) #uso a transformada de fourier para ir para o dominio dos tempo"
   ]
  },
  {
   "cell_type": "code",
   "execution_count": 11,
   "id": "00f59dcd",
   "metadata": {},
   "outputs": [
    {
     "data": {
      "text/plain": [
       "torch.Size([3])"
      ]
     },
     "execution_count": 11,
     "metadata": {},
     "output_type": "execute_result"
    }
   ],
   "source": [
    "x.shape"
   ]
  },
  {
   "cell_type": "markdown",
   "id": "e9b6f820",
   "metadata": {},
   "source": [
    "# ---------------------------------------------------------------------------------------------------------------\n",
    "\n",
    "# Arquitetura da rede convolucional\n",
    "### Vamos usar duas redes neural conv1d  com função de ativação grelu"
   ]
  },
  {
   "cell_type": "markdown",
   "id": "47175639",
   "metadata": {},
   "source": [
    "### Understanding Pytorch 1 dimensional CNN (Conv1d) Shapes \n",
    "\n",
    "input channels = 3\n",
    "\n",
    "output channels = 1\n",
    "\n",
    "filter = 2\n",
    "\n",
    "stride = 1 (default)\n",
    "\n",
    "conv1 = nn.Conv1d(d, 1, 2)\n",
    "\n",
    "<img src='conv1d.png'>"
   ]
  },
  {
   "cell_type": "code",
   "execution_count": 12,
   "id": "33d5127a",
   "metadata": {},
   "outputs": [
    {
     "data": {
      "text/plain": [
       "torch.Size([1, 5, 3])"
      ]
     },
     "execution_count": 12,
     "metadata": {},
     "output_type": "execute_result"
    }
   ],
   "source": [
    "import numpy\n",
    "import torch.nn as nn\n",
    "import torch\n",
    "n=1 #batch size\n",
    "l=5 #sentence len\n",
    "d=3 #embedding dimension>> rand_arr = torch.rand(n,l,d)\n",
    "rand_arr = torch.rand(n,l,d)\n",
    "rand_arr.shape"
   ]
  },
  {
   "cell_type": "code",
   "execution_count": 13,
   "id": "8463f9d6",
   "metadata": {},
   "outputs": [
    {
     "data": {
      "text/plain": [
       "tensor([[[0.1220, 0.1567, 0.2097],\n",
       "         [0.8500, 0.3203, 0.9217],\n",
       "         [0.6808, 0.5633, 0.4963],\n",
       "         [0.4012, 0.5627, 0.3858],\n",
       "         [0.4965, 0.5638, 0.1089]]])"
      ]
     },
     "execution_count": 13,
     "metadata": {},
     "output_type": "execute_result"
    }
   ],
   "source": [
    "rand_arr"
   ]
  },
  {
   "cell_type": "code",
   "execution_count": 14,
   "id": "049c9a5a",
   "metadata": {},
   "outputs": [
    {
     "data": {
      "text/plain": [
       "Conv1d(3, 1, kernel_size=(2,), stride=(1,))"
      ]
     },
     "execution_count": 14,
     "metadata": {},
     "output_type": "execute_result"
    }
   ],
   "source": [
    "conv1 = nn.Conv1d(d, 1, 2)\n",
    "conv1"
   ]
  },
  {
   "cell_type": "code",
   "execution_count": 15,
   "id": "06ba9dc3",
   "metadata": {},
   "outputs": [
    {
     "name": "stdout",
     "output_type": "stream",
     "text": [
      "tensor([[[0.1220, 0.8500, 0.6808, 0.4012, 0.4965],\n",
      "         [0.1567, 0.3203, 0.5633, 0.5627, 0.5638],\n",
      "         [0.2097, 0.9217, 0.4963, 0.3858, 0.1089]]])\n"
     ]
    },
    {
     "data": {
      "text/plain": [
       "torch.Size([1, 3, 5])"
      ]
     },
     "execution_count": 15,
     "metadata": {},
     "output_type": "execute_result"
    }
   ],
   "source": [
    "rand_arr_permute = rand_arr.permute(0,2,1)\n",
    "print(rand_arr_permute)\n",
    "rand_arr_permute.shape"
   ]
  },
  {
   "cell_type": "code",
   "execution_count": 16,
   "id": "7de3c564",
   "metadata": {},
   "outputs": [
    {
     "data": {
      "text/plain": [
       "torch.Size([1, 1, 4])"
      ]
     },
     "execution_count": 16,
     "metadata": {},
     "output_type": "execute_result"
    }
   ],
   "source": [
    "conv1(rand_arr_permute).shape"
   ]
  },
  {
   "cell_type": "markdown",
   "id": "6221dbc6",
   "metadata": {},
   "source": [
    "# ---------------------------------------------------------------------------------------------------------------"
   ]
  },
  {
   "cell_type": "code",
   "execution_count": 17,
   "id": "3c13374e",
   "metadata": {},
   "outputs": [],
   "source": [
    "class MLP(nn.Module):\n",
    "    def __init__(self, in_channels, out_channels, mid_channels):\n",
    "        super(MLP, self).__init__()\n",
    "        self.mlp1 = nn.Conv1d(in_channels, mid_channels, 1)\n",
    "        self.mlp2 = nn.Conv1d(mid_channels, out_channels, 1)\n",
    "\n",
    "    def forward(self, x):\n",
    "        x = self.mlp1(x)\n",
    "        x = F.gelu(x)\n",
    "        x = self.mlp2(x)\n",
    "        return x"
   ]
  },
  {
   "cell_type": "code",
   "execution_count": 18,
   "id": "98981a15",
   "metadata": {},
   "outputs": [],
   "source": [
    "class FNO1d(nn.Module):\n",
    "    def __init__(self, modes, width):\n",
    "        super(FNO1d, self).__init__()\n",
    "\n",
    "        \"\"\"\n",
    "        A rede geral. Ele contém 4 camadas da camada de Fourier.\n",
    "         1. Eleve a entrada para a dimensão do canal desejado por self.fc0 .\n",
    "         2. 4 camadas dos operadores integrais u' = (W + K)(u).\n",
    "             W definido por self.w; K definido por self.conv .\n",
    "         3. Projete do espaço do canal para o espaço de saída por self.fc1 e self.fc2 .\n",
    "        \n",
    "         entrada: a solução da condição inicial e localização (a(x), x)\n",
    "         forma de entrada: (tamanho do lote, x = s, c = 2)\n",
    "         saída: a solução de um timestep posterior\n",
    "         formato de saída: (tamanho do lote, x = s, c = 1)\n",
    "​\n",
    "\n",
    "        \"\"\"\n",
    "\n",
    "        self.modes1 = modes\n",
    "        self.width = width\n",
    "        self.padding = 8 # preencha o domínio se a entrada não for periódica\n",
    "\n",
    "        self.p = nn.Linear(2, self.width) # input channel_dim is 2: (u0(x), x) => crio os pesos e bias linear\n",
    "        #faço a transformada de fourier e a transformada inversa.\n",
    "        self.conv0 = SpectralConv1d(self.width, self.width, self.modes1)\n",
    "        self.conv1 = SpectralConv1d(self.width, self.width, self.modes1)\n",
    "        self.conv2 = SpectralConv1d(self.width, self.width, self.modes1)\n",
    "        self.conv3 = SpectralConv1d(self.width, self.width, self.modes1)\n",
    "        \n",
    "        self.mlp0 = MLP(self.width, self.width, self.width) #uso a convolução 1d\n",
    "        self.mlp1 = MLP(self.width, self.width, self.width)\n",
    "        self.mlp2 = MLP(self.width, self.width, self.width)\n",
    "        self.mlp3 = MLP(self.width, self.width, self.width)\n",
    "        \n",
    "        self.w0 = nn.Conv1d(self.width, self.width, 1)\n",
    "        self.w1 = nn.Conv1d(self.width, self.width, 1)\n",
    "        self.w2 = nn.Conv1d(self.width, self.width, 1)\n",
    "        self.w3 = nn.Conv1d(self.width, self.width, 1)\n",
    "        \n",
    "        self.q = MLP(self.width, 1, self.width*2)  # output channel_dim is 1: u1(x)\n",
    "\n",
    "    def forward(self, x):\n",
    "        grid = self.get_grid(x.shape, x.device) #cria a grade\n",
    "        x = torch.cat((x, grid), dim=-1) # concatena a grade com a entrada a \n",
    "        x = self.p(x) #faz a codificção v(x) = NN1(a(x)) => v(x) = W.a(x)+b\n",
    "        x = x.permute(0, 2, 1) # faz a permuta para usar a soma de einsten\n",
    "        # x = F.pad(x, [0,self.padding]) # pad the domain if input is non-periodic\n",
    "       # Bloco 1\n",
    "       # \n",
    "        x1 = self.conv0(x) # faz a transformação de fourier, filtrando o modos e multiplicando pela matriz R e\n",
    "        #retorna para o dominio dos tempo.\n",
    "        x1 = self.mlp0(x1) # realiza a convolução de x\n",
    "        x2 = self.w0(x)  # faz a convolução de x que não foi para o domínio de fourier\n",
    "        x = x1 + x2     # soma\n",
    "        x = F.gelu(x)  # aplica a função de ativação não linear\n",
    "        \n",
    "        #bloco 2\n",
    "        x1 = self.conv1(x)\n",
    "        x1 = self.mlp1(x1)\n",
    "        x2 = self.w1(x)\n",
    "        x = x1 + x2\n",
    "        x = F.gelu(x)\n",
    "        \n",
    "        #bloco 3 \n",
    "        x1 = self.conv2(x)\n",
    "        x1 = self.mlp2(x1)\n",
    "        x2 = self.w2(x)\n",
    "        x = x1 + x2\n",
    "        x = F.gelu(x)\n",
    "        \n",
    "        #bloco4\n",
    "        x1 = self.conv3(x)\n",
    "        x1 = self.mlp3(x1)\n",
    "        x2 = self.w3(x)\n",
    "        x = x1 + x2\n",
    "        \n",
    "        # x => bloco1 => bloco2 => bloco3 => bloco4 => \n",
    "\n",
    "        # x = x[..., :-self.padding] # pad the domain if input is non-periodic\n",
    "        x = self.q(x) # Faz a codificação de u(x) = NN2(v(x))\n",
    "        x = x.permute(0, 2, 1) # Volta os indices normais.\n",
    "        return x\n",
    "\n",
    "    def get_grid(self, shape, device):\n",
    "        batchsize, size_x = shape[0], shape[1]\n",
    "        gridx = torch.tensor(np.linspace(0, 1, size_x), dtype=torch.float)\n",
    "        gridx = gridx.reshape(1, size_x, 1).repeat([batchsize, 1, 1])\n",
    "        return gridx.to(device)"
   ]
  },
  {
   "cell_type": "markdown",
   "id": "440a7ab7",
   "metadata": {},
   "source": [
    "# Esse processo pode ser explicado na imagem abaixo\n",
    "<img src='amostras.png'>"
   ]
  },
  {
   "cell_type": "code",
   "execution_count": 144,
   "id": "b4717331",
   "metadata": {},
   "outputs": [],
   "source": [
    "ntrain = 1000\n",
    "ntest = 200\n",
    "\n",
    "sub =2**5 #subsampling rate\n",
    "h = 2**13 // sub #total grid size divided by the subsampling rate\n",
    "s = h\n",
    "\n",
    "batch_size = 20\n",
    "learning_rate = 0.001\n",
    "epochs = 50\n",
    "iterations = epochs*(ntrain//batch_size)\n",
    "\n",
    "modes = 16\n",
    "width = 64"
   ]
  },
  {
   "cell_type": "markdown",
   "id": "4de16ed1",
   "metadata": {},
   "source": [
    "################################################################\n",
    "# read data\n",
    "################################################################\n",
    "\n",
    "# Data is of the shape (number of samples, grid size)"
   ]
  },
  {
   "cell_type": "code",
   "execution_count": 40,
   "id": "b29adf05",
   "metadata": {},
   "outputs": [],
   "source": [
    "dataloader = MatReader('burgers_data_R10.mat')"
   ]
  },
  {
   "cell_type": "code",
   "execution_count": 145,
   "id": "e0822b38",
   "metadata": {},
   "outputs": [
    {
     "name": "stdout",
     "output_type": "stream",
     "text": [
      "torch.Size([2048, 256])\n"
     ]
    }
   ],
   "source": [
    "x_data = dataloader.read_field('a')[:,::sub]\n",
    "print(x_data.shape)\n",
    "y_data = dataloader.read_field('u')[:,::sub]\n"
   ]
  },
  {
   "cell_type": "code",
   "execution_count": 54,
   "id": "d1749714",
   "metadata": {},
   "outputs": [
    {
     "data": {
      "image/png": "[encoded data removed]",
      "text/plain": [
       "<Figure size 640x480 with 1 Axes>"
      ]
     },
     "metadata": {},
     "output_type": "display_data"
    }
   ],
   "source": [
    "import matplotlib.pyplot as plt\n",
    "plt.plot(x_data[0], label=\"initial condition\")\n",
    "plt.plot(y_data[0], label=\"After 1 time unit\")\n",
    "plt.legend()\n",
    "plt.grid()"
   ]
  },
  {
   "cell_type": "code",
   "execution_count": 55,
   "id": "116de207",
   "metadata": {},
   "outputs": [
    {
     "data": {
      "image/png": "[encoded data removed]",
      "text/plain": [
       "<Figure size 640x480 with 1 Axes>"
      ]
     },
     "metadata": {},
     "output_type": "display_data"
    }
   ],
   "source": [
    "plt.plot(x_data[1], label=\"initial condition\")\n",
    "plt.plot(y_data[1], label=\"After 1 time unit\")\n",
    "plt.legend()\n",
    "plt.grid()"
   ]
  },
  {
   "cell_type": "code",
   "execution_count": 149,
   "id": "2a051e17",
   "metadata": {},
   "outputs": [
    {
     "name": "stdout",
     "output_type": "stream",
     "text": [
      "torch.Size([200, 256, 1])\n"
     ]
    },
    {
     "data": {
      "text/plain": [
       "torch.Size([1000, 256, 1])"
      ]
     },
     "execution_count": 149,
     "metadata": {},
     "output_type": "execute_result"
    }
   ],
   "source": [
    "x_train = x_data[:ntrain,:]\n",
    "y_train = y_data[:ntrain,:]\n",
    "x_test = x_data[-ntest:,:]\n",
    "y_test = y_data[-ntest:,:]\n",
    "\n",
    "x_train = x_train.reshape(ntrain,s,1)\n",
    "x_test = x_test.reshape(ntest,s,1)\n",
    "print(x_test.shape)\n",
    "x_train.shape"
   ]
  },
  {
   "cell_type": "code",
   "execution_count": 150,
   "id": "a9771e66",
   "metadata": {},
   "outputs": [
    {
     "data": {
      "text/plain": [
       "[[tensor([[[ 0.0283],\n",
       "           [ 0.0320],\n",
       "           [ 0.0331],\n",
       "           ...,\n",
       "           [ 0.0120],\n",
       "           [ 0.0172],\n",
       "           [ 0.0229]],\n",
       "  \n",
       "          [[-1.2882],\n",
       "           [-1.2636],\n",
       "           [-1.2409],\n",
       "           ...,\n",
       "           [-1.3713],\n",
       "           [-1.3428],\n",
       "           [-1.3148]],\n",
       "  \n",
       "          [[ 0.0321],\n",
       "           [ 0.0015],\n",
       "           [-0.0304],\n",
       "           ...,\n",
       "           [ 0.1196],\n",
       "           [ 0.0904],\n",
       "           [ 0.0615]],\n",
       "  \n",
       "          ...,\n",
       "  \n",
       "          [[-0.4104],\n",
       "           [-0.4184],\n",
       "           [-0.4255],\n",
       "           ...,\n",
       "           [-0.3848],\n",
       "           [-0.3933],\n",
       "           [-0.4019]],\n",
       "  \n",
       "          [[-0.4258],\n",
       "           [-0.4170],\n",
       "           [-0.4086],\n",
       "           ...,\n",
       "           [-0.4443],\n",
       "           [-0.4401],\n",
       "           [-0.4338]],\n",
       "  \n",
       "          [[-0.3547],\n",
       "           [-0.3570],\n",
       "           [-0.3552],\n",
       "           ...,\n",
       "           [-0.3373],\n",
       "           [-0.3431],\n",
       "           [-0.3495]]]),\n",
       "  tensor([[ 0.0016, -0.0084, -0.0181,  ...,  0.0330,  0.0223,  0.0118],\n",
       "          [-0.6051, -0.5914, -0.5777,  ..., -0.6460, -0.6324, -0.6188],\n",
       "          [ 0.1032,  0.0906,  0.0779,  ...,  0.1402,  0.1281,  0.1158],\n",
       "          ...,\n",
       "          [-0.2931, -0.2873, -0.2812,  ..., -0.3096, -0.3043, -0.2988],\n",
       "          [-0.9113, -0.9181, -0.9236,  ..., -0.8836, -0.8940, -0.9033],\n",
       "          [-0.1946, -0.1856, -0.1767,  ..., -0.2219, -0.2128, -0.2037]])],\n",
       " [tensor([[[ 0.3437],\n",
       "           [ 0.3483],\n",
       "           [ 0.3552],\n",
       "           ...,\n",
       "           [ 0.3400],\n",
       "           [ 0.3401],\n",
       "           [ 0.3411]],\n",
       "  \n",
       "          [[-0.2827],\n",
       "           [-0.2892],\n",
       "           [-0.2989],\n",
       "           ...,\n",
       "           [-0.2863],\n",
       "           [-0.2812],\n",
       "           [-0.2800]],\n",
       "  \n",
       "          [[ 0.2338],\n",
       "           [ 0.1851],\n",
       "           [ 0.1390],\n",
       "           ...,\n",
       "           [ 0.3867],\n",
       "           [ 0.3355],\n",
       "           [ 0.2842]],\n",
       "  \n",
       "          ...,\n",
       "  \n",
       "          [[ 0.5607],\n",
       "           [ 0.5621],\n",
       "           [ 0.5629],\n",
       "           ...,\n",
       "           [ 0.5577],\n",
       "           [ 0.5583],\n",
       "           [ 0.5593]],\n",
       "  \n",
       "          [[ 0.1335],\n",
       "           [ 0.1367],\n",
       "           [ 0.1399],\n",
       "           ...,\n",
       "           [ 0.1364],\n",
       "           [ 0.1325],\n",
       "           [ 0.1318]],\n",
       "  \n",
       "          [[-1.2988],\n",
       "           [-1.3266],\n",
       "           [-1.3518],\n",
       "           ...,\n",
       "           [-1.2049],\n",
       "           [-1.2371],\n",
       "           [-1.2687]]]),\n",
       "  tensor([[ 0.4022,  0.4023,  0.4025,  ...,  0.4030,  0.4026,  0.4024],\n",
       "          [-0.3765, -0.3760, -0.3753,  ..., -0.3776, -0.3773, -0.3769],\n",
       "          [ 0.7718,  0.7373,  0.6958,  ...,  0.8399,  0.8223,  0.7998],\n",
       "          ...,\n",
       "          [ 0.6292,  0.6139,  0.5972,  ...,  0.6684,  0.6563,  0.6433],\n",
       "          [ 0.0766,  0.0569,  0.0367,  ...,  0.1318,  0.1141,  0.0957],\n",
       "          [-0.8908, -0.8780, -0.8652,  ..., -0.9288, -0.9162, -0.9035]])],\n",
       " [tensor([[[-0.2529],\n",
       "           [-0.2628],\n",
       "           [-0.2725],\n",
       "           ...,\n",
       "           [-0.2168],\n",
       "           [-0.2303],\n",
       "           [-0.2422]],\n",
       "  \n",
       "          [[ 0.0441],\n",
       "           [ 0.0488],\n",
       "           [ 0.0508],\n",
       "           ...,\n",
       "           [ 0.0159],\n",
       "           [ 0.0270],\n",
       "           [ 0.0367]],\n",
       "  \n",
       "          [[ 0.1143],\n",
       "           [ 0.1038],\n",
       "           [ 0.0914],\n",
       "           ...,\n",
       "           [ 0.1328],\n",
       "           [ 0.1286],\n",
       "           [ 0.1225]],\n",
       "  \n",
       "          ...,\n",
       "  \n",
       "          [[-0.3127],\n",
       "           [-0.3443],\n",
       "           [-0.3744],\n",
       "           ...,\n",
       "           [-0.2170],\n",
       "           [-0.2483],\n",
       "           [-0.2804]],\n",
       "  \n",
       "          [[ 0.9122],\n",
       "           [ 0.9020],\n",
       "           [ 0.8924],\n",
       "           ...,\n",
       "           [ 0.9368],\n",
       "           [ 0.9305],\n",
       "           [ 0.9220]],\n",
       "  \n",
       "          [[ 0.0735],\n",
       "           [ 0.1087],\n",
       "           [ 0.1433],\n",
       "           ...,\n",
       "           [-0.0263],\n",
       "           [ 0.0056],\n",
       "           [ 0.0389]]]),\n",
       "  tensor([[-2.7890e-01, -2.8588e-01, -2.9266e-01,  ..., -2.5672e-01,\n",
       "           -2.6430e-01, -2.7170e-01],\n",
       "          [ 1.6971e-02,  2.2885e-02,  2.8840e-02,  ..., -4.7169e-04,\n",
       "            5.2878e-03,  1.1104e-02],\n",
       "          [ 4.9162e-01,  4.5532e-01,  4.1661e-01,  ...,  5.8522e-01,\n",
       "            5.5662e-01,  5.2541e-01],\n",
       "          ...,\n",
       "          [-3.6624e-01, -3.7397e-01, -3.8070e-01,  ..., -3.3659e-01,\n",
       "           -3.4758e-01, -3.5745e-01],\n",
       "          [ 5.5476e-01,  5.6746e-01,  5.7997e-01,  ...,  5.1565e-01,\n",
       "            5.2885e-01,  5.4189e-01],\n",
       "          [-3.8900e-03,  8.6829e-03,  2.1167e-02,  ..., -4.2106e-02,\n",
       "           -2.9289e-02, -1.6548e-02]])],\n",
       " [tensor([[[-0.1754],\n",
       "           [-0.1707],\n",
       "           [-0.1639],\n",
       "           ...,\n",
       "           [-0.1844],\n",
       "           [-0.1815],\n",
       "           [-0.1787]],\n",
       "  \n",
       "          [[-1.5195],\n",
       "           [-1.4935],\n",
       "           [-1.4654],\n",
       "           ...,\n",
       "           [-1.5831],\n",
       "           [-1.5644],\n",
       "           [-1.5432]],\n",
       "  \n",
       "          [[-0.4181],\n",
       "           [-0.4360],\n",
       "           [-0.4509],\n",
       "           ...,\n",
       "           [-0.3558],\n",
       "           [-0.3769],\n",
       "           [-0.3980]],\n",
       "  \n",
       "          ...,\n",
       "  \n",
       "          [[-0.5899],\n",
       "           [-0.5951],\n",
       "           [-0.6025],\n",
       "           ...,\n",
       "           [-0.5896],\n",
       "           [-0.5874],\n",
       "           [-0.5874]],\n",
       "  \n",
       "          [[-0.1354],\n",
       "           [-0.1235],\n",
       "           [-0.1097],\n",
       "           ...,\n",
       "           [-0.1551],\n",
       "           [-0.1513],\n",
       "           [-0.1448]],\n",
       "  \n",
       "          [[-0.4886],\n",
       "           [-0.4813],\n",
       "           [-0.4723],\n",
       "           ...,\n",
       "           [-0.5020],\n",
       "           [-0.4987],\n",
       "           [-0.4944]]]),\n",
       "  tensor([[-0.1031, -0.0972, -0.0913,  ..., -0.1211, -0.1151, -0.1091],\n",
       "          [-0.8163, -0.8067, -0.7971,  ..., -0.8457, -0.8358, -0.8260],\n",
       "          [-0.2660, -0.2629, -0.2594,  ..., -0.2719, -0.2705, -0.2685],\n",
       "          ...,\n",
       "          [-0.4157, -0.4051, -0.3942,  ..., -0.4459, -0.4361, -0.4261],\n",
       "          [-0.0209, -0.0217, -0.0221,  ..., -0.0144, -0.0173, -0.0194],\n",
       "          [-0.2971, -0.2892, -0.2812,  ..., -0.3204, -0.3127, -0.3049]])],\n",
       " [tensor([[[-0.2894],\n",
       "           [-0.3055],\n",
       "           [-0.3230],\n",
       "           ...,\n",
       "           [-0.2587],\n",
       "           [-0.2657],\n",
       "           [-0.2760]],\n",
       "  \n",
       "          [[-0.6376],\n",
       "           [-0.6165],\n",
       "           [-0.5924],\n",
       "           ...,\n",
       "           [-0.6836],\n",
       "           [-0.6709],\n",
       "           [-0.6557]],\n",
       "  \n",
       "          [[ 0.2565],\n",
       "           [ 0.2399],\n",
       "           [ 0.2279],\n",
       "           ...,\n",
       "           [ 0.3283],\n",
       "           [ 0.3016],\n",
       "           [ 0.2773]],\n",
       "  \n",
       "          ...,\n",
       "  \n",
       "          [[-0.3648],\n",
       "           [-0.3668],\n",
       "           [-0.3677],\n",
       "           ...,\n",
       "           [-0.3466],\n",
       "           [-0.3554],\n",
       "           [-0.3613]],\n",
       "  \n",
       "          [[ 0.0429],\n",
       "           [ 0.0487],\n",
       "           [ 0.0549],\n",
       "           ...,\n",
       "           [ 0.0307],\n",
       "           [ 0.0341],\n",
       "           [ 0.0381]],\n",
       "  \n",
       "          [[-0.6334],\n",
       "           [-0.6093],\n",
       "           [-0.5844],\n",
       "           ...,\n",
       "           [-0.7037],\n",
       "           [-0.6805],\n",
       "           [-0.6570]]]),\n",
       "  tensor([[-0.2874, -0.2903, -0.2925,  ..., -0.2744, -0.2795, -0.2838],\n",
       "          [-0.3630, -0.3547, -0.3464,  ..., -0.3878, -0.3796, -0.3713],\n",
       "          [ 0.3795,  0.3795,  0.3791,  ...,  0.3766,  0.3781,  0.3790],\n",
       "          ...,\n",
       "          [-0.2083, -0.2015, -0.1946,  ..., -0.2273, -0.2211, -0.2148],\n",
       "          [-0.0147, -0.0111, -0.0076,  ..., -0.0260, -0.0221, -0.0183],\n",
       "          [-0.2579, -0.2439, -0.2299,  ..., -0.2996, -0.2857, -0.2719]])],\n",
       " [tensor([[[ 0.2664],\n",
       "           [ 0.2914],\n",
       "           [ 0.3174],\n",
       "           ...,\n",
       "           [ 0.1961],\n",
       "           [ 0.2191],\n",
       "           [ 0.2424]],\n",
       "  \n",
       "          [[ 0.3918],\n",
       "           [ 0.3961],\n",
       "           [ 0.3979],\n",
       "           ...,\n",
       "           [ 0.3619],\n",
       "           [ 0.3747],\n",
       "           [ 0.3847]],\n",
       "  \n",
       "          [[-0.1441],\n",
       "           [-0.1504],\n",
       "           [-0.1602],\n",
       "           ...,\n",
       "           [-0.1376],\n",
       "           [-0.1390],\n",
       "           [-0.1407]],\n",
       "  \n",
       "          ...,\n",
       "  \n",
       "          [[-0.6280],\n",
       "           [-0.6210],\n",
       "           [-0.6144],\n",
       "           ...,\n",
       "           [-0.6519],\n",
       "           [-0.6432],\n",
       "           [-0.6353]],\n",
       "  \n",
       "          [[-0.7295],\n",
       "           [-0.7404],\n",
       "           [-0.7449],\n",
       "           ...,\n",
       "           [-0.6638],\n",
       "           [-0.6903],\n",
       "           [-0.7126]],\n",
       "  \n",
       "          [[-1.4399],\n",
       "           [-1.4372],\n",
       "           [-1.4344],\n",
       "           ...,\n",
       "           [-1.4352],\n",
       "           [-1.4403],\n",
       "           [-1.4414]]]),\n",
       "  tensor([[ 0.1211,  0.1309,  0.1407,  ...,  0.0910,  0.1011,  0.1111],\n",
       "          [ 0.1917,  0.1984,  0.2049,  ...,  0.1706,  0.1778,  0.1848],\n",
       "          [-0.2719, -0.2785, -0.2855,  ..., -0.2537, -0.2594, -0.2655],\n",
       "          ...,\n",
       "          [-0.4029, -0.3925, -0.3820,  ..., -0.4336, -0.4235, -0.4133],\n",
       "          [-0.5291, -0.5239, -0.5183,  ..., -0.5425, -0.5384, -0.5340],\n",
       "          [-0.7782, -0.7657, -0.7532,  ..., -0.8154, -0.8031, -0.7906]])],\n",
       " [tensor([[[-0.8995],\n",
       "           [-0.9062],\n",
       "           [-0.9135],\n",
       "           ...,\n",
       "           [-0.8871],\n",
       "           [-0.8898],\n",
       "           [-0.8939]],\n",
       "  \n",
       "          [[ 0.5364],\n",
       "           [ 0.5680],\n",
       "           [ 0.5968],\n",
       "           ...,\n",
       "           [ 0.4255],\n",
       "           [ 0.4646],\n",
       "           [ 0.5018]],\n",
       "  \n",
       "          [[-0.4681],\n",
       "           [-0.4854],\n",
       "           [-0.5031],\n",
       "           ...,\n",
       "           [-0.4082],\n",
       "           [-0.4305],\n",
       "           [-0.4502]],\n",
       "  \n",
       "          ...,\n",
       "  \n",
       "          [[-0.3055],\n",
       "           [-0.2944],\n",
       "           [-0.2782],\n",
       "           ...,\n",
       "           [-0.3177],\n",
       "           [-0.3157],\n",
       "           [-0.3122]],\n",
       "  \n",
       "          [[ 0.6728],\n",
       "           [ 0.6584],\n",
       "           [ 0.6441],\n",
       "           ...,\n",
       "           [ 0.7087],\n",
       "           [ 0.6986],\n",
       "           [ 0.6865]],\n",
       "  \n",
       "          [[-0.0707],\n",
       "           [-0.0742],\n",
       "           [-0.0810],\n",
       "           ...,\n",
       "           [-0.0801],\n",
       "           [-0.0739],\n",
       "           [-0.0707]]]),\n",
       "  tensor([[-0.7146, -0.7104, -0.7063,  ..., -0.7273, -0.7231, -0.7188],\n",
       "          [ 0.2253,  0.2382,  0.2512,  ...,  0.1864,  0.1994,  0.2123],\n",
       "          [-0.9647, -0.9676, -0.9694,  ..., -0.9483, -0.9552, -0.9606],\n",
       "          ...,\n",
       "          [-0.1360, -0.1241, -0.1121,  ..., -0.1717, -0.1599, -0.1480],\n",
       "          [ 0.5774,  0.5837,  0.5897,  ...,  0.5570,  0.5640,  0.5708],\n",
       "          [-0.2242, -0.2319, -0.2402,  ..., -0.2048, -0.2106, -0.2171]])],\n",
       " [tensor([[[ 0.3255],\n",
       "           [ 0.3222],\n",
       "           [ 0.3175],\n",
       "           ...,\n",
       "           [ 0.3313],\n",
       "           [ 0.3297],\n",
       "           [ 0.3278]],\n",
       "  \n",
       "          [[-0.2307],\n",
       "           [-0.2419],\n",
       "           [-0.2506],\n",
       "           ...,\n",
       "           [-0.1897],\n",
       "           [-0.2039],\n",
       "           [-0.2178]],\n",
       "  \n",
       "          [[-0.9665],\n",
       "           [-0.9342],\n",
       "           [-0.9040],\n",
       "           ...,\n",
       "           [-1.0632],\n",
       "           [-1.0323],\n",
       "           [-0.9997]],\n",
       "  \n",
       "          ...,\n",
       "  \n",
       "          [[ 0.1012],\n",
       "           [ 0.1025],\n",
       "           [ 0.1027],\n",
       "           ...,\n",
       "           [ 0.0952],\n",
       "           [ 0.0968],\n",
       "           [ 0.0990]],\n",
       "  \n",
       "          [[ 0.4713],\n",
       "           [ 0.4642],\n",
       "           [ 0.4576],\n",
       "           ...,\n",
       "           [ 0.4942],\n",
       "           [ 0.4863],\n",
       "           [ 0.4788]],\n",
       "  \n",
       "          [[-0.7738],\n",
       "           [-0.7921],\n",
       "           [-0.8117],\n",
       "           ...,\n",
       "           [-0.7216],\n",
       "           [-0.7391],\n",
       "           [-0.7564]]]),\n",
       "  tensor([[ 0.2965,  0.2904,  0.2838,  ...,  0.3115,  0.3070,  0.3020],\n",
       "          [-0.1309, -0.1288, -0.1265,  ..., -0.1353, -0.1341, -0.1327],\n",
       "          [-0.6344, -0.6263, -0.6181,  ..., -0.6587, -0.6506, -0.6425],\n",
       "          ...,\n",
       "          [ 0.4284,  0.3946,  0.3595,  ...,  0.5211,  0.4916,  0.4607],\n",
       "          [ 1.3403,  1.3110,  1.2771,  ...,  1.4058,  1.3872,  1.3655],\n",
       "          [-0.7409, -0.7336, -0.7260,  ..., -0.7609, -0.7546, -0.7479]])],\n",
       " [tensor([[[ 0.6330],\n",
       "           [ 0.6290],\n",
       "           [ 0.6313],\n",
       "           ...,\n",
       "           [ 0.6666],\n",
       "           [ 0.6536],\n",
       "           [ 0.6417]],\n",
       "  \n",
       "          [[ 0.9834],\n",
       "           [ 1.0084],\n",
       "           [ 1.0336],\n",
       "           ...,\n",
       "           [ 0.9153],\n",
       "           [ 0.9363],\n",
       "           [ 0.9592]],\n",
       "  \n",
       "          [[-0.6878],\n",
       "           [-0.6662],\n",
       "           [-0.6437],\n",
       "           ...,\n",
       "           [-0.7504],\n",
       "           [-0.7298],\n",
       "           [-0.7089]],\n",
       "  \n",
       "          ...,\n",
       "  \n",
       "          [[ 0.2316],\n",
       "           [ 0.2505],\n",
       "           [ 0.2669],\n",
       "           ...,\n",
       "           [ 0.1615],\n",
       "           [ 0.1867],\n",
       "           [ 0.2102]],\n",
       "  \n",
       "          [[-0.2753],\n",
       "           [-0.2553],\n",
       "           [-0.2414],\n",
       "           ...,\n",
       "           [-0.3767],\n",
       "           [-0.3361],\n",
       "           [-0.3022]],\n",
       "  \n",
       "          [[-0.1407],\n",
       "           [-0.1400],\n",
       "           [-0.1426],\n",
       "           ...,\n",
       "           [-0.1624],\n",
       "           [-0.1523],\n",
       "           [-0.1449]]]),\n",
       "  tensor([[ 0.4360,  0.4467,  0.4573,  ...,  0.4033,  0.4143,  0.4252],\n",
       "          [ 0.8100,  0.8162,  0.8223,  ...,  0.7904,  0.7971,  0.8036],\n",
       "          [-0.3311, -0.3194, -0.3076,  ..., -0.3662, -0.3546, -0.3429],\n",
       "          ...,\n",
       "          [ 0.1188,  0.1281,  0.1374,  ...,  0.0914,  0.1005,  0.1096],\n",
       "          [-0.2114, -0.1995, -0.1877,  ..., -0.2473, -0.2353, -0.2233],\n",
       "          [-0.3526, -0.3635, -0.3748,  ..., -0.3227, -0.3322, -0.3421]])],\n",
       " [tensor([[[-0.0925],\n",
       "           [-0.0877],\n",
       "           [-0.0832],\n",
       "           ...,\n",
       "           [-0.1140],\n",
       "           [-0.1052],\n",
       "           [-0.0981]],\n",
       "  \n",
       "          [[ 0.0443],\n",
       "           [ 0.0676],\n",
       "           [ 0.0891],\n",
       "           ...,\n",
       "           [-0.0285],\n",
       "           [-0.0044],\n",
       "           [ 0.0201]],\n",
       "  \n",
       "          [[ 1.1682],\n",
       "           [ 1.1682],\n",
       "           [ 1.1680],\n",
       "           ...,\n",
       "           [ 1.1694],\n",
       "           [ 1.1689],\n",
       "           [ 1.1684]],\n",
       "  \n",
       "          ...,\n",
       "  \n",
       "          [[ 0.1403],\n",
       "           [ 0.1094],\n",
       "           [ 0.0787],\n",
       "           ...,\n",
       "           [ 0.2337],\n",
       "           [ 0.2031],\n",
       "           [ 0.1716]],\n",
       "  \n",
       "          [[ 0.5331],\n",
       "           [ 0.5180],\n",
       "           [ 0.5019],\n",
       "           ...,\n",
       "           [ 0.5707],\n",
       "           [ 0.5600],\n",
       "           [ 0.5473]],\n",
       "  \n",
       "          [[ 1.4525],\n",
       "           [ 1.4273],\n",
       "           [ 1.3956],\n",
       "           ...,\n",
       "           [ 1.4926],\n",
       "           [ 1.4842],\n",
       "           [ 1.4713]]]),\n",
       "  tensor([[-0.0504, -0.0445, -0.0385,  ..., -0.0668, -0.0616, -0.0561],\n",
       "          [-0.0414, -0.0378, -0.0346,  ..., -0.0545, -0.0498, -0.0454],\n",
       "          [ 0.7977,  0.8069,  0.8160,  ...,  0.7697,  0.7791,  0.7884],\n",
       "          ...,\n",
       "          [ 0.0160, -0.0129, -0.0422,  ...,  0.0979,  0.0717,  0.0443],\n",
       "          [ 0.3631,  0.3690,  0.3745,  ...,  0.3429,  0.3500,  0.3568],\n",
       "          [ 1.0364,  1.0502,  1.0639,  ...,  0.9944,  1.0084,  1.0225]])]]"
      ]
     },
     "execution_count": 150,
     "metadata": {},
     "output_type": "execute_result"
    }
   ],
   "source": [
    "train_loader = torch.utils.data.DataLoader(torch.utils.data.TensorDataset(x_train, y_train), batch_size=batch_size, shuffle=True)\n",
    "test_loader = torch.utils.data.DataLoader(torch.utils.data.TensorDataset(x_test, y_test), batch_size=batch_size, shuffle=False)\n",
    "list(test_loader)"
   ]
  },
  {
   "cell_type": "code",
   "execution_count": 151,
   "id": "1a4e36cc",
   "metadata": {},
   "outputs": [
    {
     "name": "stdout",
     "output_type": "stream",
     "text": [
      "582849\n"
     ]
    }
   ],
   "source": [
    "# model\n",
    "model = FNO1d(modes, width)#.cuda()\n",
    "print(count_params(model))"
   ]
  },
  {
   "cell_type": "code",
   "execution_count": 152,
   "id": "56da0a2f",
   "metadata": {},
   "outputs": [
    {
     "data": {
      "text/plain": [
       "FNO1d(\n",
       "  (p): Linear(in_features=2, out_features=64, bias=True)\n",
       "  (conv0): SpectralConv1d()\n",
       "  (conv1): SpectralConv1d()\n",
       "  (conv2): SpectralConv1d()\n",
       "  (conv3): SpectralConv1d()\n",
       "  (mlp0): MLP(\n",
       "    (mlp1): Conv1d(64, 64, kernel_size=(1,), stride=(1,))\n",
       "    (mlp2): Conv1d(64, 64, kernel_size=(1,), stride=(1,))\n",
       "  )\n",
       "  (mlp1): MLP(\n",
       "    (mlp1): Conv1d(64, 64, kernel_size=(1,), stride=(1,))\n",
       "    (mlp2): Conv1d(64, 64, kernel_size=(1,), stride=(1,))\n",
       "  )\n",
       "  (mlp2): MLP(\n",
       "    (mlp1): Conv1d(64, 64, kernel_size=(1,), stride=(1,))\n",
       "    (mlp2): Conv1d(64, 64, kernel_size=(1,), stride=(1,))\n",
       "  )\n",
       "  (mlp3): MLP(\n",
       "    (mlp1): Conv1d(64, 64, kernel_size=(1,), stride=(1,))\n",
       "    (mlp2): Conv1d(64, 64, kernel_size=(1,), stride=(1,))\n",
       "  )\n",
       "  (w0): Conv1d(64, 64, kernel_size=(1,), stride=(1,))\n",
       "  (w1): Conv1d(64, 64, kernel_size=(1,), stride=(1,))\n",
       "  (w2): Conv1d(64, 64, kernel_size=(1,), stride=(1,))\n",
       "  (w3): Conv1d(64, 64, kernel_size=(1,), stride=(1,))\n",
       "  (q): MLP(\n",
       "    (mlp1): Conv1d(64, 128, kernel_size=(1,), stride=(1,))\n",
       "    (mlp2): Conv1d(128, 1, kernel_size=(1,), stride=(1,))\n",
       "  )\n",
       ")"
      ]
     },
     "execution_count": 152,
     "metadata": {},
     "output_type": "execute_result"
    }
   ],
   "source": [
    "model"
   ]
  },
  {
   "cell_type": "code",
   "execution_count": 153,
   "id": "9d111007",
   "metadata": {},
   "outputs": [],
   "source": [
    "################################################################\n",
    "# training and evaluation\n",
    "################################################################\n",
    "optimizer = torch.optim.Adam(model.parameters(), lr=learning_rate, weight_decay=1e-4)\n",
    "scheduler = torch.optim.lr_scheduler.CosineAnnealingLR(optimizer, T_max=iterations)"
   ]
  },
  {
   "cell_type": "code",
   "execution_count": 154,
   "id": "d66eb007",
   "metadata": {},
   "outputs": [],
   "source": [
    "myloss = LpLoss(size_average=False)"
   ]
  },
  {
   "cell_type": "code",
   "execution_count": 156,
   "id": "86e32d81",
   "metadata": {},
   "outputs": [
    {
     "name": "stdout",
     "output_type": "stream",
     "text": [
      "0 40.06853966299968 0.0007787961735448335 0.041615642786026 0.06087821960449219\n",
      "1 39.806924440999865 0.00048571678868029265 0.03562240618467331 0.025978993922472\n",
      "2 40.00240702600058 0.0002170268158442923 0.020504169911146165 0.020864144414663315\n",
      "3 38.625356128999556 0.00031329840472608337 0.03201941022276878 0.02176970437169075\n",
      "4 37.86068186600096 0.0003028429283585865 0.030621962159872056 0.0212822163105011\n",
      "5 40.251104278999264 0.00026035413902718573 0.028390113145112993 0.0328059133887291\n",
      "6 40.492209056999855 0.00023154718426667386 0.027837256640195845 0.02222389981150627\n",
      "7 45.32898435400057 0.00014383250610990216 0.02096378843486309 0.011910305768251419\n",
      "8 44.09043578300043 7.219641429401236e-05 0.014334559455513955 0.011726975962519646\n",
      "9 39.18347587400058 0.000143177037643909 0.02250189682841301 0.01980320528149605\n",
      "10 37.39237373800097 0.0001316385011159582 0.01840616510808468 0.014401136189699173\n",
      "11 38.37766481399922 7.402741322948714e-05 0.01391182242333889 0.021217852383852005\n",
      "12 38.59950275899973 0.00010840738850674825 0.017442051798105238 0.018759217262268067\n",
      "13 42.09188690100018 0.00011660034651868045 0.0188746347874403 0.01355286806821823\n",
      "14 37.585479471001236 9.959099163097562e-05 0.017658118933439253 0.022636239528656007\n",
      "15 39.30693034199976 0.00012612590406206438 0.02136417645215988 0.021825297027826308\n",
      "16 38.6492455209991 0.00011034241371817189 0.01954881827533245 0.02334895431995392\n",
      "17 37.710505827000816 9.642892753618071e-05 0.01862027996778488 0.019515339881181717\n",
      "18 39.392544517000715 7.819480215403019e-05 0.016316861435770987 0.019566413015127182\n",
      "19 36.91617857899837 7.176304705353687e-05 0.015417412489652633 0.021002207696437836\n",
      "20 40.20802765300141 7.518585236539366e-05 0.015444739550352096 0.021622543632984163\n",
      "21 39.606009471001016 4.326500280512846e-05 0.011353809118270873 0.00903265319764614\n",
      "22 38.425826056000005 3.8201724737518814e-05 0.0106314262971282 0.012236287221312522\n",
      "23 43.72193188900019 4.1307671690447026e-05 0.01127961341291666 0.007729369550943375\n",
      "24 41.620705242999975 1.8580653354547393e-05 0.006967174783349037 0.007955182641744614\n",
      "25 40.45151242200154 2.8812380360250245e-05 0.00925805975496769 0.007191951237618923\n",
      "26 42.53065416500067 1.8828548863893957e-05 0.00697922869771719 0.009045237824320793\n",
      "27 41.66791482500048 1.7838643575487367e-05 0.006990800186991691 0.005996479988098145\n",
      "28 41.933298365000155 1.5242663457684103e-05 0.006529010936617851 0.005404688157141208\n",
      "29 40.48224680000021 1.3991835658089258e-05 0.006299065038561821 0.006971832551062107\n",
      "30 39.209984615001304 1.4651309247710743e-05 0.0063744475990533825 0.008835781291127205\n",
      "31 39.58674596399942 2.024806176450511e-05 0.008316241033375263 0.005553218461573124\n",
      "32 43.87978892399951 1.7491852768216633e-05 0.00745448275655508 0.005779338963329792\n",
      "33 46.289570606999405 1.0421197075629606e-05 0.005149671524763108 0.004895519837737084\n",
      "34 45.68876108099903 1.0605879674585595e-05 0.0051288348138332366 0.0047085870802402495\n",
      "35 46.10421173400027 1.0139384489775693e-05 0.005240576833486557 0.00684971958398819\n",
      "36 46.1262789930006 1.0348473811063741e-05 0.005291256807744503 0.004684166684746742\n",
      "37 60.06028787499963 8.77465822668455e-06 0.004624368205666542 0.004553523287177086\n",
      "38 48.80187600699901 8.829015446281118e-06 0.004560749940574169 0.004574014134705067\n",
      "39 82.29283240100085 8.253327146121591e-06 0.004412971194833517 0.004409113712608814\n",
      "40 69.28158121800152 8.153831499839725e-06 0.004369443751871586 0.004193063192069531\n",
      "41 51.90872750099879 8.12354893241718e-06 0.004212936267256737 0.004156336076557636\n",
      "42 51.63751364900054 7.600781164001091e-06 0.004179876625537872 0.004100669957697391\n",
      "43 62.57712713000001 7.724841088929679e-06 0.0041353504247963425 0.004069594293832779\n",
      "44 53.016899869000554 7.5624704209076295e-06 0.004121132984757424 0.004059486910700798\n",
      "45 42.02281028099969 7.696692923673254e-06 0.004088783644139767 0.004060271866619587\n",
      "46 45.123128814000665 7.526692070314312e-06 0.004078965783119202 0.004043283686041832\n",
      "47 48.56711528900087 7.527784869125753e-06 0.004069129362702369 0.004044007658958435\n",
      "48 44.353626621999865 7.528820258357883e-06 0.004065822903066873 0.004042416363954544\n",
      "49 42.48122122699897 7.5222250825390804e-06 0.004065953031182289 0.004041864760220051\n"
     ]
    }
   ],
   "source": [
    "myloss = LpLoss(size_average=False)\n",
    "for ep in range(epochs):\n",
    "    model.train()\n",
    "    t1 = default_timer()\n",
    "    train_mse = 0\n",
    "    train_l2 = 0\n",
    "    l2_train = []\n",
    "    l2_test = []\n",
    "    for x, y in train_loader:\n",
    "       # x, y = x.cuda(), y.cuda()\n",
    "\n",
    "        optimizer.zero_grad()\n",
    "        out = model(x)\n",
    "\n",
    "        mse = F.mse_loss(out.view(batch_size, -1), y.view(batch_size, -1), reduction='mean')\n",
    "        l2 = myloss(out.view(batch_size, -1), y.view(batch_size, -1))\n",
    "        l2.backward() # use the l2 relative loss\n",
    "\n",
    "        optimizer.step()\n",
    "        scheduler.step()\n",
    "        train_mse += mse.item()\n",
    "        train_l2 += l2.item()\n",
    "\n",
    "    model.eval()\n",
    "    test_l2 = 0.0\n",
    "    with torch.no_grad():\n",
    "        for x, y in test_loader:\n",
    "            #x, y = x.cuda(), y.cuda()\n",
    "\n",
    "            out = model(x)\n",
    "            test_l2 += myloss(out.view(batch_size, -1), y.view(batch_size, -1)).item()\n",
    "\n",
    "    train_mse /= len(train_loader)\n",
    "    train_l2 /= ntrain\n",
    "    test_l2 /= ntest\n",
    "    l2_train.append(train_l2)\n",
    "    l2_test.append(test_l2)\n",
    "    t2 = default_timer()\n",
    "    print(ep, t2-t1, train_mse, train_l2, test_l2)"
   ]
  },
  {
   "cell_type": "code",
   "execution_count": 157,
   "id": "f351d020",
   "metadata": {},
   "outputs": [],
   "source": [
    "loss_train = np.array(l2_train)\n",
    "loss_test = np.array(l2_test)"
   ]
  },
  {
   "cell_type": "code",
   "execution_count": 159,
   "id": "678fe1ca",
   "metadata": {},
   "outputs": [
    {
     "data": {
      "text/plain": [
       "array([0.00406595])"
      ]
     },
     "execution_count": 159,
     "metadata": {},
     "output_type": "execute_result"
    }
   ],
   "source": [
    "loss_train"
   ]
  },
  {
   "cell_type": "code",
   "execution_count": null,
   "id": "af6d718d",
   "metadata": {},
   "outputs": [],
   "source": [
    "torch.save(model, 'ns_fourier_burgers')\n",
    "pred = torch.zeros(y_test.shape)\n",
    "index = 0\n",
    "test_loader = torch.utils.data.DataLoader(torch.utils.data.TensorDataset(x_test, y_test), batch_size=1, shuffle=False)\n",
    "with torch.no_grad():\n",
    "    for x, y in test_loader:\n",
    "        test_l2 = 0\n",
    "        #x, y = x.cuda(), y.cuda()\n",
    "\n",
    "        out = model(x).view(-1)\n",
    "        pred[index] = out\n",
    "\n",
    "        test_l2 += myloss(out.view(1, -1), y.view(1, -1)).item()\n",
    "        print(index, test_l2)\n",
    "        index = index + 1"
   ]
  },
  {
   "cell_type": "code",
   "execution_count": 81,
   "id": "a3d0eb9a",
   "metadata": {},
   "outputs": [
    {
     "data": {
      "image/png": "[encoded data removed]",
      "text/plain": [
       "<Figure size 640x480 with 1 Axes>"
      ]
     },
     "metadata": {},
     "output_type": "display_data"
    }
   ],
   "source": [
    "plt.plot(x_test[0], label=\"Initial condition\")\n",
    "plt.plot(y_test[0], label=\"Ground Truth\")\n",
    "plt.plot(fno1d[:,:][0].view(-1).detach().numpy(), label=\"FNO prediction\")\n",
    "plt.legend()\n",
    "plt.grid()"
   ]
  },
  {
   "cell_type": "code",
   "execution_count": 89,
   "id": "c79d8e98",
   "metadata": {},
   "outputs": [],
   "source": [
    "dif = (model(x_test)[0]).view(-1) - y_test[0]"
   ]
  },
  {
   "cell_type": "code",
   "execution_count": 90,
   "id": "f7b03c1c",
   "metadata": {},
   "outputs": [
    {
     "data": {
      "text/plain": [
       "<matplotlib.legend.Legend at 0x7f864663ef10>"
      ]
     },
     "execution_count": 90,
     "metadata": {},
     "output_type": "execute_result"
    },
    {
     "data": {
      "image/png": "[encoded data removed]",
      "text/plain": [
       "<Figure size 640x480 with 1 Axes>"
      ]
     },
     "metadata": {},
     "output_type": "display_data"
    }
   ],
   "source": [
    "plt.plot(dif.detach().numpy(), label=\"Difference\")\n",
    "plt.legend()"
   ]
  },
  {
   "cell_type": "code",
   "execution_count": 75,
   "id": "c6ed0968",
   "metadata": {},
   "outputs": [],
   "source": [
    "a = fno1d[:,:][0].view(-1)\n"
   ]
  },
  {
   "cell_type": "code",
   "execution_count": 77,
   "id": "8a2a3885",
   "metadata": {},
   "outputs": [
    {
     "data": {
      "text/plain": [
       "array([ 4.81115654e-04, -4.26674634e-03, -8.92565027e-03, -1.35071632e-02,\n",
       "       -1.80227421e-02, -2.24828236e-02, -2.68958621e-02, -3.12677026e-02,\n",
       "       -3.56008783e-02, -3.98942605e-02, -4.41427976e-02, -4.83378135e-02,\n",
       "       -5.24669290e-02, -5.65149114e-02, -6.04641326e-02, -6.42955005e-02,\n",
       "       -6.79893792e-02, -7.15264454e-02, -7.48887211e-02, -7.80604258e-02,\n",
       "       -8.10286701e-02, -8.37840140e-02, -8.63209367e-02, -8.86379108e-02,\n",
       "       -9.07374620e-02, -9.26258415e-02, -9.43127051e-02, -9.58104208e-02,\n",
       "       -9.71333683e-02, -9.82971787e-02, -9.93177667e-02, -1.00210547e-01,\n",
       "       -1.00989558e-01, -1.01666741e-01, -1.02251463e-01, -1.02749743e-01,\n",
       "       -1.03164375e-01, -1.03494599e-01, -1.03736445e-01, -1.03882834e-01,\n",
       "       -1.03924431e-01, -1.03849925e-01, -1.03647090e-01, -1.03303440e-01,\n",
       "       -1.02807164e-01, -1.02147833e-01, -1.01317212e-01, -1.00309774e-01,\n",
       "       -9.91232544e-02, -9.77587849e-02, -9.62210447e-02, -9.45181027e-02,\n",
       "       -9.26610008e-02, -9.06633958e-02, -8.85408297e-02, -8.63097459e-02,\n",
       "       -8.39870274e-02, -8.15888122e-02, -7.91298822e-02, -7.66227171e-02,\n",
       "       -7.40770325e-02, -7.14992061e-02, -6.88921064e-02, -6.62549213e-02,\n",
       "       -6.35834336e-02, -6.08702786e-02, -5.81055619e-02, -5.52774705e-02,\n",
       "       -5.23731746e-02, -4.93796244e-02, -4.62844856e-02, -4.30769734e-02,\n",
       "       -3.97486724e-02, -3.62941399e-02, -3.27114463e-02, -2.90024169e-02,\n",
       "       -2.51727290e-02, -2.12317072e-02, -1.71921272e-02, -1.30693652e-02,\n",
       "       -8.88092071e-03, -4.64537926e-03, -3.81536782e-04,  3.89266759e-03,\n",
       "        8.16103444e-03,  1.24099962e-02,  1.66293047e-02,  2.08126828e-02,\n",
       "        2.49580070e-02,  2.90674251e-02,  3.31472903e-02,  3.72076556e-02,\n",
       "        4.12617400e-02,  4.53250110e-02,  4.94143814e-02,  5.35471365e-02,\n",
       "        5.77397570e-02,  6.20070510e-02,  6.63610250e-02,  7.08101988e-02,\n",
       "        7.53588900e-02,  8.00068825e-02,  8.47491845e-02,  8.95763040e-02,\n",
       "        9.44744721e-02,  9.94264036e-02,  1.04412116e-01,  1.09409861e-01,\n",
       "        1.14397354e-01,  1.19352810e-01,  1.24256082e-01,  1.29089624e-01,\n",
       "        1.33839503e-01,  1.38495833e-01,  1.43053502e-01,  1.47512168e-01,\n",
       "        1.51876301e-01,  1.56154990e-01,  1.60361260e-01,  1.64511472e-01,\n",
       "        1.68624431e-01,  1.72720343e-01,  1.76819652e-01,  1.80941969e-01,\n",
       "        1.85105056e-01,  1.89323664e-01,  1.93608731e-01,  1.97966695e-01,\n",
       "        2.02399120e-01,  2.06902325e-01,  2.11467683e-01,  2.16081887e-01,\n",
       "        2.20727503e-01,  2.25383878e-01,  2.30028033e-01,  2.34635860e-01,\n",
       "        2.39183262e-01,  2.43647128e-01,  2.48006761e-01,  2.52244562e-01,\n",
       "        2.56346822e-01,  2.60304660e-01,  2.64113963e-01,  2.67775685e-01,\n",
       "        2.71295667e-01,  2.74684370e-01,  2.77956188e-01,  2.81128466e-01,\n",
       "        2.84220934e-01,  2.87254095e-01,  2.90248632e-01,  2.93223739e-01,\n",
       "        2.96196729e-01,  2.99181432e-01,  3.02187800e-01,  3.05221379e-01,\n",
       "        3.08282912e-01,  3.11368525e-01,  3.14469457e-01,  3.17573011e-01,\n",
       "        3.20663095e-01,  3.23720813e-01,  3.26725662e-01,  3.29656243e-01,\n",
       "        3.32491577e-01,  3.35211754e-01,  3.37799072e-01,  3.40238571e-01,\n",
       "        3.42518806e-01,  3.44632268e-01,  3.46575558e-01,  3.48349690e-01,\n",
       "        3.49959671e-01,  3.51414680e-01,  3.52726996e-01,  3.53911877e-01,\n",
       "        3.54986608e-01,  3.55969608e-01,  3.56879473e-01,  3.57734382e-01,\n",
       "        3.58550429e-01,  3.59341621e-01,  3.60118568e-01,  3.60888243e-01,\n",
       "        3.61653566e-01,  3.62412870e-01,  3.63161027e-01,  3.63888919e-01,\n",
       "        3.64584446e-01,  3.65232885e-01,  3.65818262e-01,  3.66323769e-01,\n",
       "        3.66733015e-01,  3.67030561e-01,  3.67202848e-01,  3.67238998e-01,\n",
       "        3.67130816e-01,  3.66873562e-01,  3.66465807e-01,  3.65909398e-01,\n",
       "        3.65209043e-01,  3.64372492e-01,  3.63409340e-01,  3.62330616e-01,\n",
       "        3.61148357e-01,  3.59874547e-01,  3.58520687e-01,  3.57096553e-01,\n",
       "        3.55610371e-01,  3.54067445e-01,  3.52470279e-01,  3.50818187e-01,\n",
       "        3.49106967e-01,  3.47328961e-01,  3.45473409e-01,  3.43526542e-01,\n",
       "        3.41472149e-01,  3.39291513e-01,  3.36964488e-01,  3.34470093e-01,\n",
       "        3.31786394e-01,  3.28891695e-01,  3.25764239e-01,  3.22383463e-01,\n",
       "        3.18729222e-01,  3.14782798e-01,  3.10526490e-01,  3.05943727e-01,\n",
       "        3.01019043e-01,  2.95737714e-01,  2.90085942e-01,  2.84050047e-01,\n",
       "        2.77616769e-01,  2.70772666e-01,  2.63504207e-01,  2.55797148e-01,\n",
       "        2.47636929e-01,  2.39008158e-01,  2.29894996e-01,  2.20280945e-01,\n",
       "        2.10149348e-01,  1.99483335e-01,  1.88266397e-01,  1.76482707e-01,\n",
       "        1.64117754e-01,  1.51158631e-01,  1.37594819e-01,  1.23418771e-01,\n",
       "        1.08626597e-01,  9.32184458e-02,  7.71993026e-02,  6.05793633e-02,\n",
       "        4.33745831e-02,  2.56068278e-02,  7.30427168e-03, -1.14986226e-02,\n",
       "       -3.07610631e-02, -5.04362360e-02, -7.04715550e-02, -9.08092633e-02,\n",
       "       -1.11386880e-01, -1.32138222e-01, -1.52993932e-01, -1.73882663e-01,\n",
       "       -1.94731921e-01, -2.15469062e-01, -2.36022353e-01, -2.56321967e-01,\n",
       "       -2.76300639e-01, -2.95894802e-01, -3.15044999e-01, -3.33696783e-01,\n",
       "       -3.51800799e-01, -3.69313300e-01, -3.86196375e-01, -4.02417898e-01,\n",
       "       -4.17951167e-01, -4.32775497e-01, -4.46875095e-01, -4.60239291e-01,\n",
       "       -4.72861767e-01, -4.84740227e-01, -4.95876282e-01, -5.06274462e-01,\n",
       "       -5.15942395e-01, -5.24889708e-01, -5.33128619e-01, -5.40672362e-01,\n",
       "       -5.47536433e-01, -5.53736925e-01, -5.59291363e-01, -5.64218044e-01,\n",
       "       -5.68535924e-01, -5.72264552e-01, -5.75424314e-01, -5.78035474e-01,\n",
       "       -5.80119252e-01, -5.81696749e-01, -5.82789421e-01, -5.83418846e-01,\n",
       "       -5.83606601e-01, -5.83374619e-01, -5.82744479e-01, -5.81737876e-01,\n",
       "       -5.80376148e-01, -5.78680277e-01, -5.76670885e-01, -5.74368238e-01,\n",
       "       -5.71791768e-01, -5.68959713e-01, -5.65889835e-01, -5.62598586e-01,\n",
       "       -5.59101105e-01, -5.55411100e-01, -5.51541328e-01, -5.47502518e-01,\n",
       "       -5.43304503e-01, -5.38955390e-01, -5.34462094e-01, -5.29830575e-01,\n",
       "       -5.25065303e-01, -5.20170629e-01, -5.15149713e-01, -5.10005713e-01,\n",
       "       -5.04741490e-01, -4.99360025e-01, -4.93864596e-01, -4.88258928e-01,\n",
       "       -4.82547373e-01, -4.76734817e-01, -4.70827162e-01, -4.64830846e-01,\n",
       "       -4.58753109e-01, -4.52601790e-01, -4.46385086e-01, -4.40111458e-01,\n",
       "       -4.33789492e-01, -4.27427471e-01, -4.21033084e-01, -4.14613307e-01,\n",
       "       -4.08174276e-01, -4.01720822e-01, -3.95256400e-01, -3.88782978e-01,\n",
       "       -3.82301450e-01, -3.75810862e-01, -3.69309306e-01, -3.62793565e-01,\n",
       "       -3.56259644e-01, -3.49702954e-01, -3.43118727e-01, -3.36502194e-01,\n",
       "       -3.29849064e-01, -3.23155701e-01, -3.16419601e-01, -3.09639513e-01,\n",
       "       -3.02815497e-01, -2.95949221e-01, -2.89043903e-01, -2.82104313e-01,\n",
       "       -2.75136352e-01, -2.68147439e-01, -2.61145532e-01, -2.54139334e-01,\n",
       "       -2.47137591e-01, -2.40148902e-01, -2.33181298e-01, -2.26241946e-01,\n",
       "       -2.19336644e-01, -2.12469727e-01, -2.05643877e-01, -1.98860109e-01,\n",
       "       -1.92117482e-01, -1.85413629e-01, -1.78744555e-01, -1.72105134e-01,\n",
       "       -1.65489316e-01, -1.58890560e-01, -1.52302206e-01, -1.45717815e-01,\n",
       "       -1.39131725e-01, -1.32539093e-01, -1.25936389e-01, -1.19321615e-01,\n",
       "       -1.12694301e-01, -1.06055625e-01, -9.94083509e-02, -9.27566886e-02,\n",
       "       -8.61062109e-02, -7.94634447e-02, -7.28356689e-02, -6.62306398e-02,\n",
       "       -5.96561246e-02, -5.31197228e-02, -4.66284901e-02, -4.01887558e-02,\n",
       "       -3.38058844e-02, -2.74841897e-02, -2.12267898e-02, -1.50357541e-02,\n",
       "       -8.91194493e-03, -2.85533816e-03,  3.13496217e-03,  9.06041078e-03,\n",
       "        1.49230044e-02,  2.07248554e-02,  2.64681801e-02,  3.21549624e-02,\n",
       "        3.77869681e-02,  4.33653891e-02,  4.88910079e-02,  5.43639660e-02,\n",
       "        5.97838946e-02,  6.51497841e-02,  7.04602003e-02,  7.57131651e-02,\n",
       "        8.09064284e-02,  8.60373750e-02,  9.11033005e-02,  9.61012319e-02,\n",
       "        1.01028182e-01,  1.05881043e-01,  1.10656701e-01,  1.15351893e-01,\n",
       "        1.19963281e-01,  1.24487437e-01,  1.28920615e-01,  1.33259028e-01,\n",
       "        1.37498409e-01,  1.41634405e-01,  1.45662308e-01,  1.49577260e-01,\n",
       "        1.53374165e-01,  1.57048106e-01,  1.60593987e-01,  1.64007157e-01,\n",
       "        1.67283237e-01,  1.70418471e-01,  1.73409730e-01,  1.76254869e-01,\n",
       "        1.78952605e-01,  1.81502461e-01,  1.83905274e-01,  1.86162561e-01,\n",
       "        1.88276857e-01,  1.90251082e-01,  1.92088813e-01,  1.93793416e-01,\n",
       "        1.95368379e-01,  1.96816653e-01,  1.98140085e-01,  1.99339688e-01,\n",
       "        2.00414926e-01,  2.01363891e-01,  2.02182829e-01,  2.02866554e-01,\n",
       "        2.03408226e-01,  2.03799486e-01,  2.04031080e-01,  2.04092890e-01,\n",
       "        2.03974545e-01,  2.03665674e-01,  2.03156561e-01,  2.02438504e-01,\n",
       "        2.01504543e-01,  2.00349301e-01,  1.98969930e-01,  1.97366148e-01,\n",
       "        1.95540100e-01,  1.93496853e-01,  1.91243917e-01,  1.88791364e-01,\n",
       "        1.86151087e-01,  1.83336735e-01,  1.80362970e-01,  1.77244753e-01,\n",
       "        1.73996896e-01,  1.70633346e-01,  1.67166382e-01,  1.63606286e-01,\n",
       "        1.59960777e-01,  1.56234741e-01,  1.52429998e-01,  1.48545444e-01,\n",
       "        1.44577190e-01,  1.40519023e-01,  1.36362821e-01,  1.32099360e-01,\n",
       "        1.27719104e-01,  1.23212866e-01,  1.18572816e-01,  1.13793127e-01,\n",
       "        1.08870745e-01,  1.03805915e-01,  9.86026004e-02,  9.32686627e-02,\n",
       "        8.78158584e-02,  8.22596475e-02,  7.66188577e-02,  7.09148422e-02,\n",
       "        6.51710406e-02,  5.94119355e-02,  5.36621884e-02,  4.79456857e-02,\n",
       "        4.22846377e-02,  3.66987288e-02,  3.12044900e-02,  2.58146711e-02,\n",
       "        2.05379706e-02,  1.53788794e-02,  1.03377383e-02,  5.41114062e-03],\n",
       "      dtype=float32)"
      ]
     },
     "execution_count": 77,
     "metadata": {},
     "output_type": "execute_result"
    }
   ],
   "source": [
    "a.detach().numpy()"
   ]
  },
  {
   "cell_type": "code",
   "execution_count": 64,
   "id": "ea892abf",
   "metadata": {},
   "outputs": [
    {
     "data": {
      "text/plain": [
       "tensor([ 1.5794e-03, -3.4493e-03, -8.4028e-03, -1.3275e-02, -1.8061e-02,\n",
       "        -2.2755e-02, -2.7351e-02, -3.1845e-02, -3.6232e-02, -4.0506e-02,\n",
       "        -4.4665e-02, -4.8704e-02, -5.2618e-02, -5.6406e-02, -6.0062e-02,\n",
       "        -6.3584e-02, -6.6970e-02, -7.0217e-02, -7.3322e-02, -7.6283e-02,\n",
       "        -7.9099e-02, -8.1769e-02, -8.4289e-02, -8.6661e-02, -8.8881e-02,\n",
       "        -9.0951e-02, -9.2869e-02, -9.4636e-02, -9.6250e-02, -9.7713e-02,\n",
       "        -9.9024e-02, -1.0018e-01, -1.0119e-01, -1.0205e-01, -1.0277e-01,\n",
       "        -1.0333e-01, -1.0375e-01, -1.0402e-01, -1.0415e-01, -1.0413e-01,\n",
       "        -1.0398e-01, -1.0369e-01, -1.0326e-01, -1.0270e-01, -1.0200e-01,\n",
       "        -1.0117e-01, -1.0022e-01, -9.9136e-02, -9.7930e-02, -9.6603e-02,\n",
       "        -9.5157e-02, -9.3593e-02, -9.1915e-02, -9.0125e-02, -8.8225e-02,\n",
       "        -8.6218e-02, -8.4106e-02, -8.1892e-02, -7.9579e-02, -7.7167e-02,\n",
       "        -7.4661e-02, -7.2063e-02, -6.9374e-02, -6.6598e-02, -6.3737e-02,\n",
       "        -6.0793e-02, -5.7769e-02, -5.4667e-02, -5.1489e-02, -4.8238e-02,\n",
       "        -4.4915e-02, -4.1524e-02, -3.8066e-02, -3.4544e-02, -3.0959e-02,\n",
       "        -2.7315e-02, -2.3612e-02, -1.9854e-02, -1.6041e-02, -1.2177e-02,\n",
       "        -8.2631e-03, -4.3012e-03, -2.9325e-04,  3.7587e-03,  7.8529e-03,\n",
       "         1.1987e-02,  1.6160e-02,  2.0370e-02,  2.4615e-02,  2.8892e-02,\n",
       "         3.3202e-02,  3.7541e-02,  4.1908e-02,  4.6302e-02,  5.0720e-02,\n",
       "         5.5162e-02,  5.9625e-02,  6.4108e-02,  6.8609e-02,  7.3128e-02,\n",
       "         7.7662e-02,  8.2209e-02,  8.6769e-02,  9.1340e-02,  9.5920e-02,\n",
       "         1.0051e-01,  1.0510e-01,  1.0970e-01,  1.1431e-01,  1.1891e-01,\n",
       "         1.2352e-01,  1.2812e-01,  1.3272e-01,  1.3732e-01,  1.4191e-01,\n",
       "         1.4650e-01,  1.5108e-01,  1.5565e-01,  1.6021e-01,  1.6475e-01,\n",
       "         1.6928e-01,  1.7380e-01,  1.7830e-01,  1.8278e-01,  1.8724e-01,\n",
       "         1.9168e-01,  1.9610e-01,  2.0050e-01,  2.0486e-01,  2.0921e-01,\n",
       "         2.1352e-01,  2.1780e-01,  2.2205e-01,  2.2627e-01,  2.3045e-01,\n",
       "         2.3460e-01,  2.3871e-01,  2.4278e-01,  2.4681e-01,  2.5079e-01,\n",
       "         2.5473e-01,  2.5863e-01,  2.6248e-01,  2.6628e-01,  2.7003e-01,\n",
       "         2.7373e-01,  2.7738e-01,  2.8097e-01,  2.8450e-01,  2.8798e-01,\n",
       "         2.9139e-01,  2.9475e-01,  2.9804e-01,  3.0127e-01,  3.0443e-01,\n",
       "         3.0753e-01,  3.1056e-01,  3.1352e-01,  3.1641e-01,  3.1923e-01,\n",
       "         3.2197e-01,  3.2464e-01,  3.2723e-01,  3.2975e-01,  3.3219e-01,\n",
       "         3.3455e-01,  3.3683e-01,  3.3903e-01,  3.4114e-01,  3.4318e-01,\n",
       "         3.4513e-01,  3.4700e-01,  3.4879e-01,  3.5049e-01,  3.5210e-01,\n",
       "         3.5363e-01,  3.5508e-01,  3.5643e-01,  3.5771e-01,  3.5889e-01,\n",
       "         3.5999e-01,  3.6101e-01,  3.6194e-01,  3.6278e-01,  3.6354e-01,\n",
       "         3.6421e-01,  3.6480e-01,  3.6530e-01,  3.6572e-01,  3.6606e-01,\n",
       "         3.6631e-01,  3.6648e-01,  3.6657e-01,  3.6657e-01,  3.6650e-01,\n",
       "         3.6634e-01,  3.6609e-01,  3.6577e-01,  3.6537e-01,  3.6488e-01,\n",
       "         3.6431e-01,  3.6365e-01,  3.6291e-01,  3.6208e-01,  3.6117e-01,\n",
       "         3.6016e-01,  3.5907e-01,  3.5788e-01,  3.5659e-01,  3.5520e-01,\n",
       "         3.5370e-01,  3.5210e-01,  3.5038e-01,  3.4854e-01,  3.4657e-01,\n",
       "         3.4447e-01,  3.4223e-01,  3.3983e-01,  3.3728e-01,  3.3456e-01,\n",
       "         3.3166e-01,  3.2856e-01,  3.2526e-01,  3.2175e-01,  3.1800e-01,\n",
       "         3.1400e-01,  3.0974e-01,  3.0519e-01,  3.0035e-01,  2.9519e-01,\n",
       "         2.8970e-01,  2.8384e-01,  2.7761e-01,  2.7098e-01,  2.6393e-01,\n",
       "         2.5643e-01,  2.4848e-01,  2.4003e-01,  2.3108e-01,  2.2160e-01,\n",
       "         2.1158e-01,  2.0099e-01,  1.8982e-01,  1.7805e-01,  1.6568e-01,\n",
       "         1.5268e-01,  1.3907e-01,  1.2482e-01,  1.0995e-01,  9.4464e-02,\n",
       "         7.8363e-02,  6.1666e-02,  4.4393e-02,  2.6568e-02,  8.2226e-03,\n",
       "        -1.0609e-02, -2.9885e-02, -4.9559e-02, -6.9582e-02, -8.9897e-02,\n",
       "        -1.1045e-01, -1.3117e-01, -1.5199e-01, -1.7286e-01, -1.9369e-01,\n",
       "        -2.1443e-01, -2.3500e-01, -2.5534e-01, -2.7537e-01, -2.9505e-01,\n",
       "        -3.1430e-01, -3.3307e-01, -3.5131e-01, -3.6898e-01, -3.8602e-01,\n",
       "        -4.0241e-01, -4.1812e-01, -4.3311e-01, -4.4737e-01, -4.6089e-01,\n",
       "        -4.7365e-01, -4.8564e-01, -4.9688e-01, -5.0735e-01, -5.1706e-01,\n",
       "        -5.2604e-01, -5.3428e-01, -5.4180e-01, -5.4863e-01, -5.5477e-01,\n",
       "        -5.6026e-01, -5.6511e-01, -5.6935e-01, -5.7299e-01, -5.7607e-01,\n",
       "        -5.7860e-01, -5.8062e-01, -5.8213e-01, -5.8318e-01, -5.8377e-01,\n",
       "        -5.8394e-01, -5.8369e-01, -5.8306e-01, -5.8207e-01, -5.8073e-01,\n",
       "        -5.7906e-01, -5.7708e-01, -5.7481e-01, -5.7226e-01, -5.6945e-01,\n",
       "        -5.6639e-01, -5.6310e-01, -5.5959e-01, -5.5587e-01, -5.5196e-01,\n",
       "        -5.4786e-01, -5.4359e-01, -5.3916e-01, -5.3457e-01, -5.2984e-01,\n",
       "        -5.2497e-01, -5.1997e-01, -5.1484e-01, -5.0961e-01, -5.0426e-01,\n",
       "        -4.9882e-01, -4.9328e-01, -4.8764e-01, -4.8193e-01, -4.7613e-01,\n",
       "        -4.7025e-01, -4.6431e-01, -4.5830e-01, -4.5222e-01, -4.4609e-01,\n",
       "        -4.3989e-01, -4.3365e-01, -4.2736e-01, -4.2102e-01, -4.1463e-01,\n",
       "        -4.0820e-01, -4.0174e-01, -3.9524e-01, -3.8870e-01, -3.8214e-01,\n",
       "        -3.7554e-01, -3.6892e-01, -3.6227e-01, -3.5559e-01, -3.4890e-01,\n",
       "        -3.4218e-01, -3.3545e-01, -3.2870e-01, -3.2193e-01, -3.1515e-01,\n",
       "        -3.0836e-01, -3.0156e-01, -2.9474e-01, -2.8792e-01, -2.8109e-01,\n",
       "        -2.7426e-01, -2.6742e-01, -2.6057e-01, -2.5373e-01, -2.4688e-01,\n",
       "        -2.4004e-01, -2.3320e-01, -2.2635e-01, -2.1952e-01, -2.1268e-01,\n",
       "        -2.0586e-01, -1.9904e-01, -1.9223e-01, -1.8542e-01, -1.7863e-01,\n",
       "        -1.7185e-01, -1.6508e-01, -1.5833e-01, -1.5159e-01, -1.4487e-01,\n",
       "        -1.3816e-01, -1.3147e-01, -1.2480e-01, -1.1816e-01, -1.1153e-01,\n",
       "        -1.0493e-01, -9.8346e-02, -9.1791e-02, -8.5263e-02, -7.8763e-02,\n",
       "        -7.2292e-02, -6.5850e-02, -5.9441e-02, -5.3064e-02, -4.6721e-02,\n",
       "        -4.0414e-02, -3.4144e-02, -2.7912e-02, -2.1719e-02, -1.5568e-02,\n",
       "        -9.4601e-03, -3.3960e-03,  2.6223e-03,  8.5932e-03,  1.4515e-02,\n",
       "         2.0386e-02,  2.6206e-02,  3.1971e-02,  3.7680e-02,  4.3332e-02,\n",
       "         4.8924e-02,  5.4455e-02,  5.9924e-02,  6.5327e-02,  7.0663e-02,\n",
       "         7.5930e-02,  8.1126e-02,  8.6250e-02,  9.1298e-02,  9.6268e-02,\n",
       "         1.0116e-01,  1.0597e-01,  1.1069e-01,  1.1533e-01,  1.1988e-01,\n",
       "         1.2434e-01,  1.2871e-01,  1.3298e-01,  1.3715e-01,  1.4122e-01,\n",
       "         1.4519e-01,  1.4905e-01,  1.5280e-01,  1.5644e-01,  1.5997e-01,\n",
       "         1.6338e-01,  1.6667e-01,  1.6984e-01,  1.7288e-01,  1.7580e-01,\n",
       "         1.7859e-01,  1.8124e-01,  1.8376e-01,  1.8614e-01,  1.8839e-01,\n",
       "         1.9048e-01,  1.9244e-01,  1.9424e-01,  1.9590e-01,  1.9740e-01,\n",
       "         1.9874e-01,  1.9993e-01,  2.0096e-01,  2.0183e-01,  2.0253e-01,\n",
       "         2.0307e-01,  2.0344e-01,  2.0365e-01,  2.0368e-01,  2.0354e-01,\n",
       "         2.0323e-01,  2.0275e-01,  2.0209e-01,  2.0126e-01,  2.0025e-01,\n",
       "         1.9907e-01,  1.9771e-01,  1.9618e-01,  1.9447e-01,  1.9259e-01,\n",
       "         1.9054e-01,  1.8832e-01,  1.8592e-01,  1.8337e-01,  1.8064e-01,\n",
       "         1.7775e-01,  1.7471e-01,  1.7150e-01,  1.6815e-01,  1.6464e-01,\n",
       "         1.6099e-01,  1.5719e-01,  1.5326e-01,  1.4919e-01,  1.4500e-01,\n",
       "         1.4068e-01,  1.3625e-01,  1.3170e-01,  1.2705e-01,  1.2230e-01,\n",
       "         1.1746e-01,  1.1253e-01,  1.0752e-01,  1.0243e-01,  9.7283e-02,\n",
       "         9.2075e-02,  8.6814e-02,  8.1509e-02,  7.6166e-02,  7.0794e-02,\n",
       "         6.5399e-02,  5.9989e-02,  5.4572e-02,  4.9154e-02,  4.3744e-02,\n",
       "         3.8348e-02,  3.2974e-02,  2.7629e-02,  2.2320e-02,  1.7054e-02,\n",
       "         1.1837e-02,  6.6770e-03])"
      ]
     },
     "execution_count": 64,
     "metadata": {},
     "output_type": "execute_result"
    }
   ],
   "source": [
    "y_test[0]"
   ]
  },
  {
   "cell_type": "code",
   "execution_count": 60,
   "id": "ae7f8310",
   "metadata": {},
   "outputs": [
    {
     "ename": "RuntimeError",
     "evalue": "Can't call numpy() on Tensor that requires grad. Use tensor.detach().numpy() instead.",
     "output_type": "error",
     "traceback": [
      "\u001b[0;31m---------------------------------------------------------------------------\u001b[0m",
      "\u001b[0;31mRuntimeError\u001b[0m                              Traceback (most recent call last)",
      "Cell \u001b[0;32mIn[60], line 1\u001b[0m\n\u001b[0;32m----> 1\u001b[0m plt\u001b[38;5;241m.\u001b[39mplot(fno1d[\u001b[38;5;241m0\u001b[39m], label\u001b[38;5;241m=\u001b[39m\u001b[38;5;124m\"\u001b[39m\u001b[38;5;124minitial condition\u001b[39m\u001b[38;5;124m\"\u001b[39m)\n\u001b[1;32m      2\u001b[0m plt\u001b[38;5;241m.\u001b[39mplot(y_data[\u001b[38;5;241m0\u001b[39m], label\u001b[38;5;241m=\u001b[39m\u001b[38;5;124m\"\u001b[39m\u001b[38;5;124mAfter 1 time unit\u001b[39m\u001b[38;5;124m\"\u001b[39m)\n\u001b[1;32m      3\u001b[0m plt\u001b[38;5;241m.\u001b[39mlegend()\n",
      "File \u001b[0;32m~/anaconda3/lib/python3.11/site-packages/matplotlib/pyplot.py:2812\u001b[0m, in \u001b[0;36mplot\u001b[0;34m(scalex, scaley, data, *args, **kwargs)\u001b[0m\n\u001b[1;32m   2810\u001b[0m \u001b[38;5;129m@_copy_docstring_and_deprecators\u001b[39m(Axes\u001b[38;5;241m.\u001b[39mplot)\n\u001b[1;32m   2811\u001b[0m \u001b[38;5;28;01mdef\u001b[39;00m \u001b[38;5;21mplot\u001b[39m(\u001b[38;5;241m*\u001b[39margs, scalex\u001b[38;5;241m=\u001b[39m\u001b[38;5;28;01mTrue\u001b[39;00m, scaley\u001b[38;5;241m=\u001b[39m\u001b[38;5;28;01mTrue\u001b[39;00m, data\u001b[38;5;241m=\u001b[39m\u001b[38;5;28;01mNone\u001b[39;00m, \u001b[38;5;241m*\u001b[39m\u001b[38;5;241m*\u001b[39mkwargs):\n\u001b[0;32m-> 2812\u001b[0m     \u001b[38;5;28;01mreturn\u001b[39;00m gca()\u001b[38;5;241m.\u001b[39mplot(\n\u001b[1;32m   2813\u001b[0m         \u001b[38;5;241m*\u001b[39margs, scalex\u001b[38;5;241m=\u001b[39mscalex, scaley\u001b[38;5;241m=\u001b[39mscaley,\n\u001b[1;32m   2814\u001b[0m         \u001b[38;5;241m*\u001b[39m\u001b[38;5;241m*\u001b[39m({\u001b[38;5;124m\"\u001b[39m\u001b[38;5;124mdata\u001b[39m\u001b[38;5;124m\"\u001b[39m: data} \u001b[38;5;28;01mif\u001b[39;00m data \u001b[38;5;129;01mis\u001b[39;00m \u001b[38;5;129;01mnot\u001b[39;00m \u001b[38;5;28;01mNone\u001b[39;00m \u001b[38;5;28;01melse\u001b[39;00m {}), \u001b[38;5;241m*\u001b[39m\u001b[38;5;241m*\u001b[39mkwargs)\n",
      "File \u001b[0;32m~/anaconda3/lib/python3.11/site-packages/matplotlib/axes/_axes.py:1690\u001b[0m, in \u001b[0;36mAxes.plot\u001b[0;34m(self, scalex, scaley, data, *args, **kwargs)\u001b[0m\n\u001b[1;32m   1688\u001b[0m lines \u001b[38;5;241m=\u001b[39m [\u001b[38;5;241m*\u001b[39m\u001b[38;5;28mself\u001b[39m\u001b[38;5;241m.\u001b[39m_get_lines(\u001b[38;5;241m*\u001b[39margs, data\u001b[38;5;241m=\u001b[39mdata, \u001b[38;5;241m*\u001b[39m\u001b[38;5;241m*\u001b[39mkwargs)]\n\u001b[1;32m   1689\u001b[0m \u001b[38;5;28;01mfor\u001b[39;00m line \u001b[38;5;129;01min\u001b[39;00m lines:\n\u001b[0;32m-> 1690\u001b[0m     \u001b[38;5;28mself\u001b[39m\u001b[38;5;241m.\u001b[39madd_line(line)\n\u001b[1;32m   1691\u001b[0m \u001b[38;5;28;01mif\u001b[39;00m scalex:\n\u001b[1;32m   1692\u001b[0m     \u001b[38;5;28mself\u001b[39m\u001b[38;5;241m.\u001b[39m_request_autoscale_view(\u001b[38;5;124m\"\u001b[39m\u001b[38;5;124mx\u001b[39m\u001b[38;5;124m\"\u001b[39m)\n",
      "File \u001b[0;32m~/anaconda3/lib/python3.11/site-packages/matplotlib/axes/_base.py:2304\u001b[0m, in \u001b[0;36m_AxesBase.add_line\u001b[0;34m(self, line)\u001b[0m\n\u001b[1;32m   2301\u001b[0m \u001b[38;5;28;01mif\u001b[39;00m line\u001b[38;5;241m.\u001b[39mget_clip_path() \u001b[38;5;129;01mis\u001b[39;00m \u001b[38;5;28;01mNone\u001b[39;00m:\n\u001b[1;32m   2302\u001b[0m     line\u001b[38;5;241m.\u001b[39mset_clip_path(\u001b[38;5;28mself\u001b[39m\u001b[38;5;241m.\u001b[39mpatch)\n\u001b[0;32m-> 2304\u001b[0m \u001b[38;5;28mself\u001b[39m\u001b[38;5;241m.\u001b[39m_update_line_limits(line)\n\u001b[1;32m   2305\u001b[0m \u001b[38;5;28;01mif\u001b[39;00m \u001b[38;5;129;01mnot\u001b[39;00m line\u001b[38;5;241m.\u001b[39mget_label():\n\u001b[1;32m   2306\u001b[0m     line\u001b[38;5;241m.\u001b[39mset_label(\u001b[38;5;124mf\u001b[39m\u001b[38;5;124m'\u001b[39m\u001b[38;5;124m_child\u001b[39m\u001b[38;5;132;01m{\u001b[39;00m\u001b[38;5;28mlen\u001b[39m(\u001b[38;5;28mself\u001b[39m\u001b[38;5;241m.\u001b[39m_children)\u001b[38;5;132;01m}\u001b[39;00m\u001b[38;5;124m'\u001b[39m)\n",
      "File \u001b[0;32m~/anaconda3/lib/python3.11/site-packages/matplotlib/axes/_base.py:2327\u001b[0m, in \u001b[0;36m_AxesBase._update_line_limits\u001b[0;34m(self, line)\u001b[0m\n\u001b[1;32m   2323\u001b[0m \u001b[38;5;28;01mdef\u001b[39;00m \u001b[38;5;21m_update_line_limits\u001b[39m(\u001b[38;5;28mself\u001b[39m, line):\n\u001b[1;32m   2324\u001b[0m \u001b[38;5;250m    \u001b[39m\u001b[38;5;124;03m\"\"\"\u001b[39;00m\n\u001b[1;32m   2325\u001b[0m \u001b[38;5;124;03m    Figures out the data limit of the given line, updating self.dataLim.\u001b[39;00m\n\u001b[1;32m   2326\u001b[0m \u001b[38;5;124;03m    \"\"\"\u001b[39;00m\n\u001b[0;32m-> 2327\u001b[0m     path \u001b[38;5;241m=\u001b[39m line\u001b[38;5;241m.\u001b[39mget_path()\n\u001b[1;32m   2328\u001b[0m     \u001b[38;5;28;01mif\u001b[39;00m path\u001b[38;5;241m.\u001b[39mvertices\u001b[38;5;241m.\u001b[39msize \u001b[38;5;241m==\u001b[39m \u001b[38;5;241m0\u001b[39m:\n\u001b[1;32m   2329\u001b[0m         \u001b[38;5;28;01mreturn\u001b[39;00m\n",
      "File \u001b[0;32m~/anaconda3/lib/python3.11/site-packages/matplotlib/lines.py:1029\u001b[0m, in \u001b[0;36mLine2D.get_path\u001b[0;34m(self)\u001b[0m\n\u001b[1;32m   1027\u001b[0m \u001b[38;5;250m\u001b[39m\u001b[38;5;124;03m\"\"\"Return the `~matplotlib.path.Path` associated with this line.\"\"\"\u001b[39;00m\n\u001b[1;32m   1028\u001b[0m \u001b[38;5;28;01mif\u001b[39;00m \u001b[38;5;28mself\u001b[39m\u001b[38;5;241m.\u001b[39m_invalidy \u001b[38;5;129;01mor\u001b[39;00m \u001b[38;5;28mself\u001b[39m\u001b[38;5;241m.\u001b[39m_invalidx:\n\u001b[0;32m-> 1029\u001b[0m     \u001b[38;5;28mself\u001b[39m\u001b[38;5;241m.\u001b[39mrecache()\n\u001b[1;32m   1030\u001b[0m \u001b[38;5;28;01mreturn\u001b[39;00m \u001b[38;5;28mself\u001b[39m\u001b[38;5;241m.\u001b[39m_path\n",
      "File \u001b[0;32m~/anaconda3/lib/python3.11/site-packages/matplotlib/lines.py:662\u001b[0m, in \u001b[0;36mLine2D.recache\u001b[0;34m(self, always)\u001b[0m\n\u001b[1;32m    660\u001b[0m \u001b[38;5;28;01mif\u001b[39;00m always \u001b[38;5;129;01mor\u001b[39;00m \u001b[38;5;28mself\u001b[39m\u001b[38;5;241m.\u001b[39m_invalidy:\n\u001b[1;32m    661\u001b[0m     yconv \u001b[38;5;241m=\u001b[39m \u001b[38;5;28mself\u001b[39m\u001b[38;5;241m.\u001b[39mconvert_yunits(\u001b[38;5;28mself\u001b[39m\u001b[38;5;241m.\u001b[39m_yorig)\n\u001b[0;32m--> 662\u001b[0m     y \u001b[38;5;241m=\u001b[39m _to_unmasked_float_array(yconv)\u001b[38;5;241m.\u001b[39mravel()\n\u001b[1;32m    663\u001b[0m \u001b[38;5;28;01melse\u001b[39;00m:\n\u001b[1;32m    664\u001b[0m     y \u001b[38;5;241m=\u001b[39m \u001b[38;5;28mself\u001b[39m\u001b[38;5;241m.\u001b[39m_y\n",
      "File \u001b[0;32m~/anaconda3/lib/python3.11/site-packages/matplotlib/cbook/__init__.py:1335\u001b[0m, in \u001b[0;36m_to_unmasked_float_array\u001b[0;34m(x)\u001b[0m\n\u001b[1;32m   1333\u001b[0m     \u001b[38;5;28;01mreturn\u001b[39;00m np\u001b[38;5;241m.\u001b[39mma\u001b[38;5;241m.\u001b[39masarray(x, \u001b[38;5;28mfloat\u001b[39m)\u001b[38;5;241m.\u001b[39mfilled(np\u001b[38;5;241m.\u001b[39mnan)\n\u001b[1;32m   1334\u001b[0m \u001b[38;5;28;01melse\u001b[39;00m:\n\u001b[0;32m-> 1335\u001b[0m     \u001b[38;5;28;01mreturn\u001b[39;00m np\u001b[38;5;241m.\u001b[39masarray(x, \u001b[38;5;28mfloat\u001b[39m)\n",
      "File \u001b[0;32m~/anaconda3/lib/python3.11/site-packages/torch/_tensor.py:1032\u001b[0m, in \u001b[0;36mTensor.__array__\u001b[0;34m(self, dtype)\u001b[0m\n\u001b[1;32m   1030\u001b[0m     \u001b[38;5;28;01mreturn\u001b[39;00m \u001b[38;5;28mself\u001b[39m\u001b[38;5;241m.\u001b[39mnumpy()\n\u001b[1;32m   1031\u001b[0m \u001b[38;5;28;01melse\u001b[39;00m:\n\u001b[0;32m-> 1032\u001b[0m     \u001b[38;5;28;01mreturn\u001b[39;00m \u001b[38;5;28mself\u001b[39m\u001b[38;5;241m.\u001b[39mnumpy()\u001b[38;5;241m.\u001b[39mastype(dtype, copy\u001b[38;5;241m=\u001b[39m\u001b[38;5;28;01mFalse\u001b[39;00m)\n",
      "\u001b[0;31mRuntimeError\u001b[0m: Can't call numpy() on Tensor that requires grad. Use tensor.detach().numpy() instead."
     ]
    },
    {
     "data": {
      "image/png": "[encoded data removed]",
      "text/plain": [
       "<Figure size 640x480 with 1 Axes>"
      ]
     },
     "metadata": {},
     "output_type": "display_data"
    }
   ],
   "source": [
    "plt.plot(fno1d[0], label=\"initial condition\")\n",
    "plt.plot(y_data[0], label=\"After 1 time unit\")\n",
    "plt.legend()\n",
    "plt.grid()"
   ]
  },
  {
   "cell_type": "code",
   "execution_count": null,
   "id": "2541aea0",
   "metadata": {},
   "outputs": [],
   "source": []
  }
 ],
 "metadata": {
  "kernelspec": {
   "display_name": "Python 3 (ipykernel)",
   "language": "python",
   "name": "python3"
  },
  "language_info": {
   "codemirror_mode": {
    "name": "ipython",
    "version": 3
   },
   "file_extension": ".py",
   "mimetype": "text/x-python",
   "name": "python",
   "nbconvert_exporter": "python",
   "pygments_lexer": "ipython3",
   "version": "3.11.4"
  }
 },
 "nbformat": 4,
 "nbformat_minor": 5
}
