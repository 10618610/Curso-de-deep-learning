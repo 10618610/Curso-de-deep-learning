{
 "cells": [
  {
   "cell_type": "markdown",
   "metadata": {},
   "source": [
    "## Pré-treinamento não supervisionado Greedy Layer-Wise\n",
    "\n",
    "Nesta seção, exploraremos o uso de pré-treinamento guloso em camadas com um modelo não supervisionado.\n",
    "\n",
    "Especificamente, desenvolveremos um modelo de autoencoder que será treinado para reconstruir os dados de entrada. Para usar este modelo não supervisionado para classificação, removeremos a camada de saída, adicionaremos e ajustaremos uma nova camada de saída para classificação.\n",
    "\n",
    "Isso é um pouco mais complexo do que o pré-treinamento guloso supervisionado anterior, mas podemos reutilizar muitas das mesmas ideias e códigos da seção anterior.\n",
    "\n",
    "A primeira etapa é definir, ajustar e avaliar um modelo de autoencoder. Usaremos o mesmo modelo básico de duas camadas da seção anterior, exceto modificá-lo para prever a entrada como saída e usar o erro médio quadrado para avaliar a qualidade do modelo na reconstrução de uma determinada amostra de entrada.\n",
    "\n",
    "A função base_autoencoder() abaixo implementa isso, pegando os conjuntos de treinamento e teste como argumentos e, em seguida, define, ajusta e avalia o modelo base do autoencoder não supervisionado, imprimindo o erro de reconstrução nos conjuntos de treinamento e teste e retornando o modelo.\n",
    "Mais sobre o texto originalÉ necessário fornecer o texto original para ver mais informações sobre a tradução\n",
    "Enviar feedback\n",
    "Painéis laterais"
   ]
  },
  {
   "cell_type": "code",
   "execution_count": 28,
   "metadata": {},
   "outputs": [],
   "source": [
    "# unsupervised greedy layer-wise pretraining for blobs classification problem\n",
    "from sklearn.datasets import make_blobs\n",
    "from keras.layers import Dense\n",
    "from keras.models import Sequential\n",
    "from keras.optimizers import SGD\n",
    "from keras.utils import to_categorical\n",
    "from matplotlib import pyplot"
   ]
  },
  {
   "cell_type": "code",
   "execution_count": 29,
   "metadata": {},
   "outputs": [],
   "source": [
    "# prepare the dataset\n",
    "def prepare_data():\n",
    "\t# generate 2d classification dataset\n",
    "\tX, y = make_blobs(n_samples=1000, centers=3, n_features=2, cluster_std=2, random_state=2)\n",
    "\t# one hot encode output variable\n",
    "\ty = to_categorical(y)\n",
    "\t# split into train and test\n",
    "\tn_train = 500\n",
    "\ttrainX, testX = X[:n_train, :], X[n_train:, :]\n",
    "\ttrainy, testy = y[:n_train], y[n_train:]\n",
    "\treturn trainX, testX, trainy, testy"
   ]
  },
  {
   "cell_type": "code",
   "execution_count": 30,
   "metadata": {},
   "outputs": [],
   "source": [
    "# prepare data\n",
    "trainX, testX, trainy, testy = prepare_data()"
   ]
  },
  {
   "cell_type": "code",
   "execution_count": 31,
   "metadata": {},
   "outputs": [
    {
     "data": {
      "text/plain": [
       "(500, 2)"
      ]
     },
     "execution_count": 31,
     "metadata": {},
     "output_type": "execute_result"
    }
   ],
   "source": [
    "trainX.shape"
   ]
  },
  {
   "cell_type": "code",
   "execution_count": 32,
   "metadata": {},
   "outputs": [],
   "source": [
    "# define, fit and evaluate the base autoencoder\n",
    "def base_autoencoder(trainX, testX):\n",
    "\t# define model\n",
    "\tmodel = Sequential()\n",
    "\tmodel.add(Dense(10, input_dim=2, activation='relu', kernel_initializer='he_uniform'))\n",
    "\tmodel.add(Dense(2, activation='linear'))\n",
    "\t# compile model\n",
    "\tmodel.compile(loss='mse', optimizer=SGD(lr=0.01, momentum=0.9))\n",
    "\t# fit model\n",
    "\tmodel.fit(trainX, trainX, epochs=100, verbose=0)\n",
    "\t# evaluate reconstruction loss\n",
    "\ttrain_mse = model.evaluate(trainX, trainX, verbose=0)\n",
    "\ttest_mse = model.evaluate(testX, testX, verbose=0)\n",
    "\tprint('> reconstruction error train=%.3f, test=%.3f' % (train_mse, test_mse))\n",
    "\treturn model"
   ]
  },
  {
   "cell_type": "markdown",
   "metadata": {},
   "source": [
    "We can call this function in order to prepare our base autoencoder to which we can add and greedily train layers."
   ]
  },
  {
   "cell_type": "code",
   "execution_count": 33,
   "metadata": {},
   "outputs": [
    {
     "name": "stdout",
     "output_type": "stream",
     "text": [
      "> reconstruction error train=0.001, test=0.001\n",
      "Model: \"sequential_5\"\n",
      "_________________________________________________________________\n",
      "Layer (type)                 Output Shape              Param #   \n",
      "=================================================================\n",
      "dense_33 (Dense)             (None, 10)                30        \n",
      "_________________________________________________________________\n",
      "dense_34 (Dense)             (None, 2)                 22        \n",
      "=================================================================\n",
      "Total params: 52\n",
      "Trainable params: 52\n",
      "Non-trainable params: 0\n",
      "_________________________________________________________________\n"
     ]
    }
   ],
   "source": [
    "# get the base autoencoder\n",
    "model = base_autoencoder(trainX, testX)\n",
    "model.summary()"
   ]
  },
  {
   "cell_type": "markdown",
   "metadata": {},
   "source": [
    "Evaluating an autoencoder model on the blobs multi-class classification problem requires a few steps.\n",
    "\n",
    "The hidden layers will be used as the basis of a classifier with a new output layer that must be trained then used to make predictions before adding back the original output layer so that we can continue to add layers to the autoencoder.\n",
    "\n",
    "The first step is to reference, then remove the output layer of the autoencoder model."
   ]
  },
  {
   "cell_type": "code",
   "execution_count": 34,
   "metadata": {},
   "outputs": [
    {
     "name": "stdout",
     "output_type": "stream",
     "text": [
      "Model: \"sequential_5\"\n",
      "_________________________________________________________________\n",
      "Layer (type)                 Output Shape              Param #   \n",
      "=================================================================\n",
      "dense_33 (Dense)             (None, 10)                30        \n",
      "=================================================================\n",
      "Total params: 52\n",
      "Trainable params: 52\n",
      "Non-trainable params: 0\n",
      "_________________________________________________________________\n"
     ]
    }
   ],
   "source": [
    "# remember the current output layer\n",
    "output_layer = model.layers[-1]\n",
    "# remove the output layer\n",
    "model.pop()\n",
    "model.summary()"
   ]
  },
  {
   "cell_type": "markdown",
   "metadata": {},
   "source": [
    "All of the remaining hidden layers in the autoencoder must be marked as non-trainable so that the weights are not changed when we train the new output layer."
   ]
  },
  {
   "cell_type": "code",
   "execution_count": 35,
   "metadata": {},
   "outputs": [],
   "source": [
    "# mark all remaining layers as non-trainable\n",
    "for layer in model.layers:\n",
    "    layer.trainable = False"
   ]
  },
  {
   "cell_type": "markdown",
   "metadata": {},
   "source": [
    "We can now add a new output layer that predicts the probability of an example belonging to reach of the three classes. The model must also be re-compiled using a new loss function suitable for multi-class classification."
   ]
  },
  {
   "cell_type": "code",
   "execution_count": 36,
   "metadata": {},
   "outputs": [
    {
     "name": "stdout",
     "output_type": "stream",
     "text": [
      "Model: \"sequential_5\"\n",
      "_________________________________________________________________\n",
      "Layer (type)                 Output Shape              Param #   \n",
      "=================================================================\n",
      "dense_33 (Dense)             (None, 10)                30        \n",
      "_________________________________________________________________\n",
      "dense_35 (Dense)             (None, 3)                 33        \n",
      "=================================================================\n",
      "Total params: 63\n",
      "Trainable params: 33\n",
      "Non-trainable params: 30\n",
      "_________________________________________________________________\n"
     ]
    }
   ],
   "source": [
    "# add new output layer\n",
    "model.add(Dense(3, activation='softmax'))\n",
    "# compile model\n",
    "model.compile(loss='categorical_crossentropy', optimizer=SGD(lr=0.01, momentum=0.9), metrics=['accuracy'])\n",
    "model.summary()"
   ]
  },
  {
   "cell_type": "markdown",
   "metadata": {},
   "source": [
    "The model can then be re-fit on the training dataset, specifically training the output layer on how to make class predictions using the learned features from the autoencoder as input.\n",
    "\n",
    "The classification accuracy of the fit model can then be evaluated on the train and test datasets."
   ]
  },
  {
   "cell_type": "code",
   "execution_count": 37,
   "metadata": {},
   "outputs": [],
   "source": [
    "# fit model\n",
    "model.fit(trainX, trainy, epochs=100, verbose=0)\n",
    "# evaluate model\n",
    "_, train_acc = model.evaluate(trainX, trainy, verbose=0)\n",
    "_, test_acc = model.evaluate(testX, testy, verbose=0)"
   ]
  },
  {
   "cell_type": "code",
   "execution_count": 43,
   "metadata": {},
   "outputs": [
    {
     "data": {
      "text/plain": [
       "0.7559999823570251"
      ]
     },
     "execution_count": 43,
     "metadata": {},
     "output_type": "execute_result"
    }
   ],
   "source": [
    "train_acc"
   ]
  },
  {
   "cell_type": "markdown",
   "metadata": {},
   "source": [
    "Finally, we can put the autoencoder back together but removing the classification output layer, adding back the original autoencoder output layer and recompiling the model with an appropriate loss function for reconstruction."
   ]
  },
  {
   "cell_type": "code",
   "execution_count": 39,
   "metadata": {},
   "outputs": [
    {
     "name": "stdout",
     "output_type": "stream",
     "text": [
      "Model: \"sequential_5\"\n",
      "_________________________________________________________________\n",
      "Layer (type)                 Output Shape              Param #   \n",
      "=================================================================\n",
      "dense_33 (Dense)             (None, 10)                30        \n",
      "_________________________________________________________________\n",
      "dense_34 (Dense)             (None, 2)                 22        \n",
      "=================================================================\n",
      "Total params: 52\n",
      "Trainable params: 22\n",
      "Non-trainable params: 30\n",
      "_________________________________________________________________\n"
     ]
    }
   ],
   "source": [
    "# put the model back together\n",
    "model.pop()\n",
    "model.add(output_layer)\n",
    "model.compile(loss='mse', optimizer=SGD(lr=0.01, momentum=0.9))\n",
    "model.summary()"
   ]
  },
  {
   "cell_type": "markdown",
   "metadata": {},
   "source": [
    "We can tie this together into an evaluate_autoencoder_as_classifier() function that takes the model as well as the train and test sets, then returns the train and test set classification accuracy."
   ]
  },
  {
   "cell_type": "code",
   "execution_count": 26,
   "metadata": {},
   "outputs": [],
   "source": [
    "# evaluate the autoencoder as a classifier\n",
    "def evaluate_autoencoder_as_classifier(model, trainX, trainy, testX, testy):\n",
    "\t# remember the current output layer\n",
    "\toutput_layer = model.layers[-1]\n",
    "\t# remove the output layer\n",
    "\tmodel.pop()\n",
    "\t# mark all remaining layers as non-trainable\n",
    "\tfor layer in model.layers:\n",
    "\t\tlayer.trainable = False\n",
    "\t# add new output layer\n",
    "\tmodel.add(Dense(3, activation='softmax'))\n",
    "\t# compile model\n",
    "\tmodel.compile(loss='categorical_crossentropy', optimizer=SGD(lr=0.01, momentum=0.9), metrics=['accuracy'])\n",
    "\t# fit model\n",
    "\tmodel.fit(trainX, trainy, epochs=100, verbose=0)\n",
    "\t# evaluate model\n",
    "\t_, train_acc = model.evaluate(trainX, trainy, verbose=0)\n",
    "\t_, test_acc = model.evaluate(testX, testy, verbose=0)\n",
    "\t# put the model back together\n",
    "\tmodel.pop()\n",
    "\tmodel.add(output_layer)\n",
    "\tmodel.compile(loss='mse', optimizer=SGD(lr=0.01, momentum=0.9))\n",
    "\treturn train_acc, test_acc"
   ]
  },
  {
   "cell_type": "markdown",
   "metadata": {},
   "source": [
    "This function can be called to evaluate the baseline autoencoder model and then store the accuracy scores in a dictionary against the number of layers in the model (in this case two)."
   ]
  },
  {
   "cell_type": "code",
   "execution_count": 40,
   "metadata": {},
   "outputs": [
    {
     "name": "stdout",
     "output_type": "stream",
     "text": [
      "> classifier accuracy layers=2, train=0.812, test=0.836\n"
     ]
    }
   ],
   "source": [
    "# evaluate the base model\n",
    "scores = dict()\n",
    "train_acc, test_acc = evaluate_autoencoder_as_classifier(model, trainX, trainy, testX, testy)\n",
    "print('> classifier accuracy layers=%d, train=%.3f, test=%.3f' % (len(model.layers), train_acc, test_acc))\n",
    "scores[len(model.layers)] = (train_acc, test_acc)"
   ]
  },
  {
   "cell_type": "markdown",
   "metadata": {},
   "source": [
    "We are now ready to define the process for adding and pretraining layers to the model.\n",
    "\n",
    "The process for adding layers is much the same as the supervised case in the previous section, except we are optimizing reconstruction loss rather than classification accuracy for the new layer.\n",
    "\n",
    "The add_layer_to_autoencoder() function below adds a new hidden layer to the autoencoder model, updates the weights for the new layer and the hidden layers, then reports the reconstruction error on the train and test sets input data. The function does re-mark all prior layers as non-trainable, which is redundant because we already did this in the evaluate_autoencoder_as_classifier() function, but I have left it in, in case you decide to reuse this function in your own project."
   ]
  },
  {
   "cell_type": "code",
   "execution_count": 16,
   "metadata": {},
   "outputs": [],
   "source": [
    "# add one new layer and re-train only the new layer\n",
    "def add_layer_to_autoencoder(model, trainX, testX):\n",
    "\t# remember the current output layer\n",
    "\toutput_layer = model.layers[-1]\n",
    "\t# remove the output layer\n",
    "\tmodel.pop()\n",
    "\t# mark all remaining layers as non-trainable\n",
    "\tfor layer in model.layers:\n",
    "\t\tlayer.trainable = False\n",
    "\t# add a new hidden layer\n",
    "\tmodel.add(Dense(10, activation='relu', kernel_initializer='he_uniform'))\n",
    "\t# re-add the output layer\n",
    "\tmodel.add(output_layer)\n",
    "\t# fit model\n",
    "\tmodel.fit(trainX, trainX, epochs=100, verbose=0)\n",
    "\t# evaluate reconstruction loss\n",
    "\ttrain_mse = model.evaluate(trainX, trainX, verbose=0)\n",
    "\ttest_mse = model.evaluate(testX, testX, verbose=0)\n",
    "\tprint('> reconstruction error train=%.3f, test=%.3f' % (train_mse, test_mse))"
   ]
  },
  {
   "cell_type": "markdown",
   "metadata": {},
   "source": [
    "We can now repeatedly call this function, adding layers, and evaluating the effect by using the autoencoder as the basis for evaluating a new classifier."
   ]
  },
  {
   "cell_type": "code",
   "execution_count": 41,
   "metadata": {},
   "outputs": [
    {
     "name": "stdout",
     "output_type": "stream",
     "text": [
      "> reconstruction error train=0.008, test=0.010\n",
      "> classifier accuracy layers=3, train=0.810, test=0.840\n",
      "> reconstruction error train=2.649, test=2.851\n",
      "> classifier accuracy layers=4, train=0.750, test=0.750\n",
      "> reconstruction error train=2.177, test=2.475\n",
      "> classifier accuracy layers=5, train=0.764, test=0.762\n",
      "> reconstruction error train=2.174, test=2.477\n",
      "> classifier accuracy layers=6, train=0.766, test=0.768\n",
      "> reconstruction error train=2.186, test=2.479\n",
      "> classifier accuracy layers=7, train=0.756, test=0.764\n",
      "Model: \"sequential_5\"\n",
      "_________________________________________________________________\n",
      "Layer (type)                 Output Shape              Param #   \n",
      "=================================================================\n",
      "dense_33 (Dense)             (None, 10)                30        \n",
      "_________________________________________________________________\n",
      "dense_37 (Dense)             (None, 10)                110       \n",
      "_________________________________________________________________\n",
      "dense_39 (Dense)             (None, 10)                110       \n",
      "_________________________________________________________________\n",
      "dense_41 (Dense)             (None, 10)                110       \n",
      "_________________________________________________________________\n",
      "dense_43 (Dense)             (None, 10)                110       \n",
      "_________________________________________________________________\n",
      "dense_45 (Dense)             (None, 10)                110       \n",
      "_________________________________________________________________\n",
      "dense_34 (Dense)             (None, 2)                 22        \n",
      "=================================================================\n",
      "Total params: 602\n",
      "Trainable params: 22\n",
      "Non-trainable params: 580\n",
      "_________________________________________________________________\n"
     ]
    }
   ],
   "source": [
    "# add layers and evaluate the updated model\n",
    "n_layers = 5\n",
    "for _ in range(n_layers):\n",
    "\t# add layer\n",
    "\tadd_layer_to_autoencoder(model, trainX, testX)\n",
    "\t# evaluate model\n",
    "\ttrain_acc, test_acc = evaluate_autoencoder_as_classifier(model, trainX, trainy, testX, testy)\n",
    "\tprint('> classifier accuracy layers=%d, train=%.3f, test=%.3f' % (len(model.layers), train_acc, test_acc))\n",
    "\t# store scores for plotting\n",
    "\tscores[len(model.layers)] = (train_acc, test_acc)\n",
    "model.summary()"
   ]
  },
  {
   "cell_type": "markdown",
   "metadata": {},
   "source": [
    "As before, all accuracy scores are collected and we can use them to create a line graph of the number of model layers vs train and test set accuracy."
   ]
  },
  {
   "cell_type": "code",
   "execution_count": 42,
   "metadata": {},
   "outputs": [
    {
     "data": {
      "image/png": "[encoded data removed]",
      "text/plain": [
       "<Figure size 432x288 with 1 Axes>"
      ]
     },
     "metadata": {
      "needs_background": "light"
     },
     "output_type": "display_data"
    }
   ],
   "source": [
    "# plot number of added layers vs accuracy\n",
    "keys = list(scores.keys())\n",
    "pyplot.plot(keys, [scores[k][0] for k in keys], label='train', marker='.')\n",
    "pyplot.plot(keys, [scores[k][1] for k in keys], label='test', marker='.')\n",
    "pyplot.legend()\n",
    "pyplot.show()"
   ]
  },
  {
   "cell_type": "code",
   "execution_count": 19,
   "metadata": {},
   "outputs": [
    {
     "name": "stdout",
     "output_type": "stream",
     "text": [
      "> reconstruction error train=0.000, test=0.000\n",
      "> classifier accuracy layers=2, train=0.832, test=0.836\n",
      "> reconstruction error train=0.023, test=0.028\n",
      "> classifier accuracy layers=3, train=0.806, test=0.828\n",
      "> reconstruction error train=10.409, test=10.682\n",
      "> classifier accuracy layers=4, train=0.342, test=0.326\n",
      "> reconstruction error train=10.408, test=10.669\n",
      "> classifier accuracy layers=5, train=0.342, test=0.326\n",
      "> reconstruction error train=10.409, test=10.679\n",
      "> classifier accuracy layers=6, train=0.342, test=0.326\n",
      "> reconstruction error train=10.408, test=10.668\n",
      "> classifier accuracy layers=7, train=0.342, test=0.326\n"
     ]
    },
    {
     "data": {
      "image/png": "[encoded data removed]",
      "text/plain": [
       "<Figure size 432x288 with 1 Axes>"
      ]
     },
     "metadata": {
      "needs_background": "light"
     },
     "output_type": "display_data"
    }
   ],
   "source": [
    "# unsupervised greedy layer-wise pretraining for blobs classification problem\n",
    "from sklearn.datasets import make_blobs\n",
    "from keras.layers import Dense\n",
    "from keras.models import Sequential\n",
    "from keras.optimizers import SGD\n",
    "from keras.utils import to_categorical\n",
    "from matplotlib import pyplot\n",
    "\n",
    "# prepare the dataset\n",
    "def prepare_data():\n",
    "\t# generate 2d classification dataset\n",
    "\tX, y = make_blobs(n_samples=1000, centers=3, n_features=2, cluster_std=2, random_state=2)\n",
    "\t# one hot encode output variable\n",
    "\ty = to_categorical(y)\n",
    "\t# split into train and test\n",
    "\tn_train = 500\n",
    "\ttrainX, testX = X[:n_train, :], X[n_train:, :]\n",
    "\ttrainy, testy = y[:n_train], y[n_train:]\n",
    "\treturn trainX, testX, trainy, testy\n",
    "\n",
    "# define, fit and evaluate the base autoencoder\n",
    "def base_autoencoder(trainX, testX):\n",
    "\t# define model\n",
    "\tmodel = Sequential()\n",
    "\tmodel.add(Dense(10, input_dim=2, activation='relu', kernel_initializer='he_uniform'))\n",
    "\tmodel.add(Dense(2, activation='linear'))\n",
    "\t# compile model\n",
    "\tmodel.compile(loss='mse', optimizer=SGD(lr=0.01, momentum=0.9))\n",
    "\t# fit model\n",
    "\tmodel.fit(trainX, trainX, epochs=100, verbose=0)\n",
    "\t# evaluate reconstruction loss\n",
    "\ttrain_mse = model.evaluate(trainX, trainX, verbose=0)\n",
    "\ttest_mse = model.evaluate(testX, testX, verbose=0)\n",
    "\tprint('> reconstruction error train=%.3f, test=%.3f' % (train_mse, test_mse))\n",
    "\treturn model\n",
    "\n",
    "# evaluate the autoencoder as a classifier\n",
    "def evaluate_autoencoder_as_classifier(model, trainX, trainy, testX, testy):\n",
    "\t# remember the current output layer\n",
    "\toutput_layer = model.layers[-1]\n",
    "\t# remove the output layer\n",
    "\tmodel.pop()\n",
    "\t# mark all remaining layers as non-trainable\n",
    "\tfor layer in model.layers:\n",
    "\t\tlayer.trainable = False\n",
    "\t# add new output layer\n",
    "\tmodel.add(Dense(3, activation='softmax'))\n",
    "\t# compile model\n",
    "\tmodel.compile(loss='categorical_crossentropy', optimizer=SGD(lr=0.01, momentum=0.9), metrics=['accuracy'])\n",
    "\t# fit model\n",
    "\tmodel.fit(trainX, trainy, epochs=100, verbose=0)\n",
    "\t# evaluate model\n",
    "\t_, train_acc = model.evaluate(trainX, trainy, verbose=0)\n",
    "\t_, test_acc = model.evaluate(testX, testy, verbose=0)\n",
    "\t# put the model back together\n",
    "\tmodel.pop()\n",
    "\tmodel.add(output_layer)\n",
    "\tmodel.compile(loss='mse', optimizer=SGD(lr=0.01, momentum=0.9))\n",
    "\treturn train_acc, test_acc\n",
    "\n",
    "# add one new layer and re-train only the new layer\n",
    "def add_layer_to_autoencoder(model, trainX, testX):\n",
    "\t# remember the current output layer\n",
    "\toutput_layer = model.layers[-1]\n",
    "\t# remove the output layer\n",
    "\tmodel.pop()\n",
    "\t# mark all remaining layers as non-trainable\n",
    "\tfor layer in model.layers:\n",
    "\t\tlayer.trainable = False\n",
    "\t# add a new hidden layer\n",
    "\tmodel.add(Dense(10, activation='relu', kernel_initializer='he_uniform'))\n",
    "\t# re-add the output layer\n",
    "\tmodel.add(output_layer)\n",
    "\t# fit model\n",
    "\tmodel.fit(trainX, trainX, epochs=100, verbose=0)\n",
    "\t# evaluate reconstruction loss\n",
    "\ttrain_mse = model.evaluate(trainX, trainX, verbose=0)\n",
    "\ttest_mse = model.evaluate(testX, testX, verbose=0)\n",
    "\tprint('> reconstruction error train=%.3f, test=%.3f' % (train_mse, test_mse))\n",
    "\n",
    "# prepare data\n",
    "trainX, testX, trainy, testy = prepare_data()\n",
    "# get the base autoencoder\n",
    "model = base_autoencoder(trainX, testX)\n",
    "# evaluate the base model\n",
    "scores = dict()\n",
    "train_acc, test_acc = evaluate_autoencoder_as_classifier(model, trainX, trainy, testX, testy)\n",
    "print('> classifier accuracy layers=%d, train=%.3f, test=%.3f' % (len(model.layers), train_acc, test_acc))\n",
    "scores[len(model.layers)] = (train_acc, test_acc)\n",
    "# add layers and evaluate the updated model\n",
    "n_layers = 5\n",
    "for _ in range(n_layers):\n",
    "\t# add layer\n",
    "\tadd_layer_to_autoencoder(model, trainX, testX)\n",
    "\t# evaluate model\n",
    "\ttrain_acc, test_acc = evaluate_autoencoder_as_classifier(model, trainX, trainy, testX, testy)\n",
    "\tprint('> classifier accuracy layers=%d, train=%.3f, test=%.3f' % (len(model.layers), train_acc, test_acc))\n",
    "\t# store scores for plotting\n",
    "\tscores[len(model.layers)] = (train_acc, test_acc)\n",
    "# plot number of added layers vs accuracy\n",
    "keys = list(scores.keys())\n",
    "pyplot.plot(keys, [scores[k][0] for k in keys], label='train', marker='.')\n",
    "pyplot.plot(keys, [scores[k][1] for k in keys], label='test', marker='.')\n",
    "pyplot.legend()\n",
    "pyplot.show()"
   ]
  },
  {
   "cell_type": "markdown",
   "metadata": {},
   "source": [
    "In this case, we can see that reconstruction error starts low, in fact near-perfect, then slowly increases during training. Accuracy on the training dataset seems to decrease as layers are added to the encoder, although accuracy test seems to improve as layers are added, at least until the model has five layers, after which performance appears to crash."
   ]
  },
  {
   "cell_type": "code",
   "execution_count": null,
   "metadata": {},
   "outputs": [],
   "source": []
  }
 ],
 "metadata": {
  "kernelspec": {
   "display_name": "Python 3 (ipykernel)",
   "language": "python",
   "name": "python3"
  },
  "language_info": {
   "codemirror_mode": {
    "name": "ipython",
    "version": 3
   },
   "file_extension": ".py",
   "mimetype": "text/x-python",
   "name": "python",
   "nbconvert_exporter": "python",
   "pygments_lexer": "ipython3",
   "version": "3.10.6"
  }
 },
 "nbformat": 4,
 "nbformat_minor": 2
}
