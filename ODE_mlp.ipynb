{
 "cells": [
  {
   "cell_type": "markdown",
   "id": "99f2082d-23e6-49f4-b6ec-3b4944eca32a",
   "metadata": {},
   "source": [
    "# Solving an ODE using neural networks "
   ]
  },
  {
   "cell_type": "markdown",
   "id": "23874896-7e39-4b37-ac9c-a27e31bcf4db",
   "metadata": {},
   "source": [
    "I'm very new to deep learning (coming from a math PDE background), but I'm trying to solve some ODEs using a neural network (via tensorflow). I've solved some simple ones like $𝑢^{'}(𝑥)+𝑢(𝑥)=𝑓(𝑥)$  with no problem, but I'm trying something a bit harder now: $𝑢^{\"}(𝑥)−𝑥𝑢(𝑥)=0$ with the initial conditions $𝑢(0)=𝐴$ and $𝑢^{'}(0)=𝐵$\n",
    "\n",
    "I'm mostly following this paper, and my solution is written as $$𝑢_𝑁(𝑥)=𝐴+𝐵𝑥+𝑥^{2}𝑁(𝑥,\\omega),$$\n",
    "where $𝑁(𝑥,\\omega)$ is the output of the neural net. The loss function I'm using is just the residual of the ODE in a mean square sense, so it's pretty crude: $$l(𝑥,\\omega)=\\sum^𝑁_{𝑗=1}(𝑢_𝑁^{\"}(𝑥)−𝑥𝑢_𝑁(𝑥))^2.$$\n",
    "I'm having a lot of trouble getting a good numerical solution to this particular equation. You can see a typical result below (orange is the exact solution, blue is my solution).\n",
    "\n",
    "My current setup is just 2 hidden layers of 400 nodes each (one leaky ReLU and one ReLU) followed by a linear activation layer. My input data is an evenly spaced discretization of the domain. I'm using the Adam optimizer with a batch size of 32 and run for 400 epochs. I can't seem to capture the oscillating behavior in the left of the domain properly no matter what parameters I tweak.\n",
    "\n",
    "Does anyone have any suggestions for how to improve the result? I'm very very new to deep learning and neural networks. If it helps, my code is included below. I should also probably give credit to Emm and vijay m, whose code for 1D approximation was the base for my code\n",
    "\n"
   ]
  },
  {
   "cell_type": "code",
   "execution_count": 1,
   "id": "82348160-b78d-4a57-aead-ed8732ec09b8",
   "metadata": {},
   "outputs": [
    {
     "name": "stderr",
     "output_type": "stream",
     "text": [
      "2023-12-28 09:53:14.221571: I tensorflow/core/platform/cpu_feature_guard.cc:193] This TensorFlow binary is optimized with oneAPI Deep Neural Network Library (oneDNN) to use the following CPU instructions in performance-critical operations:  AVX2 FMA\n",
      "To enable them in other operations, rebuild TensorFlow with the appropriate compiler flags.\n",
      "2023-12-28 09:53:14.450606: E tensorflow/stream_executor/cuda/cuda_blas.cc:2981] Unable to register cuBLAS factory: Attempting to register factory for plugin cuBLAS when one has already been registered\n",
      "2023-12-28 09:53:15.133520: W tensorflow/stream_executor/platform/default/dso_loader.cc:64] Could not load dynamic library 'libnvinfer.so.7'; dlerror: libnvinfer.so.7: cannot open shared object file: No such file or directory; LD_LIBRARY_PATH: /usr/local/cuda/lib64:/home/sidney/anaconda3/envs/tf/lib/\n",
      "2023-12-28 09:53:15.133620: W tensorflow/stream_executor/platform/default/dso_loader.cc:64] Could not load dynamic library 'libnvinfer_plugin.so.7'; dlerror: libnvinfer_plugin.so.7: cannot open shared object file: No such file or directory; LD_LIBRARY_PATH: /usr/local/cuda/lib64:/home/sidney/anaconda3/envs/tf/lib/\n",
      "2023-12-28 09:53:15.133629: W tensorflow/compiler/tf2tensorrt/utils/py_utils.cc:38] TF-TRT Warning: Cannot dlopen some TensorRT libraries. If you would like to use Nvidia GPU with TensorRT, please make sure the missing libraries mentioned above are installed properly.\n"
     ]
    }
   ],
   "source": [
    "import tensorflow as tf\n",
    "import numpy as np\n",
    "import math, random\n",
    "import matplotlib.pyplot as plt\n",
    "from scipy import special"
   ]
  },
  {
   "cell_type": "code",
   "execution_count": 2,
   "id": "bfc39bc7-e303-401f-8ff2-b6505cfe63a5",
   "metadata": {},
   "outputs": [],
   "source": [
    "######################################################################\n",
    "# Routine to solve u''(x) - x*u(x) = f(x), u(0)=A, u'(0)=B in the form\n",
    "#     u(x) = A + B*x + x^2*N(x,w)\n",
    "# where N(x,w) is the output of the neural network.\n",
    "######################################################################\n"
   ]
  },
  {
   "cell_type": "code",
   "execution_count": 25,
   "id": "d7cd06fe-8788-4016-95d3-9ba6779a2265",
   "metadata": {},
   "outputs": [],
   "source": [
    "# Create the arrays x and y, where x is a discretization of the domain (a,b) and y is the source term f(x)\n",
    "N = 500\n",
    "a = -6.0\n",
    "b = 2.0\n",
    "x = np.arange(a, b, (b-a)/N).reshape((N,1))\n",
    "y = np.zeros(N)\n",
    "\n",
    "# Boundary conditions\n",
    "A = 1.0\n",
    "B = 0.0"
   ]
  },
  {
   "cell_type": "code",
   "execution_count": 46,
   "id": "aabb7d9c-92b2-4c2b-9a7c-728e1542824c",
   "metadata": {},
   "outputs": [],
   "source": [
    "# Define the number of neurons in each layer\n",
    "n_nodes_hl1 = 100\n",
    "n_nodes_hl2 = 50\n",
    "n_nodes_hl3 = 25\n",
    "# Define the number of outputs and the learning rate\n",
    "n_classes = 1 #saida linear\n",
    "learn_rate = 0.001"
   ]
  },
  {
   "cell_type": "markdown",
   "id": "681d8f55-b87c-40b7-abdd-84997deb08eb",
   "metadata": {},
   "source": [
    "## Placeholders\n",
    "\n",
    "\n",
    "Até agora usamos Variáveis para gerenciar nossos dados, mas existe uma estrutura mais básica, o placeholder. Um espaço reservado é simplesmente uma variável à qual atribuiremos dados posteriormente. Ele nos permite criar nossas operações e construir nosso gráfico de computação, sem precisar dos dados. Na terminologia do TensorFlow, alimentamos dados no gráfico por meio desses espaços reservados.\n"
   ]
  },
  {
   "cell_type": "code",
   "execution_count": 55,
   "id": "0edd1a66-4501-4729-8928-db5f94b2e763",
   "metadata": {},
   "outputs": [],
   "source": [
    "# Define input / output placeholders\n",
    "import tensorflow.compat.v1 as tf\n",
    "tf.disable_v2_behavior()\n",
    "x_ph = tf.placeholder('float', [None, 1],name='input')\n",
    "y_ph = tf.placeholder('float')"
   ]
  },
  {
   "cell_type": "code",
   "execution_count": 119,
   "id": "088086a1-2f8f-4913-9da1-a5d3b0a86ca6",
   "metadata": {},
   "outputs": [],
   "source": [
    "# Define standard deviation for the weights and biases\n",
    "hl_sigma = 0.02\n",
    "# Routine to compute the neural network (5 hidden layers)\n",
    "def neural_network_model(data):\n",
    "    hidden_1_layer = {'weights': tf.Variable(name='w_h1',initial_value=tf.random_normal([1, n_nodes_hl1], stddev=hl_sigma)),\n",
    "                      'biases': tf.Variable(name='b_h1',initial_value=tf.random_normal([n_nodes_hl1], stddev=hl_sigma))}\n",
    "\n",
    "    hidden_2_layer = {'weights': tf.Variable(name='w_h2',initial_value=tf.random_normal([n_nodes_hl1, n_nodes_hl2], stddev=hl_sigma)),\n",
    "                      'biases': tf.Variable(name='b_h2',initial_value=tf.random_normal([n_nodes_hl2], stddev=hl_sigma))}\n",
    "    \n",
    "\n",
    "    hidden_3_layer = {'weights': tf.Variable(name='w_h3',initial_value=tf.random_normal([n_nodes_hl2, n_nodes_hl3], stddev=hl_sigma)),\n",
    "                      'biases': tf.Variable(name='b_h3',initial_value=tf.random_normal([n_nodes_hl3], stddev=hl_sigma))}\n",
    "\n",
    "    output_layer = {'weights': tf.Variable(name='w_o',initial_value=tf.random_normal([n_nodes_hl3, n_classes], stddev=hl_sigma)),\n",
    "                      'biases': tf.Variable(name='b_o',initial_value=tf.random_normal([n_classes], stddev=hl_sigma))}\n",
    "\n",
    "\n",
    "    # (input_data * weights) + biases\n",
    "    l1 = tf.add(tf.matmul(data, hidden_1_layer['weights']), hidden_1_layer['biases'])\n",
    "    #l1 = tf.nn.leaky_relu(l1)   \n",
    "    l1 = tf.nn.sigmoid(l1)\n",
    "\n",
    "    l2 = tf.add(tf.matmul(l1, hidden_2_layer['weights']), hidden_2_layer['biases'])\n",
    "    #l2 = tf.nn.relu(l2)\n",
    "    l2 = tf.nn.sigmoid(l2)\n",
    "\n",
    "    l3 = tf.add(tf.matmul(l2, hidden_3_layer['weights']), hidden_3_layer['biases'])\n",
    "    #l2 = tf.nn.relu(l2)\n",
    "    l3 = tf.nn.sigmoid(l3)\n",
    "\n",
    "    output = tf.add(tf.matmul(l3, output_layer['weights']), output_layer['biases'], name='output')\n",
    "\n",
    "    return output"
   ]
  },
  {
   "cell_type": "code",
   "execution_count": 120,
   "id": "3c06439b-b048-477f-a012-4dcf95a4ff5b",
   "metadata": {},
   "outputs": [],
   "source": [
    "batch_size = 32\n",
    "\n",
    "# Feed batch data\n",
    "def get_batch(inputX, inputY, batch_size):\n",
    "    duration = len(inputX)\n",
    "    for i in range(0,duration//batch_size):\n",
    "        idx = i*batch_size + np.random.randint(0,10,(1))[0]\n",
    "\n",
    "        yield inputX[idx:idx+batch_size], inputY[idx:idx+batch_size]"
   ]
  },
  {
   "cell_type": "code",
   "execution_count": 121,
   "id": "ad576975-cc45-459d-b5e1-52d9d56910a4",
   "metadata": {},
   "outputs": [],
   "source": [
    "# Routine to train the neural network\n",
    "def train_neural_network_batch(x_ph, predict=False):\n",
    "    Loss = []\n",
    "    Epoca = []\n",
    "    #u_N(x)\n",
    "    prediction = neural_network_model(x_ph)\n",
    "    #du_N/dt\n",
    "    pred_dx = tf.gradients(prediction, x_ph)\n",
    "    #d^2u_N/dt²\n",
    "    pred_dx2 = tf.gradients(tf.gradients(prediction, x_ph),x_ph)\n",
    "\n",
    "    # Compute u and its second derivative\n",
    "    u = A + B*x_ph + (x_ph*x_ph)*prediction\n",
    "    \n",
    "    dudx2 = (x_ph*x_ph)*pred_dx2 + 2.0*x_ph*pred_dx + 2.0*x_ph*pred_dx + 2.0*prediction\n",
    "\n",
    "    # The cost function is just the residual of u''(x) - x*u(x) = 0, i.e. residual = u''(x)-x*u(x)\n",
    "    cost = tf.reduce_mean(tf.square(dudx2 - x_ph*u - y_ph))\n",
    "    optimizer = tf.train.AdamOptimizer(learn_rate).minimize(cost)\n",
    "\n",
    "\n",
    "    # cycles feed forward + backprop\n",
    "    hm_epochs =400\n",
    "\n",
    "    with tf.Session() as sess:\n",
    "        sess.run(tf.global_variables_initializer())\n",
    "\n",
    "        # Train in each epoch with the whole data\n",
    "        for epoch in range(hm_epochs):\n",
    "\n",
    "            epoch_loss = 0\n",
    "            for step in range(N//batch_size):\n",
    "                for inputX, inputY in get_batch(x, y, batch_size):\n",
    "                    _, l = sess.run([optimizer,cost], feed_dict={x_ph:inputX, y_ph:inputY})\n",
    "                    epoch_loss += l\n",
    "            if epoch %10 == 0:\n",
    "                print('Epoch', epoch, 'completed out of', hm_epochs, 'loss:', epoch_loss)\n",
    "                Loss.append(epoch_loss)\n",
    "                Epoca.append(epoch)\n",
    "\n",
    "        # Predict a new input by adding a random number, to check whether the network has actually learned\n",
    "        x_valid = x + 0.0*np.random.normal(scale=0.1,size=(1))\n",
    "        return sess.run(tf.squeeze(prediction),{x_ph:x_valid}), x_valid,Epoca,Loss"
   ]
  },
  {
   "cell_type": "code",
   "execution_count": 122,
   "id": "8ac10087-d8ca-405a-b0d0-63f4e4289a7b",
   "metadata": {},
   "outputs": [
    {
     "name": "stderr",
     "output_type": "stream",
     "text": [
      "2023-12-28 11:38:17.436675: I tensorflow/stream_executor/cuda/cuda_gpu_executor.cc:980] successful NUMA node read from SysFS had negative value (-1), but there must be at least one NUMA node, so returning NUMA node zero\n",
      "2023-12-28 11:38:17.437374: I tensorflow/stream_executor/cuda/cuda_gpu_executor.cc:980] successful NUMA node read from SysFS had negative value (-1), but there must be at least one NUMA node, so returning NUMA node zero\n",
      "2023-12-28 11:38:17.437636: I tensorflow/stream_executor/cuda/cuda_gpu_executor.cc:980] successful NUMA node read from SysFS had negative value (-1), but there must be at least one NUMA node, so returning NUMA node zero\n",
      "2023-12-28 11:38:17.437964: I tensorflow/stream_executor/cuda/cuda_gpu_executor.cc:980] successful NUMA node read from SysFS had negative value (-1), but there must be at least one NUMA node, so returning NUMA node zero\n",
      "2023-12-28 11:38:17.438220: I tensorflow/stream_executor/cuda/cuda_gpu_executor.cc:980] successful NUMA node read from SysFS had negative value (-1), but there must be at least one NUMA node, so returning NUMA node zero\n",
      "2023-12-28 11:38:17.438442: I tensorflow/core/common_runtime/gpu/gpu_device.cc:1616] Created device /job:localhost/replica:0/task:0/device:GPU:0 with 128 MB memory:  -> device: 0, name: NVIDIA GeForce 940MX, pci bus id: 0000:01:00.0, compute capability: 5.0\n"
     ]
    },
    {
     "name": "stdout",
     "output_type": "stream",
     "text": [
      "Epoch 0 completed out of 400 loss: 28.606400793854846\n",
      "Epoch 10 completed out of 400 loss: 0.12956019445982747\n",
      "Epoch 20 completed out of 400 loss: 0.14350126025306054\n",
      "Epoch 30 completed out of 400 loss: 0.18729270273570364\n",
      "Epoch 40 completed out of 400 loss: 0.5584821741847463\n",
      "Epoch 50 completed out of 400 loss: 0.3726798663544173\n",
      "Epoch 60 completed out of 400 loss: 0.11164105146774261\n",
      "Epoch 70 completed out of 400 loss: 0.025041186640692104\n",
      "Epoch 80 completed out of 400 loss: 0.11656674791757382\n",
      "Epoch 90 completed out of 400 loss: 0.32462629690098765\n",
      "Epoch 100 completed out of 400 loss: 0.3236410089890569\n",
      "Epoch 110 completed out of 400 loss: 0.37327261862446903\n",
      "Epoch 120 completed out of 400 loss: 0.34180385127547197\n",
      "Epoch 130 completed out of 400 loss: 0.247430408729997\n",
      "Epoch 140 completed out of 400 loss: 0.2881262763075938\n",
      "Epoch 150 completed out of 400 loss: 0.8117034320384846\n",
      "Epoch 160 completed out of 400 loss: 0.16460590628184946\n",
      "Epoch 170 completed out of 400 loss: 0.029451534671608215\n",
      "Epoch 180 completed out of 400 loss: 0.041704721916111964\n",
      "Epoch 190 completed out of 400 loss: 0.31781308205989944\n",
      "Epoch 200 completed out of 400 loss: 0.01678736386759283\n",
      "Epoch 210 completed out of 400 loss: 0.08049529790639554\n",
      "Epoch 220 completed out of 400 loss: 0.18581725107269165\n",
      "Epoch 230 completed out of 400 loss: 0.10014991401715179\n",
      "Epoch 240 completed out of 400 loss: 0.18126953913213129\n",
      "Epoch 250 completed out of 400 loss: 0.01839671618643024\n",
      "Epoch 260 completed out of 400 loss: 0.003423758675147326\n",
      "Epoch 270 completed out of 400 loss: 0.0056791710660144545\n",
      "Epoch 280 completed out of 400 loss: 0.3844460900205604\n",
      "Epoch 290 completed out of 400 loss: 0.02048063222652985\n",
      "Epoch 300 completed out of 400 loss: 0.0176801682664518\n",
      "Epoch 310 completed out of 400 loss: 0.01992085424649659\n",
      "Epoch 320 completed out of 400 loss: 0.08058968287328128\n",
      "Epoch 330 completed out of 400 loss: 0.26897613236872076\n",
      "Epoch 340 completed out of 400 loss: 0.005839138762382845\n",
      "Epoch 350 completed out of 400 loss: 0.0031644781941224664\n",
      "Epoch 360 completed out of 400 loss: 0.027973045752787584\n",
      "Epoch 370 completed out of 400 loss: 0.1609025043154304\n",
      "Epoch 380 completed out of 400 loss: 0.13562015915486825\n",
      "Epoch 390 completed out of 400 loss: 0.0018981321706696974\n"
     ]
    }
   ],
   "source": [
    "# Train network\n",
    "tf.set_random_seed(42)\n",
    "pred, time,Epoca,Loss= train_neural_network_batch(x_ph)\n"
   ]
  },
  {
   "cell_type": "code",
   "execution_count": 125,
   "id": "d0bca443-7c1c-4426-abde-36774454b788",
   "metadata": {},
   "outputs": [
    {
     "data": {
      "text/plain": [
       "[<matplotlib.lines.Line2D at 0x7f0e341ec610>]"
      ]
     },
     "execution_count": 125,
     "metadata": {},
     "output_type": "execute_result"
    },
    {
     "data": {
      "image/png": "[encoded data removed]",
      "text/plain": [
       "<Figure size 640x480 with 1 Axes>"
      ]
     },
     "metadata": {},
     "output_type": "display_data"
    }
   ],
   "source": [
    "plt.plot(Epoca,Loss)\n",
    "#plt.ylim(0,2)"
   ]
  },
  {
   "cell_type": "code",
   "execution_count": 126,
   "id": "df54aaf4-4d95-4c4d-a933-88bb09c659b5",
   "metadata": {},
   "outputs": [
    {
     "data": {
      "image/png": "[encoded data removed]",
      "text/plain": [
       "<Figure size 640x480 with 1 Axes>"
      ]
     },
     "metadata": {},
     "output_type": "display_data"
    }
   ],
   "source": [
    "mypred = pred.reshape(N,1)\n",
    "\n",
    "# Compute Airy functions for exact solution\n",
    "ai, aip, bi, bip = special.airy(time)\n",
    "\n",
    "# Numerical solution vs. exact solution\n",
    "fig = plt.figure()\n",
    "plt.plot(time, A + B*time + (time*time)*mypred,label='Numerical')\n",
    "plt.plot(time, 0.5*(3.0**(1/6))*special.gamma(2/3)*(3**(1/2)*ai + bi),label='exact')\n",
    "plt.legend()\n",
    "plt.show()"
   ]
  },
  {
   "cell_type": "markdown",
   "id": "2c32ae92-5432-4235-b5ed-40f5e1a88514",
   "metadata": {},
   "source": [
    "# Setting up the problem\n",
    "Here, we will model a population f(t) in an environment having carrying capacity A. The population follows the model\n",
    "\n",
    " \n",
    "$$ \\dfrac{df(t)}{dt} = \\alpha f(A - f(t))$$\n",
    " \n",
    "where $f(0)=f_0$.\n",
    "\n",
    "In this example, we let $a=2$, A = 1 and $f_0=1.2$.\n",
    "\n",
    "## The trial solution\n",
    "We will get a slightly different trial solution, as the boundary conditions are different compared to the case for exponential decay.\n",
    "\n",
    "A possible trial solution satisfying the condition $f(0)=f_0$. could be\n",
    "\n",
    " \n",
    "$$ f_N(t)=f_0+t⋅N(t,P)$$\n",
    " \n",
    "with $N(t,P)$ being the output from the neural network with weights and biases for each layer collected in the set $P$.\n",
    "\n",
    "The analytical solution is\n",
    "$$ f(t)=\\dfrac{Ag_0}{g_0+(A−g_0)\\exp(−\\alpha At)}$$\n",
    " \n",
    " "
   ]
  },
  {
   "cell_type": "code",
   "execution_count": 37,
   "id": "b3d62054-72a4-4e52-be61-27b00a46f207",
   "metadata": {},
   "outputs": [],
   "source": [
    "# Define input / output placeholders\n",
    "import tensorflow.compat.v1 as tf\n",
    "tf.disable_v2_behavior()\n",
    "x_ph = tf.placeholder('float', [None, 1],name='input')\n",
    "y_ph = tf.placeholder('float')"
   ]
  },
  {
   "cell_type": "code",
   "execution_count": 52,
   "id": "8d379579-0252-46ae-954c-b3e217fc2669",
   "metadata": {},
   "outputs": [],
   "source": [
    "# Create the arrays x and y, where x is a discretization of the domain (a,b) and y is the source term f(x)\n",
    "N = 500\n",
    "a = 0\n",
    "b = 1\n",
    "\n",
    "alpha = 2\n",
    "x = np.arange(a, b, (b-a)/N).reshape((N,1))\n",
    "y = np.zeros(N)\n",
    "\n",
    "# Boundary conditions\n",
    "A = 1.0\n",
    "f0 = 1.2"
   ]
  },
  {
   "cell_type": "code",
   "execution_count": 96,
   "id": "f26d07cf-101f-41e5-91a0-aca0730c4626",
   "metadata": {},
   "outputs": [],
   "source": [
    "# Define the number of neurons in each layer\n",
    "n_nodes_hl1 = 100\n",
    "n_nodes_hl2 = 50\n",
    "n_nodes_hl3 = 25\n",
    "# Define the number of outputs and the learning rate\n",
    "n_classes = 1 #saida linear\n",
    "learn_rate = 0.001"
   ]
  },
  {
   "cell_type": "code",
   "execution_count": 128,
   "id": "6cbc91cb-0966-4d62-a5ad-b649a0926f27",
   "metadata": {},
   "outputs": [],
   "source": [
    "# Define input / output placeholders\n",
    "import tensorflow.compat.v1 as tf\n",
    "tf.disable_v2_behavior()\n",
    "x_ph = tf.placeholder('float', [None, 1],name='input')\n",
    "y_ph = tf.placeholder('float')"
   ]
  },
  {
   "cell_type": "code",
   "execution_count": 101,
   "id": "3088e02d-44ec-4036-8988-c2b6541578ab",
   "metadata": {},
   "outputs": [],
   "source": [
    "# Define standard deviation for the weights and biases\n",
    "hl_sigma = 0.02\n",
    "# Routine to compute the neural network (5 hidden layers)\n",
    "def neural_network_model(data):\n",
    "    hidden_1_layer = {'weights': tf.Variable(name='w_h1',initial_value=tf.random_normal([1, n_nodes_hl1], stddev=hl_sigma)),\n",
    "                      'biases': tf.Variable(name='b_h1',initial_value=tf.random_normal([n_nodes_hl1], stddev=hl_sigma))}\n",
    "\n",
    "    hidden_2_layer = {'weights': tf.Variable(name='w_h2',initial_value=tf.random_normal([n_nodes_hl1, n_nodes_hl2], stddev=hl_sigma)),\n",
    "                      'biases': tf.Variable(name='b_h2',initial_value=tf.random_normal([n_nodes_hl2], stddev=hl_sigma))}\n",
    "    \n",
    "\n",
    "    hidden_3_layer = {'weights': tf.Variable(name='w_h3',initial_value=tf.random_normal([n_nodes_hl2, n_nodes_hl3], stddev=hl_sigma)),\n",
    "                      'biases': tf.Variable(name='b_h3',initial_value=tf.random_normal([n_nodes_hl3], stddev=hl_sigma))}\n",
    "\n",
    "    output_layer = {'weights': tf.Variable(name='w_o',initial_value=tf.random_normal([n_nodes_hl3, n_classes], stddev=hl_sigma)),\n",
    "                      'biases': tf.Variable(name='b_o',initial_value=tf.random_normal([n_classes], stddev=hl_sigma))}\n",
    "\n",
    "\n",
    "    # (input_data * weights) + biases\n",
    "    l1 = tf.add(tf.matmul(data, hidden_1_layer['weights']), hidden_1_layer['biases'])\n",
    "    #l1 = tf.nn.leaky_relu(l1)   \n",
    "    l1 = tf.nn.sigmoid(l1)\n",
    "\n",
    "    l2 = tf.add(tf.matmul(l1, hidden_2_layer['weights']), hidden_2_layer['biases'])\n",
    "    #l2 = tf.nn.relu(l2)\n",
    "    l2 = tf.nn.sigmoid(l2)\n",
    "\n",
    "    l3 = tf.add(tf.matmul(l2, hidden_3_layer['weights']), hidden_3_layer['biases'])\n",
    "    #l2 = tf.nn.relu(l2)\n",
    "    l3 = tf.nn.sigmoid(l3)\n",
    "\n",
    "    output = tf.add(tf.matmul(l3, output_layer['weights']), output_layer['biases'], name='output')\n",
    "\n",
    "    return output"
   ]
  },
  {
   "cell_type": "code",
   "execution_count": 102,
   "id": "57efc7bc-7655-4af8-ad4c-054c9e446b77",
   "metadata": {},
   "outputs": [],
   "source": [
    "# Routine to train the neural network\n",
    "def train_neural_network_batch(x_ph,alpha,f0, predict=False):\n",
    "    Loss = []\n",
    "    Epoca = []\n",
    "    #u_N(x)\n",
    "    prediction = neural_network_model(x_ph)\n",
    "    #du_N/dt\n",
    "    pred_dt = tf.gradients(prediction, x_ph)\n",
    "    \n",
    "\n",
    "    # Compute u and its second derivative\n",
    "    u = f0 + x_ph*prediction\n",
    "    \n",
    "    dudt = x_ph*pred_dt +prediction\n",
    "\n",
    "    # The cost function is just the residual of u''(x) - x*u(x) = 0, i.e. residual = u''(x)-x*u(x)\n",
    "    cost = tf.reduce_mean(tf.square(dudt -alpha*u*(1 - u) ))\n",
    "    optimizer = tf.train.AdamOptimizer(learn_rate).minimize(cost)\n",
    "\n",
    "\n",
    "    # cycles feed forward + backprop\n",
    "    hm_epochs =1000\n",
    "\n",
    "    with tf.Session() as sess:\n",
    "        sess.run(tf.global_variables_initializer())\n",
    "\n",
    "        # Train in each epoch with the whole data\n",
    "        for epoch in range(hm_epochs):\n",
    "\n",
    "            epoch_loss = 0\n",
    "            for step in range(N//batch_size):\n",
    "                for inputX, inputY in get_batch(x, y, batch_size):\n",
    "                    _, l = sess.run([optimizer,cost], feed_dict={x_ph:inputX, y_ph:inputY})\n",
    "                    epoch_loss += l\n",
    "            if epoch %10 == 0:\n",
    "                print('Epoch', epoch, 'completed out of', hm_epochs, 'loss:', epoch_loss)\n",
    "                Loss.append(epoch_loss)\n",
    "                Epoca.append(epoch)\n",
    "\n",
    "        # Predict a new input by adding a random number, to check whether the network has actually learned\n",
    "        x_valid = x + 0.0*np.random.normal(scale=0.1,size=(1))\n",
    "        return sess.run(tf.squeeze(prediction),{x_ph:x_valid}), x_valid,Epoca,Loss"
   ]
  },
  {
   "cell_type": "code",
   "execution_count": 103,
   "id": "64869016-3d69-4463-b482-cf4070e950cc",
   "metadata": {},
   "outputs": [
    {
     "name": "stderr",
     "output_type": "stream",
     "text": [
      "2023-12-28 11:14:37.094744: I tensorflow/stream_executor/cuda/cuda_gpu_executor.cc:980] successful NUMA node read from SysFS had negative value (-1), but there must be at least one NUMA node, so returning NUMA node zero\n",
      "2023-12-28 11:14:37.095399: I tensorflow/stream_executor/cuda/cuda_gpu_executor.cc:980] successful NUMA node read from SysFS had negative value (-1), but there must be at least one NUMA node, so returning NUMA node zero\n",
      "2023-12-28 11:14:37.095634: I tensorflow/stream_executor/cuda/cuda_gpu_executor.cc:980] successful NUMA node read from SysFS had negative value (-1), but there must be at least one NUMA node, so returning NUMA node zero\n",
      "2023-12-28 11:14:37.095924: I tensorflow/stream_executor/cuda/cuda_gpu_executor.cc:980] successful NUMA node read from SysFS had negative value (-1), but there must be at least one NUMA node, so returning NUMA node zero\n",
      "2023-12-28 11:14:37.096159: I tensorflow/stream_executor/cuda/cuda_gpu_executor.cc:980] successful NUMA node read from SysFS had negative value (-1), but there must be at least one NUMA node, so returning NUMA node zero\n",
      "2023-12-28 11:14:37.096355: I tensorflow/core/common_runtime/gpu/gpu_device.cc:1616] Created device /job:localhost/replica:0/task:0/device:GPU:0 with 128 MB memory:  -> device: 0, name: NVIDIA GeForce 940MX, pci bus id: 0000:01:00.0, compute capability: 5.0\n"
     ]
    },
    {
     "name": "stdout",
     "output_type": "stream",
     "text": [
      "Epoch 0 completed out of 1000 loss: 6.855150154719013\n",
      "Epoch 10 completed out of 1000 loss: 0.4707683363958495\n",
      "Epoch 20 completed out of 1000 loss: 0.029917477652873004\n",
      "Epoch 30 completed out of 1000 loss: 0.0454326769971658\n",
      "Epoch 40 completed out of 1000 loss: 0.04835504995421047\n",
      "Epoch 50 completed out of 1000 loss: 0.0443302001604593\n",
      "Epoch 60 completed out of 1000 loss: 0.059415851133550746\n",
      "Epoch 70 completed out of 1000 loss: 0.006869011094205568\n",
      "Epoch 80 completed out of 1000 loss: 0.05419334714308377\n",
      "Epoch 90 completed out of 1000 loss: 0.030663825929099886\n",
      "Epoch 100 completed out of 1000 loss: 0.02308813946170929\n",
      "Epoch 110 completed out of 1000 loss: 0.013345733586596964\n",
      "Epoch 120 completed out of 1000 loss: 0.014705556981035706\n",
      "Epoch 130 completed out of 1000 loss: 0.006855501939642017\n",
      "Epoch 140 completed out of 1000 loss: 0.03824015314523166\n",
      "Epoch 150 completed out of 1000 loss: 0.002332278158082124\n",
      "Epoch 160 completed out of 1000 loss: 0.020091283005854166\n",
      "Epoch 170 completed out of 1000 loss: 0.0027452039764321867\n",
      "Epoch 180 completed out of 1000 loss: 0.030698054715990963\n",
      "Epoch 190 completed out of 1000 loss: 0.0037308937070488213\n",
      "Epoch 200 completed out of 1000 loss: 0.020155828116511287\n",
      "Epoch 210 completed out of 1000 loss: 0.009002110061434365\n",
      "Epoch 220 completed out of 1000 loss: 0.04576291089330198\n",
      "Epoch 230 completed out of 1000 loss: 0.031556078316596015\n",
      "Epoch 240 completed out of 1000 loss: 0.02915281035109274\n",
      "Epoch 250 completed out of 1000 loss: 0.027742315394791994\n",
      "Epoch 260 completed out of 1000 loss: 0.030721860944286306\n",
      "Epoch 270 completed out of 1000 loss: 0.022220979141749808\n",
      "Epoch 280 completed out of 1000 loss: 0.02499944853162006\n",
      "Epoch 290 completed out of 1000 loss: 0.025273996562113155\n",
      "Epoch 300 completed out of 1000 loss: 0.019497084359308303\n",
      "Epoch 310 completed out of 1000 loss: 0.01933272606321168\n",
      "Epoch 320 completed out of 1000 loss: 0.022716638631720798\n",
      "Epoch 330 completed out of 1000 loss: 0.023075548395340206\n",
      "Epoch 340 completed out of 1000 loss: 0.017045257689950688\n",
      "Epoch 350 completed out of 1000 loss: 0.012248116106434281\n",
      "Epoch 360 completed out of 1000 loss: 0.01704219131719853\n",
      "Epoch 370 completed out of 1000 loss: 0.018041865996942796\n",
      "Epoch 380 completed out of 1000 loss: 0.01388140679555594\n",
      "Epoch 390 completed out of 1000 loss: 0.01665736542998797\n",
      "Epoch 400 completed out of 1000 loss: 0.012242229906102686\n",
      "Epoch 410 completed out of 1000 loss: 0.011309820970929252\n",
      "Epoch 420 completed out of 1000 loss: 0.017033744953060648\n",
      "Epoch 430 completed out of 1000 loss: 0.010629872493993275\n",
      "Epoch 440 completed out of 1000 loss: 0.01938878375030173\n",
      "Epoch 450 completed out of 1000 loss: 0.011783060739624318\n",
      "Epoch 460 completed out of 1000 loss: 0.01500445568923503\n",
      "Epoch 470 completed out of 1000 loss: 0.013073700314336634\n",
      "Epoch 480 completed out of 1000 loss: 0.009732471679829047\n",
      "Epoch 490 completed out of 1000 loss: 0.013787398235688642\n",
      "Epoch 500 completed out of 1000 loss: 0.014997773838152817\n",
      "Epoch 510 completed out of 1000 loss: 0.011313828536300363\n",
      "Epoch 520 completed out of 1000 loss: 0.009970350701168584\n",
      "Epoch 530 completed out of 1000 loss: 0.011216052944226007\n",
      "Epoch 540 completed out of 1000 loss: 0.007342640191950522\n",
      "Epoch 550 completed out of 1000 loss: 0.005092139767784332\n",
      "Epoch 560 completed out of 1000 loss: 0.011944836669638192\n",
      "Epoch 570 completed out of 1000 loss: 0.012932320393502117\n",
      "Epoch 580 completed out of 1000 loss: 0.012330948397514696\n",
      "Epoch 590 completed out of 1000 loss: 0.012349856767045253\n",
      "Epoch 600 completed out of 1000 loss: 0.010797551502039315\n",
      "Epoch 610 completed out of 1000 loss: 0.008945828594534078\n",
      "Epoch 620 completed out of 1000 loss: 0.00789685188158984\n",
      "Epoch 630 completed out of 1000 loss: 0.01236745103386161\n",
      "Epoch 640 completed out of 1000 loss: 0.01056690868732435\n",
      "Epoch 650 completed out of 1000 loss: 0.011658361831027975\n",
      "Epoch 660 completed out of 1000 loss: 0.011165848870529516\n",
      "Epoch 670 completed out of 1000 loss: 0.00969481446871967\n",
      "Epoch 680 completed out of 1000 loss: 0.011788527708532115\n",
      "Epoch 690 completed out of 1000 loss: 0.01045523678636684\n",
      "Epoch 700 completed out of 1000 loss: 0.012099652744502976\n",
      "Epoch 710 completed out of 1000 loss: 0.010864228938105347\n",
      "Epoch 720 completed out of 1000 loss: 0.009696821585359672\n",
      "Epoch 730 completed out of 1000 loss: 0.011572090707968385\n",
      "Epoch 740 completed out of 1000 loss: 0.011421719532672903\n",
      "Epoch 750 completed out of 1000 loss: 0.008247057496217458\n",
      "Epoch 760 completed out of 1000 loss: 0.010741256061422177\n",
      "Epoch 770 completed out of 1000 loss: 0.008338166400134073\n",
      "Epoch 780 completed out of 1000 loss: 0.013901231441167283\n",
      "Epoch 790 completed out of 1000 loss: 0.011847517790361195\n",
      "Epoch 800 completed out of 1000 loss: 0.012095208367583155\n",
      "Epoch 810 completed out of 1000 loss: 0.0071802572988871605\n",
      "Epoch 820 completed out of 1000 loss: 0.009078001154147586\n",
      "Epoch 830 completed out of 1000 loss: 0.011614355123503284\n",
      "Epoch 840 completed out of 1000 loss: 0.009405338212125969\n",
      "Epoch 850 completed out of 1000 loss: 0.010650957275982975\n",
      "Epoch 860 completed out of 1000 loss: 0.010688908766830707\n",
      "Epoch 870 completed out of 1000 loss: 0.008784388501190232\n",
      "Epoch 880 completed out of 1000 loss: 0.007634702031920959\n",
      "Epoch 890 completed out of 1000 loss: 0.010241561716663128\n",
      "Epoch 900 completed out of 1000 loss: 0.011245700876699516\n",
      "Epoch 910 completed out of 1000 loss: 0.010153804552537338\n",
      "Epoch 920 completed out of 1000 loss: 0.012102296868045315\n",
      "Epoch 930 completed out of 1000 loss: 0.009835531538911368\n",
      "Epoch 940 completed out of 1000 loss: 0.009893454703366444\n",
      "Epoch 950 completed out of 1000 loss: 0.009800690501130083\n",
      "Epoch 960 completed out of 1000 loss: 0.0068979068472545535\n",
      "Epoch 970 completed out of 1000 loss: 0.007918793972074845\n",
      "Epoch 980 completed out of 1000 loss: 0.011191970201991808\n",
      "Epoch 990 completed out of 1000 loss: 0.009736870185308888\n"
     ]
    }
   ],
   "source": [
    "# Train network\n",
    "tf.set_random_seed(42)\n",
    "pred, time,Epoca,Loss= train_neural_network_batch(x_ph,alpha,f0)"
   ]
  },
  {
   "cell_type": "code",
   "execution_count": 107,
   "id": "25fd864f-f30b-44b8-8cb6-606cea3f47d3",
   "metadata": {},
   "outputs": [
    {
     "data": {
      "text/plain": [
       "(0.0, 0.2)"
      ]
     },
     "execution_count": 107,
     "metadata": {},
     "output_type": "execute_result"
    },
    {
     "data": {
      "image/png": "[encoded data removed]",
      "text/plain": [
       "<Figure size 640x480 with 1 Axes>"
      ]
     },
     "metadata": {},
     "output_type": "display_data"
    }
   ],
   "source": [
    "plt.plot(Epoca,Loss)\n",
    "plt.ylim(0,0.2)"
   ]
  },
  {
   "cell_type": "code",
   "execution_count": 108,
   "id": "4920c9ca-e75e-49a9-b54b-6c70c6fdb17f",
   "metadata": {},
   "outputs": [],
   "source": [
    "mypred = pred.reshape(N,1)"
   ]
  },
  {
   "cell_type": "code",
   "execution_count": 109,
   "id": "0451fac8-7f0e-42d1-a656-504a108aaf50",
   "metadata": {},
   "outputs": [],
   "source": [
    "def get_parameters():\n",
    "    alpha = 2\n",
    "    A = 1\n",
    "    g0 = 1.2\n",
    "    return alpha, A, g0"
   ]
  },
  {
   "cell_type": "code",
   "execution_count": 110,
   "id": "a721eae1-0e62-4c60-96a0-a127e026eb36",
   "metadata": {},
   "outputs": [],
   "source": [
    "def g_analytic(t):\n",
    "    alpha,A, g0 = get_parameters()\n",
    "    return A*g0/(g0 + (A - g0)*np.exp(-alpha*A*t))"
   ]
  },
  {
   "cell_type": "code",
   "execution_count": 111,
   "id": "a3f689bc-7948-4c0d-a3e9-3d55922c2f2b",
   "metadata": {},
   "outputs": [],
   "source": [
    "SE = g_analytic(x)"
   ]
  },
  {
   "cell_type": "code",
   "execution_count": 118,
   "id": "d54dd4b2-98b0-4b55-ae04-3a4aad5a758b",
   "metadata": {},
   "outputs": [
    {
     "data": {
      "text/plain": [
       "(0.9, 1.25)"
      ]
     },
     "execution_count": 118,
     "metadata": {},
     "output_type": "execute_result"
    },
    {
     "data": {
      "image/png": "[encoded data removed]",
      "text/plain": [
       "<Figure size 640x480 with 1 Axes>"
      ]
     },
     "metadata": {},
     "output_type": "display_data"
    }
   ],
   "source": [
    "SE =SE.reshape(-1)\n",
    "plt.plot(x,SE,label='Sol. exata\")\n",
    "plt.plot(x,f0+x*mypred, label='Sol. Numerica)\n",
    "plt.ylim(0.9,1.25)\n",
    "plt.legend()\n",
    "plt.show()"
   ]
  },
  {
   "cell_type": "code",
   "execution_count": null,
   "id": "178957cc-8053-43ad-a240-1c285990ff05",
   "metadata": {},
   "outputs": [],
   "source": []
  }
 ],
 "metadata": {
  "kernelspec": {
   "display_name": "Python 3 (ipykernel)",
   "language": "python",
   "name": "python3"
  },
  "language_info": {
   "codemirror_mode": {
    "name": "ipython",
    "version": 3
   },
   "file_extension": ".py",
   "mimetype": "text/x-python",
   "name": "python",
   "nbconvert_exporter": "python",
   "pygments_lexer": "ipython3",
   "version": "3.11.4"
  }
 },
 "nbformat": 4,
 "nbformat_minor": 5
}
