{
 "cells": [
  {
   "cell_type": "markdown",
   "metadata": {
    "colab_type": "text",
    "id": "Jy2NDvOFLowZ"
   },
   "source": [
    "## Regressão Linear\n",
    "\n",
    "Esta primeira parte cobrirá:\n",
    "* Uma simples implementação de uma rede neural\n",
    "* Conceitos como função objetivo (target function) e função de custo (cost function)\n",
    "* Otimização pelo gradiente descendente (gradient descent)\n",
    "\n",
    "Tudo isso será ilustrado com a ajuda da rede neural mais simples possível: um modelo de regressão linear de 1 entrada e de 1 saída que tem como objetivo prever o valor-alvo $t$ a partir do valor de entrada $x$. A rede é definida como tendo uma entrada $ \\mathbf{x}$ que é transformada pelo peso $w$ para gerar a saída $\\mathbf{y}$ pela equação $\\mathbf{y}=\\mathbf{x}*w$, sendo que $\\mathbf{y}$ precisa aproximar os targets $\\mathbf{t}$ da melhor forma possível, conforme definido por uma função de custo. Esta rede pode ser representada graficamente como:\n",
    "\n",
    "![Image of the simple neural network](https://peterroelants.github.io/images/neural_net_implementation/SimpleANN01.png)\n",
    "\n",
    "\n",
    "Em redes neurais regulares, normalmente temos várias camadas, funções de ativação não lineares e um bieas para cada nó. Neste primeiro exemplo, temos apenas uma camada com um parâmetro de peso $w$, uma função de ativação $z=\\phi(y)$ do tipo linear (i.e. $z=y$) na saída e nenhum bias. In [simple linear regression](http://en.wikipedia.org/wiki/Simple_linear_regression) o parâmetro $w$ e bias são tipicamente combinados no vetor de parâmetros, onde o bias define o intercept-y e $w$ é a inclinação da reta da regressão. Na regressão linear típica, esses parâmetros são tipicamente ajustados via método dos mínimos quadrados [least squares method](http://s-mat-pcs.oulu.fi/~mpa/matreng/ematr5_5.htm).\n",
    "\n",
    "Nesse exemplo, vamos aproximar os alvos $\\mathbf{t}$ com as saídas do modelo $y$, minimizando a função custo quadratica (= distância euclidiana ao quadrado). A função de custo de erro quadrático é definida como $\\frac{1}{2}\\Vert \\mathbf{y} - \\mathbf{t} \\Vert ^2$ (aqui o termo $\\frac{1}{2}$ é adicionado por nosso conveniência para facilitar a derivação futura). A minimização do custo será feita com via método de ótimização do [gradient descent](http://en.wikipedia.org/wiki/Gradient_descent) que é tipicamente usado no treinamento de redes neurais.\n",
    "\n",
    "Começamos por importar as bibliotecas que precisamos e definindo uma semente do gerador numérico aleatórios para que o exemplo seja reproduzível:"
   ]
  },
  {
   "cell_type": "code",
   "execution_count": 1,
   "metadata": {
    "colab": {},
    "colab_type": "code",
    "id": "IV1Gzr4KLowb"
   },
   "outputs": [],
   "source": [
    "# Python imports\n",
    "import numpy as np # Matrix and vector computation package\n",
    "import matplotlib.pyplot as plt  # Plotting library\n",
    "# Allow matplotlib to plot inside this notebook\n",
    "%matplotlib inline \n",
    "# Set the seed of the numpy random number generator so that the tutorial is reproducable\n",
    "np.random.seed(seed=1) "
   ]
  },
  {
   "cell_type": "markdown",
   "metadata": {
    "colab_type": "text",
    "id": "QTFc1yr8Lowh"
   },
   "source": [
    "## Definindo a função objetivo\n",
    "\n",
    "Neste exemplo, os alvos $\\mathbf{t}$ serão gerados a partir de uma função $\\mathit{f}$ e ruído gaussiano ([gaussian noise](http://en.wikipedia.org/wiki/Normal_distribution)) aditivo amostrado de $\\mathcal{N}(0, 0.2)$, onde $\\mathcal{N}$ é a distribuição normal com média $0$ e variância $0.2$. $f$ é definida como $f(x) = x * 2$, com $\\mathbf{x}$ as amostras de entrada, slope $2$ e intercept $0$. Logo $\\mathbf{t}$ é definida como $f(\\mathbf{x}) + \\mathcal{N}(0,0.2)$.\n",
    "\n",
    "Vamos amostrar 20 entradas $\\mathbf{x}$ com distribuição uniforme entre 0 e 1, e então gerar os valores de saída de destino $\\mathbf{t}$ pelo processo descrito acima. Estas entradas resultantes $\\mathbf{x}$ e alvos $\\mathbf{t}$ são representados um contra o outro na figura abaixo junto com a linha original $f(x)$ sem o ruído gaussiano. Note que $\\mathbf{x}$ é um vetor de amostras de entrada individuais $x_i$, e que $\\mathbf{t}$ é um vetor correspondente de valores alvo $t_i$."
   ]
  },
  {
   "cell_type": "code",
   "execution_count": 6,
   "metadata": {
    "colab": {},
    "colab_type": "code",
    "id": "WO_4nuvgLowj"
   },
   "outputs": [],
   "source": [
    "# Define the vector of input samples as x, with 20 values sampled from a uniform distribution\n",
    "# between 0 and 1\n",
    "x = np.random.uniform(0, 1, 20)\n",
    "\n",
    "# Generate the target values t from x with small gaussian noise so the estimation won't\n",
    "# be perfect.\n",
    "# Define a function f that represents the line that generates t without noise\n",
    "def f(x): return x * 2\n",
    "\n",
    "# Create the targets t with some gaussian noise\n",
    "noise_variance = 0.2  # Variance of the gaussian noise\n",
    "# Gaussian noise error for each sample in x\n",
    "noise = np.random.randn(x.shape[0]) * noise_variance\n",
    "# Create targets t\n",
    "t = f(x) + noise"
   ]
  },
  {
   "cell_type": "code",
   "execution_count": 3,
   "metadata": {
    "colab": {
     "base_uri": "https://localhost:8080/",
     "height": 300
    },
    "colab_type": "code",
    "executionInfo": {
     "elapsed": 1499,
     "status": "ok",
     "timestamp": 1590177830877,
     "user": {
      "displayName": "Dalcimar Casanova",
      "photoUrl": "https://lh3.googleusercontent.com/a-/AOh14GgZzFT0FCo6nTJjXLoCVlWF617XKFK9oco_RLrc-A=s64",
      "userId": "01490701818826847808"
     },
     "user_tz": 180
    },
    "id": "4uRDkObGLown",
    "outputId": "13b306a6-b832-4a44-c0ae-aa30ea8361c5"
   },
   "outputs": [
    {
     "data": {
      "image/png": "[encoded data removed]",
      "text/plain": [
       "<Figure size 432x288 with 1 Axes>"
      ]
     },
     "metadata": {
      "needs_background": "light"
     },
     "output_type": "display_data"
    }
   ],
   "source": [
    "# Plot the target t versus the input x\n",
    "plt.plot(x, t, 'o', label='t')\n",
    "# Plot the initial line\n",
    "plt.plot([0, 1], [f(0), f(1)], 'b-', label='f(x)')\n",
    "plt.xlabel('$x$', fontsize=15)\n",
    "plt.ylabel('$t$', fontsize=15)\n",
    "plt.ylim([0,2])\n",
    "plt.title('inputs (x) vs targets (t)')\n",
    "plt.grid()\n",
    "plt.legend(loc=2)\n",
    "plt.show()"
   ]
  },
  {
   "cell_type": "markdown",
   "metadata": {
    "colab_type": "text",
    "id": "olxSAj_OLowr"
   },
   "source": [
    "## Definindo a função de custo\n",
    "\n",
    "Nós iremos otimizar o modelo $\\mathbf{y} = \\mathbf{x} * w$ ajustando o parâmetro $w$ de forma que a função de custo quadratica [squared error cost](http://en.wikipedia.org/wiki/Euclidean_distance#Squared_Euclidean_distance) ao longo de todas as amostras seja minimizado. O custo do erro quadrático é definido como:\n",
    "\n",
    "$$\\xi = \\frac{1}{N}\\sum_{i=1}^N \\Vert y_i - t_i \\Vert ^ 2$$\n",
    "\n",
    "com $N$ o número de amostras no conjunto de treinamento. A meta de otimização é: $\\underset{w}{\\text{argmin}} \\frac{1}{N}\\sum_{i = 1}^{N} \\Vert y_i - t_i \\Vert ^ 2$.\n",
    "\n",
    "Observe que tomamos a soma dos erros em todas as amostras, o que é conhecido como treinamento em lote (batch). Poderíamos também atualizar os parâmetros com base em uma amostra por vez, o que é conhecido como treinamento online.\n",
    "\n",
    "Esta função de custo para a variável $w$ é representada na figura abaixo. O valor $w=2$ está no mínimo da função custo (parte inferior da parábola), esse valor é o mesmo valor que a inclinação que escolhemos para $f(x)$. Observe que essa função é convexa [convex](http://en.wikipedia.org/wiki/Convex_function) e que há apenas um mínimo: o mínimo global. Embora toda função de custo de erro quadratica para regressão linear seja convexa, esse não é o caso de outros modelos e outras funções de custo.\n",
    "\n",
    "O modelo de rede neural é implementado na função `nn(x, w)`, e a função custo é implementada na função `cost(y, t)`."
   ]
  },
  {
   "cell_type": "code",
   "execution_count": 4,
   "metadata": {
    "colab": {},
    "colab_type": "code",
    "id": "nguG0uPCLows"
   },
   "outputs": [],
   "source": [
    "# Define the neural network function y = x * w\n",
    "def nn(x, w):\n",
    "    y = x * w\n",
    "    return y\n",
    "\n",
    "def activation(y):\n",
    "    z = y\n",
    "    return z\n",
    "\n",
    "# Define the cost function\n",
    "def cost(y, t):\n",
    "    xi = (0.5*(y - t)**2).sum()\n",
    "    return xi"
   ]
  },
  {
   "cell_type": "code",
   "execution_count": 2,
   "metadata": {},
   "outputs": [
    {
     "data": {
      "text/plain": [
       "array([0.        , 0.04040404, 0.08080808, 0.12121212, 0.16161616,\n",
       "       0.2020202 , 0.24242424, 0.28282828, 0.32323232, 0.36363636,\n",
       "       0.4040404 , 0.44444444, 0.48484848, 0.52525253, 0.56565657,\n",
       "       0.60606061, 0.64646465, 0.68686869, 0.72727273, 0.76767677,\n",
       "       0.80808081, 0.84848485, 0.88888889, 0.92929293, 0.96969697,\n",
       "       1.01010101, 1.05050505, 1.09090909, 1.13131313, 1.17171717,\n",
       "       1.21212121, 1.25252525, 1.29292929, 1.33333333, 1.37373737,\n",
       "       1.41414141, 1.45454545, 1.49494949, 1.53535354, 1.57575758,\n",
       "       1.61616162, 1.65656566, 1.6969697 , 1.73737374, 1.77777778,\n",
       "       1.81818182, 1.85858586, 1.8989899 , 1.93939394, 1.97979798,\n",
       "       2.02020202, 2.06060606, 2.1010101 , 2.14141414, 2.18181818,\n",
       "       2.22222222, 2.26262626, 2.3030303 , 2.34343434, 2.38383838,\n",
       "       2.42424242, 2.46464646, 2.50505051, 2.54545455, 2.58585859,\n",
       "       2.62626263, 2.66666667, 2.70707071, 2.74747475, 2.78787879,\n",
       "       2.82828283, 2.86868687, 2.90909091, 2.94949495, 2.98989899,\n",
       "       3.03030303, 3.07070707, 3.11111111, 3.15151515, 3.19191919,\n",
       "       3.23232323, 3.27272727, 3.31313131, 3.35353535, 3.39393939,\n",
       "       3.43434343, 3.47474747, 3.51515152, 3.55555556, 3.5959596 ,\n",
       "       3.63636364, 3.67676768, 3.71717172, 3.75757576, 3.7979798 ,\n",
       "       3.83838384, 3.87878788, 3.91919192, 3.95959596, 4.        ])"
      ]
     },
     "execution_count": 2,
     "metadata": {},
     "output_type": "execute_result"
    }
   ],
   "source": [
    "ws = np.linspace(0, 4, num=100) \n",
    "ws"
   ]
  },
  {
   "cell_type": "code",
   "execution_count": 7,
   "metadata": {},
   "outputs": [
    {
     "data": {
      "text/plain": [
       "array([7.54307395, 7.24216845, 6.94758026, 6.65930938, 6.3773558 ,\n",
       "       6.10171952, 5.83240056, 5.56939889, 5.31271453, 5.06234748,\n",
       "       4.81829773, 4.58056529, 4.34915015, 4.12405232, 3.90527179,\n",
       "       3.69280857, 3.48666265, 3.28683404, 3.09332273, 2.90612873,\n",
       "       2.72525203, 2.55069264, 2.38245055, 2.22052577, 2.06491829,\n",
       "       1.91562812, 1.77265526, 1.6359997 , 1.50566144, 1.38164049,\n",
       "       1.26393685, 1.15255051, 1.04748147, 0.94872974, 0.85629532,\n",
       "       0.7701782 , 0.69037839, 0.61689588, 0.54973067, 0.48888278,\n",
       "       0.43435218, 0.3861389 , 0.34424291, 0.30866423, 0.27940286,\n",
       "       0.2564588 , 0.23983203, 0.22952258, 0.22553042, 0.22785558,\n",
       "       0.23649804, 0.2514578 , 0.27273487, 0.30032924, 0.33424092,\n",
       "       0.37446991, 0.4210162 , 0.47387979, 0.53306069, 0.5985589 ,\n",
       "       0.67037441, 0.74850722, 0.83295734, 0.92372477, 1.0208095 ,\n",
       "       1.12421154, 1.23393088, 1.34996753, 1.47232148, 1.60099274,\n",
       "       1.7359813 , 1.87728716, 2.02491034, 2.17885082, 2.3391086 ,\n",
       "       2.50568369, 2.67857608, 2.85778578, 3.04331278, 3.23515709,\n",
       "       3.4333187 , 3.63779762, 3.84859385, 4.06570738, 4.28913821,\n",
       "       4.51888635, 4.7549518 , 4.99733455, 5.2460346 , 5.50105196,\n",
       "       5.76238663, 6.0300386 , 6.30400788, 6.58429446, 6.87089834,\n",
       "       7.16381954, 7.46305803, 7.76861384, 8.08048694, 8.39867736])"
      ]
     },
     "execution_count": 7,
     "metadata": {},
     "output_type": "execute_result"
    }
   ],
   "source": [
    "np.vectorize(lambda w: cost(activation(nn(x, w)) , t))(ws)"
   ]
  },
  {
   "cell_type": "code",
   "execution_count": 11,
   "metadata": {
    "colab": {
     "base_uri": "https://localhost:8080/",
     "height": 300
    },
    "colab_type": "code",
    "executionInfo": {
     "elapsed": 1492,
     "status": "ok",
     "timestamp": 1590177830879,
     "user": {
      "displayName": "Dalcimar Casanova",
      "photoUrl": "https://lh3.googleusercontent.com/a-/AOh14GgZzFT0FCo6nTJjXLoCVlWF617XKFK9oco_RLrc-A=s64",
      "userId": "01490701818826847808"
     },
     "user_tz": 180
    },
    "id": "p6HXCbM5Lowv",
    "outputId": "fa4a9101-57ef-4716-8ab4-91070672ab88"
   },
   "outputs": [
    {
     "data": {
      "image/png": "[encoded data removed]",
      "text/plain": [
       "<Figure size 640x480 with 1 Axes>"
      ]
     },
     "metadata": {},
     "output_type": "display_data"
    }
   ],
   "source": [
    "# Plot the cost vs the given weight w\n",
    "\n",
    "# Define a vector of weights for which we want to plot the cost\n",
    "ws = np.linspace(0, 4, num=100)  # weight values\n",
    "cost_ws = np.vectorize(lambda w: cost(activation(nn(x, w)) , t))(ws)  # cost for each weight in ws\n",
    "#np.vectorize => simplemete coloca na formA DE ARRAY\n",
    "# Plot\n",
    "plt.plot(ws, cost_ws, 'r-')\n",
    "plt.xlabel('$w$', fontsize=15)\n",
    "plt.ylabel('$J(\\mathbf{w})$', fontsize=15)\n",
    "plt.title('cost vs. weight')\n",
    "plt.grid()\n",
    "plt.show()"
   ]
  },
  {
   "cell_type": "markdown",
   "metadata": {
    "colab_type": "text",
    "id": "4QI3o8N8Lowx"
   },
   "source": [
    "## Otimizando a função de custo\n",
    "\n",
    "Para uma função de custo simples, como neste exemplo, você pode ver facilmente qual deve ser o peso ideal. Mas a superfície de erro pode ser bastante [complexa](https://en.wikipedia.org/wiki/Rastrigin_function) ou ter uma alta dimensionalidade (cada parâmetro adicional $w_i$ adiciona uma nova dimensão). É por isso que usamos [técnicas de otimização](https://en.wikipedia.org/wiki/Mathematical_optimization) para encontrar o mínimo da função de erro.\n",
    "\n",
    "### Gradiente descendente\n",
    "\n",
    "Um algoritmo de otimização comumente usado para treinar redes neurais é o algoritmo do [gradient descent](http://en.wikipedia.org/wiki/Gradient_descent). O gradiente descendente funciona tomando a [derivada](http://en.wikipedia.org/wiki/Derivative) da função de custo $J(x)$ em relação aos parâmetros em uma posição específica nessa função de custo e atualiza os parâmetros na direção do gradiente negativo. O parâmetro $w$ é iterativamente atualizado, tomando medidas proporcionais ao negativo do gradiente:\n",
    "\n",
    "$$w^{k+1} = w^k + \\Delta w^k$$\n",
    "\n",
    "Com $w^k$ sendo o valor de $w$ na iteração $k$ durante a descida do gradiente. $\\Delta w$ é definido como:\n",
    "\n",
    "$$\\Delta w = -\\eta \\frac{\\partial \\xi}{\\partial w}$$\n",
    "\n",
    "Com $\\eta$ sendo a taxa de aprendizado, que é o tamanho do salto, e  $\\partial \\xi / \\partial w$ o gradiente da função de custo $\\xi$ em relação ao peso $w$. Para cada amostra $i$ este gradiente pode ser dividido de acordo com a [regra da cadeia](http://en.wikipedia.org/wiki/Chain_rule) em:\n",
    "$$\\xi_i = \\xi_i(y(x_i))$$\n",
    "$$\\frac{\\partial \\xi_i}{\\partial w} = \\frac{\\partial x_i}{\\partial w} \\frac{\\partial y_i}{\\partial x_i} \\frac{\\partial \\xi_i}{\\partial y_i}$$\n",
    "\n",
    "Onde $\\xi_i$ é o erro quadratido, então o termo ${\\partial \\xi_i} / {\\partial y_i}$ pode ser escrito como:\n",
    "\n",
    "$$\\frac{\\partial \\xi_i}{\\partial y_i} = \\frac{\\partial \\frac{1}{2}(y_i - t_i)^2}{\\partial y_i} = 2\\frac{1}{2} (y_i - t_i) =  (y_i - t_i)$$\n",
    "\n",
    "O segundo termo $z_i$ é a função de ativação, como nesse caso a mesma é linear $z_i = y_i$ então o termo ${\\partial y_i} / {\\partial z_i}$ pode ser escrito como:\n",
    "\n",
    "$$\\frac{\\partial y_i}{\\partial z_i} = 1$$\n",
    "\n",
    "E como $z_i = x_i * w$ podemos escrever ${\\partial z_i} / {\\partial w}$ como:\n",
    "\n",
    "$$\\frac{\\partial z_i}{\\partial w} = \\frac{\\partial (x_i * w)}{\\partial w} = x_i$$\n",
    "\n",
    "Assim, a função de atualização completa $\\Delta w$ para amostra $i$ se tornará:\n",
    "\n",
    "$$\\Delta w = -\\eta \\frac{\\partial \\xi_i}{\\partial w} = -\\eta  (y_i - t_i) x_i$$\n",
    "\n",
    "No processamento em lote (batch), apenas adicionamos todos os gradientes para cada amostra:\n",
    "\n",
    "$$\\Delta w = -\\eta \\sum_{i=1}^{N}(y_i - t_i)x_i$$\n",
    "\n",
    "Para iniciar o algoritmo de gradiente descendente, normalmente se inicia escolhendo os parâmetros iniciais aleatoriamente e começa a atualizar esses parâmetros com $\\Delta w$ até a convergência. A taxa de aprendizado precisa ser ajustada separadamente como um hiperparâmetro para cada rede neural.\n",
    "\n",
    "O gradiente ${\\partial \\xi} / {\\partial w}$ é implementado pela função `gradient(w, x, t)`. $\\Delta w$ é calculado pelo `delta_w(w_k, x, t, learning_rate)`. O loop abaixo executa 4 iterações de gradiente descendente enquanto imprime o valor do parâmetro e o custo atual."
   ]
  },
  {
   "cell_type": "code",
   "execution_count": 12,
   "metadata": {
    "colab": {
     "base_uri": "https://localhost:8080/",
     "height": 101
    },
    "colab_type": "code",
    "executionInfo": {
     "elapsed": 1486,
     "status": "ok",
     "timestamp": 1590177830880,
     "user": {
      "displayName": "Dalcimar Casanova",
      "photoUrl": "https://lh3.googleusercontent.com/a-/AOh14GgZzFT0FCo6nTJjXLoCVlWF617XKFK9oco_RLrc-A=s64",
      "userId": "01490701818826847808"
     },
     "user_tz": 180
    },
    "id": "vd473qTrLowz",
    "outputId": "9e090eb9-7888-4a3d-bf3c-4650a5087b70"
   },
   "outputs": [
    {
     "name": "stdout",
     "output_type": "stream",
     "text": [
      "w(0): 0.0000 \t cost: 7.5431\n",
      "w(1): 0.3763 \t cost: 4.9853\n",
      "w(2): 0.6798 \t cost: 3.3216\n",
      "w(3): 0.9245 \t cost: 2.2394\n",
      "w(4): 1.1219 \t cost: 1.5354\n",
      "w(5): 1.2811 \t cost: 1.0776\n",
      "w(6): 1.4095 \t cost: 0.7797\n",
      "w(7): 1.5131 \t cost: 0.5860\n",
      "w(8): 1.5966 \t cost: 0.4600\n",
      "w(9): 1.6639 \t cost: 0.3780\n",
      "w(10): 1.7183 \t cost: 0.3247\n",
      "w(11): 1.7621 \t cost: 0.2900\n",
      "w(12): 1.7974 \t cost: 0.2675\n",
      "w(13): 1.8259 \t cost: 0.2528\n",
      "w(14): 1.8489 \t cost: 0.2432\n",
      "w(15): 1.8675 \t cost: 0.2370\n",
      "w(16): 1.8824 \t cost: 0.2330\n",
      "w(17): 1.8945 \t cost: 0.2304\n",
      "w(18): 1.9042 \t cost: 0.2287\n",
      "w(19): 1.9120 \t cost: 0.2275\n",
      "w(20): 1.9184 \t cost: 0.2268\n",
      "w(21): 1.9235 \t cost: 0.2264\n",
      "w(22): 1.9276 \t cost: 0.2260\n",
      "w(23): 1.9309 \t cost: 0.2258\n",
      "w(24): 1.9336 \t cost: 0.2257\n",
      "w(25): 1.9357 \t cost: 0.2256\n",
      "w(26): 1.9375 \t cost: 0.2256\n",
      "w(27): 1.9389 \t cost: 0.2255\n",
      "w(28): 1.9400 \t cost: 0.2255\n",
      "w(29): 1.9409 \t cost: 0.2255\n",
      "w(30): 1.9417 \t cost: 0.2255\n",
      "w(31): 1.9422 \t cost: 0.2255\n",
      "w(32): 1.9427 \t cost: 0.2255\n",
      "w(33): 1.9431 \t cost: 0.2255\n",
      "w(34): 1.9434 \t cost: 0.2255\n",
      "w(35): 1.9437 \t cost: 0.2255\n",
      "w(36): 1.9439 \t cost: 0.2255\n",
      "w(37): 1.9440 \t cost: 0.2255\n",
      "w(38): 1.9442 \t cost: 0.2255\n",
      "w(39): 1.9443 \t cost: 0.2255\n",
      "w(40): 1.9444 \t cost: 0.2255\n",
      "w(41): 1.9444 \t cost: 0.2255\n",
      "w(42): 1.9445 \t cost: 0.2255\n",
      "w(43): 1.9445 \t cost: 0.2255\n",
      "w(44): 1.9446 \t cost: 0.2255\n",
      "w(45): 1.9446 \t cost: 0.2255\n",
      "w(46): 1.9446 \t cost: 0.2255\n",
      "w(47): 1.9446 \t cost: 0.2255\n",
      "w(48): 1.9447 \t cost: 0.2255\n",
      "w(49): 1.9447 \t cost: 0.2255\n",
      "w(50): 1.9447 \t cost: 0.2255\n",
      "w(51): 1.9447 \t cost: 0.2255\n",
      "w(52): 1.9447 \t cost: 0.2255\n",
      "w(53): 1.9447 \t cost: 0.2255\n",
      "w(54): 1.9447 \t cost: 0.2255\n",
      "w(55): 1.9447 \t cost: 0.2255\n",
      "w(56): 1.9447 \t cost: 0.2255\n",
      "w(57): 1.9447 \t cost: 0.2255\n",
      "w(58): 1.9447 \t cost: 0.2255\n",
      "w(59): 1.9447 \t cost: 0.2255\n",
      "w(60): 1.9447 \t cost: 0.2255\n",
      "w(61): 1.9447 \t cost: 0.2255\n",
      "w(62): 1.9447 \t cost: 0.2255\n",
      "w(63): 1.9447 \t cost: 0.2255\n",
      "w(64): 1.9447 \t cost: 0.2255\n",
      "w(65): 1.9447 \t cost: 0.2255\n",
      "w(66): 1.9447 \t cost: 0.2255\n",
      "w(67): 1.9447 \t cost: 0.2255\n",
      "w(68): 1.9447 \t cost: 0.2255\n",
      "w(69): 1.9447 \t cost: 0.2255\n",
      "w(70): 1.9447 \t cost: 0.2255\n",
      "w(71): 1.9447 \t cost: 0.2255\n",
      "w(72): 1.9447 \t cost: 0.2255\n",
      "w(73): 1.9447 \t cost: 0.2255\n",
      "w(74): 1.9447 \t cost: 0.2255\n",
      "w(75): 1.9447 \t cost: 0.2255\n",
      "w(76): 1.9447 \t cost: 0.2255\n",
      "w(77): 1.9447 \t cost: 0.2255\n",
      "w(78): 1.9447 \t cost: 0.2255\n",
      "w(79): 1.9447 \t cost: 0.2255\n",
      "w(80): 1.9447 \t cost: 0.2255\n",
      "w(81): 1.9447 \t cost: 0.2255\n",
      "w(82): 1.9447 \t cost: 0.2255\n",
      "w(83): 1.9447 \t cost: 0.2255\n",
      "w(84): 1.9447 \t cost: 0.2255\n",
      "w(85): 1.9447 \t cost: 0.2255\n",
      "w(86): 1.9447 \t cost: 0.2255\n",
      "w(87): 1.9447 \t cost: 0.2255\n",
      "w(88): 1.9447 \t cost: 0.2255\n",
      "w(89): 1.9447 \t cost: 0.2255\n",
      "w(90): 1.9447 \t cost: 0.2255\n",
      "w(91): 1.9447 \t cost: 0.2255\n",
      "w(92): 1.9447 \t cost: 0.2255\n",
      "w(93): 1.9447 \t cost: 0.2255\n",
      "w(94): 1.9447 \t cost: 0.2255\n",
      "w(95): 1.9447 \t cost: 0.2255\n",
      "w(96): 1.9447 \t cost: 0.2255\n",
      "w(97): 1.9447 \t cost: 0.2255\n",
      "w(98): 1.9447 \t cost: 0.2255\n",
      "w(99): 1.9447 \t cost: 0.2255\n",
      "w(100): 1.9447 \t cost: 0.2255\n",
      "w(101): 1.9447 \t cost: 0.2255\n",
      "w(102): 1.9447 \t cost: 0.2255\n",
      "w(103): 1.9447 \t cost: 0.2255\n",
      "w(104): 1.9447 \t cost: 0.2255\n",
      "w(105): 1.9447 \t cost: 0.2255\n",
      "w(106): 1.9447 \t cost: 0.2255\n",
      "w(107): 1.9447 \t cost: 0.2255\n",
      "w(108): 1.9447 \t cost: 0.2255\n",
      "w(109): 1.9447 \t cost: 0.2255\n",
      "w(110): 1.9447 \t cost: 0.2255\n",
      "w(111): 1.9447 \t cost: 0.2255\n",
      "w(112): 1.9447 \t cost: 0.2255\n",
      "w(113): 1.9447 \t cost: 0.2255\n",
      "w(114): 1.9447 \t cost: 0.2255\n",
      "w(115): 1.9447 \t cost: 0.2255\n",
      "w(116): 1.9447 \t cost: 0.2255\n",
      "w(117): 1.9447 \t cost: 0.2255\n",
      "w(118): 1.9447 \t cost: 0.2255\n",
      "w(119): 1.9447 \t cost: 0.2255\n",
      "w(120): 1.9447 \t cost: 0.2255\n",
      "w(121): 1.9447 \t cost: 0.2255\n",
      "w(122): 1.9447 \t cost: 0.2255\n",
      "w(123): 1.9447 \t cost: 0.2255\n",
      "w(124): 1.9447 \t cost: 0.2255\n",
      "w(125): 1.9447 \t cost: 0.2255\n",
      "w(126): 1.9447 \t cost: 0.2255\n",
      "w(127): 1.9447 \t cost: 0.2255\n",
      "w(128): 1.9447 \t cost: 0.2255\n",
      "w(129): 1.9447 \t cost: 0.2255\n",
      "w(130): 1.9447 \t cost: 0.2255\n",
      "w(131): 1.9447 \t cost: 0.2255\n",
      "w(132): 1.9447 \t cost: 0.2255\n",
      "w(133): 1.9447 \t cost: 0.2255\n",
      "w(134): 1.9447 \t cost: 0.2255\n",
      "w(135): 1.9447 \t cost: 0.2255\n",
      "w(136): 1.9447 \t cost: 0.2255\n",
      "w(137): 1.9447 \t cost: 0.2255\n",
      "w(138): 1.9447 \t cost: 0.2255\n",
      "w(139): 1.9447 \t cost: 0.2255\n",
      "w(140): 1.9447 \t cost: 0.2255\n",
      "w(141): 1.9447 \t cost: 0.2255\n",
      "w(142): 1.9447 \t cost: 0.2255\n",
      "w(143): 1.9447 \t cost: 0.2255\n",
      "w(144): 1.9447 \t cost: 0.2255\n",
      "w(145): 1.9447 \t cost: 0.2255\n",
      "w(146): 1.9447 \t cost: 0.2255\n",
      "w(147): 1.9447 \t cost: 0.2255\n",
      "w(148): 1.9447 \t cost: 0.2255\n",
      "w(149): 1.9447 \t cost: 0.2255\n",
      "w(150): 1.9447 \t cost: 0.2255\n",
      "w(151): 1.9447 \t cost: 0.2255\n",
      "w(152): 1.9447 \t cost: 0.2255\n",
      "w(153): 1.9447 \t cost: 0.2255\n",
      "w(154): 1.9447 \t cost: 0.2255\n",
      "w(155): 1.9447 \t cost: 0.2255\n",
      "w(156): 1.9447 \t cost: 0.2255\n",
      "w(157): 1.9447 \t cost: 0.2255\n",
      "w(158): 1.9447 \t cost: 0.2255\n",
      "w(159): 1.9447 \t cost: 0.2255\n",
      "w(160): 1.9447 \t cost: 0.2255\n",
      "w(161): 1.9447 \t cost: 0.2255\n",
      "w(162): 1.9447 \t cost: 0.2255\n",
      "w(163): 1.9447 \t cost: 0.2255\n",
      "w(164): 1.9447 \t cost: 0.2255\n",
      "w(165): 1.9447 \t cost: 0.2255\n",
      "w(166): 1.9447 \t cost: 0.2255\n",
      "w(167): 1.9447 \t cost: 0.2255\n",
      "w(168): 1.9447 \t cost: 0.2255\n",
      "w(169): 1.9447 \t cost: 0.2255\n",
      "w(170): 1.9447 \t cost: 0.2255\n",
      "w(171): 1.9447 \t cost: 0.2255\n",
      "w(172): 1.9447 \t cost: 0.2255\n",
      "w(173): 1.9447 \t cost: 0.2255\n",
      "w(174): 1.9447 \t cost: 0.2255\n",
      "w(175): 1.9447 \t cost: 0.2255\n",
      "w(176): 1.9447 \t cost: 0.2255\n",
      "w(177): 1.9447 \t cost: 0.2255\n",
      "w(178): 1.9447 \t cost: 0.2255\n",
      "w(179): 1.9447 \t cost: 0.2255\n",
      "w(180): 1.9447 \t cost: 0.2255\n",
      "w(181): 1.9447 \t cost: 0.2255\n",
      "w(182): 1.9447 \t cost: 0.2255\n",
      "w(183): 1.9447 \t cost: 0.2255\n",
      "w(184): 1.9447 \t cost: 0.2255\n",
      "w(185): 1.9447 \t cost: 0.2255\n",
      "w(186): 1.9447 \t cost: 0.2255\n",
      "w(187): 1.9447 \t cost: 0.2255\n",
      "w(188): 1.9447 \t cost: 0.2255\n",
      "w(189): 1.9447 \t cost: 0.2255\n",
      "w(190): 1.9447 \t cost: 0.2255\n",
      "w(191): 1.9447 \t cost: 0.2255\n",
      "w(192): 1.9447 \t cost: 0.2255\n",
      "w(193): 1.9447 \t cost: 0.2255\n",
      "w(194): 1.9447 \t cost: 0.2255\n",
      "w(195): 1.9447 \t cost: 0.2255\n",
      "w(196): 1.9447 \t cost: 0.2255\n",
      "w(197): 1.9447 \t cost: 0.2255\n",
      "w(198): 1.9447 \t cost: 0.2255\n",
      "w(199): 1.9447 \t cost: 0.2255\n",
      "w(200): 1.9447 \t cost: 0.2255\n"
     ]
    }
   ],
   "source": [
    "# define the gradient function. Remember that y = nn(x, w) = x * w => grad_w =n* x(y-t)\n",
    "def gradient(w, x, t): \n",
    "    return x * (activation(nn(x, w)) - t)\n",
    "\n",
    "# define the update function delta w. Batch formula\n",
    "def delta_w(w_k, x, t, learning_rate):\n",
    "    return learning_rate * gradient(w_k, x, t).sum()\n",
    "\n",
    "# Set the initial weight parameter\n",
    "w = 0.0\n",
    "# Set the learning rate\n",
    "learning_rate = 0.05\n",
    "\n",
    "# Start performing the gradient descent updates, and print the weights and cost:\n",
    "nb_of_iterations = 200  # number of gradient descent updates\n",
    "w_cost = [(w, cost(nn(x, w), t))] # List to store the weight,costs values\n",
    "for i in range(nb_of_iterations):\n",
    "    dw = delta_w(w, x, t, learning_rate)  # Get the delta w update\n",
    "    w = w - dw  # Update the current weight parameter\n",
    "    w_cost.append((w, cost(activation(nn(x, w)), t)))  # Add weight,cost to list\n",
    "\n",
    "# Print the final w, and cost\n",
    "for i in range(0, len(w_cost)):\n",
    "    print('w({}): {:.4f} \\t cost: {:.4f}'.format(i, w_cost[i][0], w_cost[i][1]))"
   ]
  },
  {
   "cell_type": "markdown",
   "metadata": {
    "colab_type": "text",
    "id": "GOpxHKHsLow2"
   },
   "source": [
    "Observe no resultado anterior que o algoritmo de descida de gradiente converge rapidamente para o valor alvo em torno de 2.0. Vamos tentar plotar essas iterações do algoritmo de gradiente descendente para visualizá-lo mais."
   ]
  },
  {
   "cell_type": "code",
   "execution_count": 13,
   "metadata": {
    "colab": {
     "base_uri": "https://localhost:8080/",
     "height": 300
    },
    "colab_type": "code",
    "executionInfo": {
     "elapsed": 2041,
     "status": "ok",
     "timestamp": 1590177831442,
     "user": {
      "displayName": "Dalcimar Casanova",
      "photoUrl": "https://lh3.googleusercontent.com/a-/AOh14GgZzFT0FCo6nTJjXLoCVlWF617XKFK9oco_RLrc-A=s64",
      "userId": "01490701818826847808"
     },
     "user_tz": 180
    },
    "id": "GNNZiYkdLow3",
    "outputId": "d5772d6c-4415-4c33-cfe6-00b7cd255706"
   },
   "outputs": [
    {
     "data": {
      "image/png": "[encoded data removed]",
      "text/plain": [
       "<Figure size 640x480 with 1 Axes>"
      ]
     },
     "metadata": {},
     "output_type": "display_data"
    }
   ],
   "source": [
    "# Plot the first 2 gradient descent updates\n",
    "plt.plot(ws, cost_ws, 'r-')  # Plot the error curve\n",
    "# Plot the updates\n",
    "for i in range(0, len(w_cost)-1):\n",
    "    w1, c1 = w_cost[i]\n",
    "    w2, c2 = w_cost[i+1]\n",
    "    plt.plot(w1, c1, 'bo')\n",
    "    plt.plot([w1, w2],[c1, c2], 'b-')\n",
    "    plt.text(w1, c1+0.5, '$w^{}$'.format(i)) \n",
    "    plt.plot(w2, c2, 'bo') # Plot the final point\n",
    "    plt.text(w2, c2+0.5, '$w^{}$'.format(i+1)) # Text the final point\n",
    "# Show figure\n",
    "plt.xlabel('$w$', fontsize=15)\n",
    "plt.ylabel('$\\\\xi$', fontsize=15)\n",
    "plt.title('Gradient descent updates plotted on cost function')\n",
    "plt.grid()\n",
    "plt.show()"
   ]
  },
  {
   "cell_type": "markdown",
   "metadata": {
    "colab_type": "text",
    "id": "BrVoYfS3Low5"
   },
   "source": [
    "#### Gradiente descendente iterativo\n",
    "\n",
    "A última figura mostra as atualizações de gradiente descendente dos parâmetros de peso para 2 iterações. Os pontos azuis representam os valores dos parâmetros de peso $w^k$ na iteração $k$. Observe como a atualização difere da posição do peso e do gradiente naquele ponto. A primeira atualização leva um passo muito maior do que a segunda atualização porque o gradiente em $w^0$ é muito maior que o gradiente em $w^1$.\n",
    "\n",
    "A linha de regressão ajustada por gradiente descendente com 10 iterações é mostrada na figura abaixo. A linha ajustada (vermelha) fica perto da linha original (azul), que é o que tentamos aproximar através das amostras com ruído. Note que ambas as linhas passam pelo ponto $(0,0)$, isto é porque nós não temos um termo de bias, que representa o intercept, o intercept em $x = 0$ é, portanto, $t = 0$."
   ]
  },
  {
   "cell_type": "code",
   "execution_count": 19,
   "metadata": {
    "colab": {},
    "colab_type": "code",
    "id": "EeQrLCsJLow6"
   },
   "outputs": [
    {
     "name": "stdout",
     "output_type": "stream",
     "text": [
      "0.3762793828016388\n",
      "0.6797535166311927\n",
      "0.9245092861816812\n",
      "1.1219079440913455\n",
      "1.2811124858927543\n",
      "1.409512984652962\n",
      "1.5130696287996819\n",
      "1.596589386514625\n",
      "1.6639491391045194\n",
      "1.7182756409181132\n",
      "1.7620906593204404\n",
      "1.7974280319380143\n",
      "1.8259280748239242\n",
      "1.8489137238502118\n",
      "1.8674519437144663\n",
      "1.8824032550888987\n",
      "1.8944616788993889\n",
      "1.9041869518973178\n",
      "1.9120305089302\n",
      "1.9183564379751925\n",
      "1.9234583806415764\n",
      "1.9275731626421229\n",
      "1.9308917869425446\n",
      "1.9335682998771029\n",
      "1.9357269417842171\n",
      "1.9374679140855218\n",
      "1.9388720305088716\n",
      "1.940004468359171\n",
      "1.9409177939662683\n",
      "1.9416544027473672\n",
      "1.9422484871485661\n",
      "1.9427276238148727\n",
      "1.9431140536631168\n",
      "1.9434257142771227\n",
      "1.9436770725476185\n",
      "1.9438797962069687\n",
      "1.9440432954305245\n",
      "1.944175159645037\n",
      "1.9442815098202295\n",
      "1.9443672825964546\n"
     ]
    }
   ],
   "source": [
    "w = 0\n",
    "# Start performing the gradient descent updates\n",
    "nb_of_iterations = 40  # number of gradient descent updates\n",
    "for i in range(nb_of_iterations):\n",
    "    dw = delta_w(w, x, t, learning_rate)  # get the delta w update\n",
    "    w = w - dw  # update the current weight parameter\n",
    "    print(w)"
   ]
  },
  {
   "cell_type": "code",
   "execution_count": 20,
   "metadata": {
    "colab": {
     "base_uri": "https://localhost:8080/",
     "height": 295
    },
    "colab_type": "code",
    "executionInfo": {
     "elapsed": 2034,
     "status": "ok",
     "timestamp": 1590177831444,
     "user": {
      "displayName": "Dalcimar Casanova",
      "photoUrl": "https://lh3.googleusercontent.com/a-/AOh14GgZzFT0FCo6nTJjXLoCVlWF617XKFK9oco_RLrc-A=s64",
      "userId": "01490701818826847808"
     },
     "user_tz": 180
    },
    "id": "xSysgWwcLow-",
    "outputId": "47966e3f-0851-49c4-e3a1-091c9db467a7"
   },
   "outputs": [
    {
     "data": {
      "image/png": "[encoded data removed]",
      "text/plain": [
       "<Figure size 640x480 with 1 Axes>"
      ]
     },
     "metadata": {},
     "output_type": "display_data"
    }
   ],
   "source": [
    "# Plot the fitted line agains the target line\n",
    "# Plot the target t versus the input x\n",
    "plt.plot(x, t, 'o', label='t')\n",
    "# Plot the initial line\n",
    "plt.plot([0, 1], [f(0), f(1)], 'b-', label='f(x)')\n",
    "# plot the fitted line\n",
    "plt.plot([0, 1], [0*w, 1*w], 'r-', label='fitted line')\n",
    "plt.xlabel('input x')\n",
    "plt.ylabel('target t')\n",
    "plt.ylim([0,2])\n",
    "plt.title('input vs. target')\n",
    "plt.grid()\n",
    "plt.legend(loc=2)\n",
    "plt.show()"
   ]
  },
  {
   "cell_type": "markdown",
   "metadata": {
    "colab_type": "text",
    "id": "ycqwC62kLoxB"
   },
   "source": [
    "# Análise\n",
    "\n",
    "Sabemos que o GD convergirá se estabelermos uma taxa de aprendizado adequada. Então, a questão aqui é como a taxa de aprendizado afeta a convergência? Para esclarer, vamos mostrar algumas animações de GD aplicadas para encontrar o mínimo de $f(x) = x^2-4x + 2$.\n",
    "\n",
    "![gradient3](https://miro.medium.com/max/600/1*Q-2Wh0Xcy6fsGkbPFJvMhQ.gif)\n",
    "\n",
    "Pela figura acima vemos facilmente que, quanto mais você aumenta a taxa de aprendizado, mais rápido o seu GD converge. No entanto, se a taxa de aprendizado for muito grande ($\\eta = 1.02$, por exemplo), o algoritmo irá divergir. Às vezes, seu algoritmo também pode convergir lentamente, embora você tenha definido uma grande taxa de aprendizado. A razão é explicada claramente na abaixo.\n",
    "\n",
    "![gradient4](https://github.com/dalcimar/neural_net_implementation/blob/master/gradient4.gif?raw=true)\n",
    "\n",
    "Escolher uma taxa de aprendizado adequada é um pouco difícil em Machine Learning (ML), algumas técnicas como validação, ajuste de hiperparâmetros e aprendizado adaptativo são utilizadas para solução desse problema. Vermos tais técnicas mais a frente.\n",
    "\n",
    "### GD para funções não convexas\n",
    "\n",
    "![gradient5](https://github.com/dalcimar/neural_net_implementation/blob/master/gradient5.png?raw=true)\n",
    "\n",
    "A foto acima é um meme engraçado sobre o GD. Existem várias razões que fazem com que o GD não consiga encontrar a solução ideal, como a complexidade da função se ser minimizadao. Aqui nos concentramos no ponto inicial e na taxa de aprendizado.\n",
    "\n",
    "#### Ponto inicial\n",
    "\n",
    "Como mencionado, a posição do ponto de partida não afeta a convergência do GD muito nas funções convexas. No entanto, para as funções não-convexas, o ponto inicial desempenha um papel decisivo. Vamos ilustrar com animações sob uma função definida como $f(x) = x^2 + 8cos (x) - 3x$.\n",
    "\n",
    "![gradient6](https://github.com/dalcimar/neural_net_implementation/blob/master/gradient6.gif?raw=true)\n",
    "\n",
    "Como podemos ver, o ponto inicializado à direita converge para o mínimo global, enquanto o ponto mais à esquerda fica preso no mínimo local. \n",
    "Outro exemplos de como o ponto inicial afeta a convergência pode ser dado pela função $f (x, y) = (1-\\frac{1}{2}x + x^5 + y^3)^{e(-x^2-y^2)}$.\n",
    "\n",
    "![gradient7](https://github.com/dalcimar/neural_net_implementation/blob/master/gradient7.gif?raw=true)\n",
    "\n",
    "![gradient8](https://github.com/dalcimar/neural_net_implementation/blob/master/gradient8.gif?raw=true)\n",
    "![gradient9](https://nikcheerla.github.io/deeplearningschool//media/loss3d.gif)\n",
    "\n",
    "#### Taxa de Aprendizagem\n",
    "Para funções não convexas, a taxa de aprendizado não é usada apenas para acelerar a velocidade de convergência, mas também para fazer com que o algoritmo escape dos mínimos locais. Uma demonstração clara é mostrada na figura abaixo:\n",
    "\n",
    "![gradient9](https://github.com/dalcimar/neural_net_implementation/blob/master/gradient9.gif?raw=true)\n",
    "\n",
    "Podemos ver que ajustando a taxa de aprendizado em $0.0005$ (número muito pequeno) nosso algoritmo convergiu para o mínimo global. Às vezes, uma pequena mudança faz algo grande. E se o exército prussiano chegasse a Waterloo um pouco tarde? Bem, Napoleão poderia esmagar o exército de Wellington e governar a Europa novamente. Quem sabe?\n",
    "\n",
    "No entanto, uma taxa de aprendizado grande o suficiente às vezes não é uma boa escolha e pode causar o fenômeno de que a DG converge primeiro e depois oscilará ao redor dos mínimos como mostrado abaixo.\n",
    "\n",
    "![gradient10](https://github.com/dalcimar/neural_net_implementation/blob/master/gradient10.gif?raw=true)\n",
    "\n",
    "Embora o GD seja muito fácil de ficar preso em mínimos locais, ele ainda é usado amplamente porque beneficia a computação e a memória em comparação com outros algoritmos, como o método de Newton. Por causa disso, o GD é freqüentemente usado no Deep Learning. Mais a frente veremos variações do GD que, na verdade, adaptações da taxa de aprendizado do GD para ajudar o GD a convergir para um mínimo local melhor ou mesmo para o global.\n",
    "\n",
    "#### Alternativas ao GD\n",
    "\n",
    "![gradientnomomentuim](http://www.eleven-lab.co.jp/blog/wp-content/uploads/2019/08/nomomentum1d.gif)\n",
    "\n",
    "![gradientmomentuim](http://www.eleven-lab.co.jp/blog/wp-content/uploads/2019/08/momentum1d.gif)\n",
    "\n",
    "![gradientall](https://miro.medium.com/max/620/0*wWp-AHgQr-agFkwX.gif)\n"
   ]
  },
  {
   "cell_type": "code",
   "execution_count": null,
   "metadata": {},
   "outputs": [],
   "source": []
  }
 ],
 "metadata": {
  "colab": {
   "collapsed_sections": [],
   "name": "linear-regr-gd2.ipynb",
   "provenance": []
  },
  "kernelspec": {
   "display_name": "Python 3 (ipykernel)",
   "language": "python",
   "name": "python3"
  },
  "language_info": {
   "codemirror_mode": {
    "name": "ipython",
    "version": 3
   },
   "file_extension": ".py",
   "mimetype": "text/x-python",
   "name": "python",
   "nbconvert_exporter": "python",
   "pygments_lexer": "ipython3",
   "version": "3.11.4"
  }
 },
 "nbformat": 4,
 "nbformat_minor": 4
}
